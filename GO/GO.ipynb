{
 "cells": [
  {
   "cell_type": "markdown",
   "metadata": {},
   "source": [
    "<h1 style=\"text-align: center; font-weight: bold;\">Introducción a Go</h1>\n",
    "   \n",
    "\n",
    "<center><img src=\"./go-pet.png\" alt=\"Go Pet\" width=\"400\"></center>\n",
    "\n",
    "**Go** (también conocido como **Golang**) es un lenguaje de programación desarrollado por Google en 2009. Fue diseñado para ser simple, eficiente y fácil de usar, con un enfoque en la concurrencia y el rendimiento. Go es utilizado en una amplia variedad de aplicaciones, desde sistemas backend de alta escala hasta herramientas de desarrollo.\n",
    "\n",
    "---\n",
    "## Instalacion de Kernel de Go\n",
    "\n",
    "- Windows:\n",
    "\n",
    "Ver con mas detalles la instalacion: https://github.com/gopherdata/gophernotes?tab=readme-ov-file#windows\n",
    "\n",
    "1. **Descargue gophernotes dentro de GOPATH, compílelo e instálelo**:\n",
    "   #### Terminal:\n",
    "   go env GOPATH > temp.txt <br>\n",
    "   set /p GOPATH =< temp.txt <br>\n",
    "   mkdir %GOPATH%\\src\\github.com\\gopherdata </br>\n",
    "   cd /d %GOPATH%\\src\\github.com\\gopherdata </br>\n",
    "   git clone https://github.com/gopherdata/gophernotes </br>\n",
    "   cd gophernotes </br>\n",
    "   git checkout -f v0.7.5 </br>\n",
    "   go install </br>\n",
    "\n",
    "2. **Copiar la configuración del kernel**:\n",
    "   #### Terminal:\n",
    "   mkdir %APPDATA%\\jupyter\\kernels\\gophernotes </br>\n",
    "   xcopy %GOPATH%\\src\\github.com\\gopherdata\\gophernotes\\kernel %APPDATA%\\jupyter\\kernels\\gophernotes /s </br>\n",
    "\n",
    "\n",
    "- Docker: \n",
    "\n",
    "1. **Puedes probar o ejecutar Jupyter + gophernotes sin instalar nada usando Docker. Para ejecutar un notebook de Go que solo necesita elementos de la biblioteca estándar, ejecuta**:\n",
    "\n",
    "   #### Terminal:\n",
    "     docker run -it -p 8888:8888 gopherdata/gophernotes\n",
    "\n",
    "2. **O para ejecutar un cuaderno Go con acceso a paquetes comunes de ciencia de datos Go (gonum, gota, golearn, etc.), ejecute**:\n",
    "\n",
    "   #### Terminal:\n",
    "     docker run -it -p 8888:8888 gopherdata/gophernotes:latest-ds\n",
    "\n",
    "3. **En cualquier caso, al ejecutar este comando se debería generar un enlace que puede seguir para acceder a Jupyter en un navegador. Además, para guardar cuadernos en una ubicación fuera de la imagen de Docker o cargarlos desde ella, debe utilizar un montaje de volumen. Por ejemplo**:\n",
    "\n",
    "   #### Terminal:\n",
    "     docker run -it -p 8888:8888 -v /path/to/local/notebooks:/path/to/notebooks/in/docker gopherdata/gophernotes\n",
    "   \n",
    "\n",
    "---\n",
    "\n",
    "## Ventajas de Go\n",
    "\n",
    "1. **Simplicidad**:  \n",
    "   Go tiene una sintaxis sencilla y limpia, lo que lo hace fácil de aprender para programadores nuevos y experimentados.\n",
    "\n",
    "2. **Concurrencia eficiente**:  \n",
    "   Gracias a su modelo de concurrencia basado en **goroutines** y **channels**, es ideal para construir sistemas que requieren alta concurrencia y paralelismo.\n",
    "\n",
    "3. **Rendimiento**:  \n",
    "   Go es un lenguaje compilado que genera ejecutables binarios eficientes, proporcionando un rendimiento cercano al de C/C++.\n",
    "\n",
    "4. **Compilación rápida**:  \n",
    "   La velocidad de compilación de Go es muy alta, lo que mejora el flujo de trabajo del desarrollador.\n",
    "\n",
    "5. **Gran ecosistema y comunidad**:  \n",
    "   Go cuenta con una amplia gama de bibliotecas, herramientas y una comunidad activa que respalda su desarrollo.\n",
    "\n",
    "6. **Soporte nativo para testing**:  \n",
    "   Go incluye herramientas integradas para realizar pruebas, como el paquete `testing`.\n",
    "\n",
    "---\n",
    "\n",
    "## Casos de uso\n",
    "\n",
    "- **Desarrollo backend**: Ideal para crear APIs y servidores web.\n",
    "- **Sistemas distribuidos**: Herramientas como Docker y Kubernetes están construidas en Go.\n",
    "- **DevOps**: Muchas herramientas de automatización utilizan Go gracias a su rendimiento y portabilidad.\n",
    "\n",
    "\n",
    "\n",
    "---"
   ]
  },
  {
   "cell_type": "markdown",
   "metadata": {},
   "source": [
    "###  `package main` y `fmt` en GO\n",
    "\n",
    "- **`package main`:**    \n",
    "  En GO, todos los archivos pertenecen a un paquete. El paquete `main` tiene un significado especial porque es el punto de entrada para programas ejecutables.\n",
    "  Si quieres crear un programa que se pueda ejecutar de forma independiente, debes usar el paquete main y definir una función `main()` dentro de él.\n",
    "\n",
    "- **`fmt`:**  \n",
    "  Es un paquete estándar que proporciona funciones para la entrada y salida de datos. Por ejemplo:\n",
    "  - **`fmt.Println`**: Imprime un mensaje seguido de un salto de línea.\n",
    "  - **`fmt.Printf`**: Imprime mensajes con formato personalizado.\n",
    "\n",
    "#### Definiendo **package** e importando **fmt**:\n",
    "\n"
   ]
  },
  {
   "cell_type": "code",
   "execution_count": 11,
   "metadata": {},
   "outputs": [],
   "source": [
    "package main\n",
    "\n",
    "import \"fmt\"\n"
   ]
  },
  {
   "cell_type": "markdown",
   "metadata": {},
   "source": [
    "### Ejemplo Básico de la Estructura del Lenguaje Go:"
   ]
  },
  {
   "cell_type": "code",
   "execution_count": 12,
   "metadata": {},
   "outputs": [
    {
     "name": "stdout",
     "output_type": "stream",
     "text": [
      "Hola, Juan\n"
     ]
    }
   ],
   "source": [
    "func main() {\n",
    "    nombre := \"Juan\"\n",
    "    fmt.Println(\"Hola,\", nombre)\n",
    "}\n",
    "main()"
   ]
  },
  {
   "cell_type": "markdown",
   "metadata": {},
   "source": [
    "## **Comentarios en Go**\n",
    "\n",
    "Los comentarios son una parte esencial de cualquier código bien escrito. Permiten a los desarrolladores explicar lo que hace el código, dejar notas para futuras referencias y documentar el propósito de ciertas secciones del código. Aunque los comentarios no afectan la ejecución del programa, son vitales para la legibilidad y el mantenimiento del código.\n",
    "\n",
    "### **Tipos de Comentarios en Go**:\n",
    "\n",
    "Go soporta dos tipos principales de comentarios:\n",
    "\n",
    "1. Comentarios de una sola línea\n",
    "2. Comentarios de múltiples líneas\n",
    "\n",
    "#### **Comentarios de una sola linea**:\n",
    "\n",
    "Los comentarios de una sola línea en Go se escriben utilizando //. Todo lo que esté a la derecha de // en esa línea se considerará un comentario y será ignorado por el compilador.\n",
    "\n",
    "#### **Comentarios de multiples lineaa**:\n",
    "\n",
    "Los comentarios de múltiples líneas, también conocidos como comentarios de bloque, se escriben utilizando /* para comenzar el comentario y */ para terminarlo. Todo lo que esté entre /* y */ se considerará un comentario."
   ]
  },
  {
   "cell_type": "markdown",
   "metadata": {},
   "source": [
    "### Ejemplo de como usar los Comentarios:"
   ]
  },
  {
   "cell_type": "code",
   "execution_count": 3,
   "metadata": {},
   "outputs": [
    {
     "name": "stdout",
     "output_type": "stream",
     "text": [
      "Hola, Mundo\n"
     ]
    }
   ],
   "source": [
    "func main() {\n",
    "    // Comentario de una sola linea\n",
    "    fmt.Println(\"Hola, Mundo\")\n",
    "\t/* Esto\n",
    "\tes un comentario\n",
    "\tde multiples lineas\n",
    "\t*/\n",
    "}\n",
    "main()"
   ]
  },
  {
   "cell_type": "markdown",
   "metadata": {},
   "source": [
    "## **1.Declaración de Variables**\n",
    "\n",
    "Una de las características más importantes de Go son las variables, que permiten a los desarrolladores declarar y manipular datos de una manera simple y efectiva.\n",
    "\n",
    "Una variable en Go es una entidad que se utiliza para almacenar un valor en memoria, que puede ser accedido y modificado a lo largo de la ejecución del programa.\n",
    "\n",
    "las variables se utilizan para representar información, como números, cadenas de texto, booleanos, y otros tipos de datos más complejos, como estructuras y maps.\n",
    "\n",
    "En GO, se utiliza la palabra reservada **var** para declarar las variables.\n",
    "\n",
    "También se puede usar la asignación corta con los signos (**:=**) pero sólo se puede usar dentro de **funciones**, en este caso no se necesita especificar el tipo, GO lo asigna en función del valor asignado\n",
    "\n",
    "Si no se asigna valor a una variable global, GO le asigna el valor **cero** por defecto según el tipo.\n",
    "- int: 0\n",
    "- float: 0.0\n",
    "- bool: false\n",
    "- string: \"\" (cadena vacía)\n",
    "\n",
    "#### Ejemplo de declaración de variables:"
   ]
  },
  {
   "cell_type": "code",
   "execution_count": 93,
   "metadata": {},
   "outputs": [
    {
     "name": "stdout",
     "output_type": "stream",
     "text": [
      "Estudiante 1:  Juan , Edad:  25 , Activo: true\n",
      "Estudiante 2:  Manuel , Edad:  25 , Activo: true\n"
     ]
    }
   ],
   "source": [
    "// Declaración explícita con tipo\n",
    " var Estudiante_1 string = \"Juan\"\n",
    " var edad_Estudiante_1 int = 25\n",
    " var activo_Estudiante_1 bool = true\n",
    "\n",
    "func main() {\n",
    "    // Asignación corta de variables\n",
    "    edad := 25         // Go infiere que es un int\n",
    "    nombre := \"Manuel\"  // Go infiere que es un string\n",
    "    activo := true     // Go infiere que es un bool\n",
    "\n",
    "    fmt.Println(\"Estudiante 2: \",nombre,\", Edad: \",edad,\", Activo:\",activo)\n",
    "}\n",
    "fmt.Println(\"Estudiante 1: \",nombre_explicito,\", Edad: \",edad_explicita,\", Activo:\",activo_Estudiante_1)\n",
    "main()"
   ]
  },
  {
   "cell_type": "markdown",
   "metadata": {},
   "source": [
    "#### **Declaración de variables de tipo estático en Go**:\n",
    "\n",
    "En Go, el tipo de una variable es estático, lo que significa que el tipo de la variable se define en el momento de la declaración y no puede ser cambiado después. Cuando se declara una variable en Go, se especifica su tipo de datos, que debe ser un tipo válido de Go, como int, float, string, bool, entre otros."
   ]
  },
  {
   "cell_type": "code",
   "execution_count": 7,
   "metadata": {},
   "outputs": [],
   "source": [
    "var edad int = 25\n",
    "\n",
    "var numero int\n",
    "numero = 25"
   ]
  },
  {
   "cell_type": "markdown",
   "metadata": {},
   "source": [
    "#### **Declaración de variables por Inferencia de tipo en Go**:\n",
    "\n",
    "Aunque en Go el tipo de una variable se define estáticamente en el momento de la declaración, existe una característica llamada inferencia de tipo que permite omitir la declaración explícita del tipo de la variable y dejar que el compilador infiera el tipo de datos en función del valor asignado.\n",
    "\n",
    "La inferencia de tipo se realiza mediante el uso del operador :=, que se utiliza para declarar e inicializar una variable al mismo tiempo, sin necesidad de especificar el tipo de datos."
   ]
  },
  {
   "cell_type": "code",
   "execution_count": 8,
   "metadata": {},
   "outputs": [],
   "source": [
    "// Declaración explícita del tipo\n",
    "var persona struct {\n",
    "    nombre string\n",
    "    edad   int\n",
    "    altura float64\n",
    "}\n",
    "\n",
    "// Inferencia de tipo\n",
    "persona := struct {\n",
    "    nombre string\n",
    "    edad   int\n",
    "    altura float64\n",
    "}{\n",
    "    nombre: \"Juan\",\n",
    "    edad:   25,\n",
    "    altura: 1.75,\n",
    "}"
   ]
  },
  {
   "cell_type": "markdown",
   "metadata": {},
   "source": [
    "### **Variables Globales**:\n",
    "\n",
    "Las variables globales se declaran fuera de cualquier función y están disponibles en todo el programa. Pueden ser accedidas y modificadas desde cualquier parte del código."
   ]
  },
  {
   "cell_type": "code",
   "execution_count": 14,
   "metadata": {},
   "outputs": [
    {
     "name": "stdout",
     "output_type": "stream",
     "text": [
      "Edad: 28\n"
     ]
    }
   ],
   "source": [
    "// Declarar una variable global de tipo entero\n",
    "var edad int = 28\n",
    "\n",
    "func main() {\n",
    "   // Acceder a la variable global\n",
    "   fmt.Println(\"Edad:\", edad)\n",
    "}\n",
    "main()"
   ]
  },
  {
   "cell_type": "markdown",
   "metadata": {},
   "source": [
    "### **Variables Locales**:\n",
    "\n",
    "Por otro lado, las variables locales se declaran dentro de una función y están disponibles solo dentro de esa función. No se pueden acceder ni modificar desde fuera de la función."
   ]
  },
  {
   "cell_type": "code",
   "execution_count": 15,
   "metadata": {},
   "outputs": [
    {
     "name": "stdout",
     "output_type": "stream",
     "text": [
      "Cantidad: 10\n",
      "Nombre: Juan\n"
     ]
    }
   ],
   "source": [
    "func main() {\n",
    "\t// Declarar una variable local de tipo entero\n",
    "\tvar cantidad int = 10\n",
    " \n",
    "\t// Declarar una variable local sin especificar el tipo de dato\n",
    "\tnombre := \"Juan\"\n",
    " \n",
    "\t// Mostrar el valor de las variables locales\n",
    "\tfmt.Println(\"Cantidad:\", cantidad)\n",
    "\tfmt.Println(\"Nombre:\", nombre)\n",
    " }\n",
    "main()"
   ]
  },
  {
   "cell_type": "markdown",
   "metadata": {},
   "source": [
    "### Otros aspectos importantes sobre las variables serian:\n",
    "\n",
    "#### **Declaración en Bloque**\n",
    "Puedes declarar múltiples variables o constantes usando `var` o `const`"
   ]
  },
  {
   "cell_type": "code",
   "execution_count": 6,
   "metadata": {},
   "outputs": [],
   "source": [
    "//Declaración de múltiples variables\n",
    "var (\n",
    "    nombre   string = \"Go\"\n",
    "    version  float32 = 1.19\n",
    "    esActivo bool    = true\n",
    ")\n",
    "\n",
    "const (\n",
    "    const1   string = \"Constante\"\n",
    "    const2  float32 = 0.1\n",
    "    const3 bool    = false\n",
    ")\n",
    "\n",
    "const x, y, z int = 1, 2, 3\n",
    "\n",
    "var u, v, w float32 = 1.30, 6.90, 5.00\n"
   ]
  },
  {
   "cell_type": "markdown",
   "metadata": {},
   "source": [
    "#### **Shadowing de variables**\n",
    "Si se declara una variable local con el mismo nombre que una global, la local \"oculta\" temporalmente la global en ese ámbito.\n"
   ]
  },
  {
   "cell_type": "code",
   "execution_count": 95,
   "metadata": {},
   "outputs": [
    {
     "name": "stdout",
     "output_type": "stream",
     "text": [
      "Mensaje local\n",
      "Mensaje global\n"
     ]
    }
   ],
   "source": [
    "var mensaje string = \"Mensaje global\" // Variable global\n",
    "\n",
    "func main() {\n",
    "    mensaje := \"Mensaje local\" // Oculta la variable global\n",
    "    fmt.Println(mensaje)       // Imprime: Mensaje local\n",
    "    mostrarGlobal()\n",
    "}\n",
    "\n",
    "func mostrarGlobal() {\n",
    "    fmt.Println(mensaje) // Imprime: Mensaje global\n",
    "}\n",
    "\n",
    "main()\n"
   ]
  },
  {
   "cell_type": "markdown",
   "metadata": {},
   "source": [
    "### **Reglas para nombrar Variables**:\n",
    "\n",
    "Un identificador es un nombre que se asigna a diferentes elementos de un programa, como variables, funciones, tipos, paquetes, y más. Los identificadores te permiten hacer referencia a estos elementos en tu código.\n",
    "\n",
    "Go tiene reglas estrictas para la creación de identificadores. Estas reglas aseguran que los identificadores sean únicos y que no interfieran con las palabras clave del lenguaje.\n",
    "\n",
    "#### Reglas Básicas:\n",
    "\n",
    "1. **Comienzo con Letra o Guion Bajo**: Un identificador debe comenzar con una letra (a-z, A-Z) o un guion bajo (_).\n",
    "\n",
    "2. **Uso de Letras y Números**: Después del primer carácter, los identificadores pueden contener letras, números (0-9), y guion bajo.\n",
    "\n",
    "3. **Distinción entre Mayúsculas y Minúsculas**: Go distingue entre mayúsculas y minúsculas, lo que significa que nombre, Nombre, y NOMBRE son identificadores diferentes.\n",
    "\n",
    "4. **No se Permiten Palabras Clave**: No puedes usar palabras clave del lenguaje como identificadores. Por ejemplo, func, var, if, y for no pueden ser utilizados como nombres de variables o funciones."
   ]
  },
  {
   "cell_type": "markdown",
   "metadata": {},
   "source": [
    "---"
   ]
  },
  {
   "cell_type": "markdown",
   "metadata": {},
   "source": [
    "## **2.Tipos de Datos**\n",
    "Go es un lenguaje que cuenta con un fuerte tipado. Los principales tipos son:\n",
    "- Números: `int` ,  `float64`\n",
    "- Cadenas: `string`\n",
    "- Booleanos: `bool`\n",
    "- Arreglos y slices: `[]int`\n",
    "- Estructuras: `struct`\n",
    "\n",
    "#### Ejemplo de declaración de los distintos tipos de datos:\n"
   ]
  },
  {
   "cell_type": "code",
   "execution_count": 96,
   "metadata": {},
   "outputs": [
    {
     "name": "stdout",
     "output_type": "stream",
     "text": [
      "10 20.5 Hola true\n"
     ]
    }
   ],
   "source": [
    "//La asignacion de package y la importacion de fmt se realiza previamente\n",
    "\n",
    "func main() {\n",
    "    var entero int = 10\n",
    "    var flotante float64 = 20.5\n",
    "    var texto string = \"Hola\"\n",
    "    var booleano bool = true\n",
    "\n",
    "    fmt.Println(entero, flotante, texto, booleano)\n",
    "}\n",
    "\n",
    "main()"
   ]
  },
  {
   "cell_type": "markdown",
   "metadata": {},
   "source": [
    "---"
   ]
  },
  {
   "cell_type": "markdown",
   "metadata": {},
   "source": [
    "## **3. Condicionales**\n",
    "En Go, los condicionales se utilizan para tomar decisiones en función de una condición. La forma básica de un condicional es:\n",
    "```go\n",
    "if condicion{\n",
    "    //Cuerpo de la condicion\n",
    "}\n",
    "```\n",
    "### **Estructuras Condicionales en GO:**\n",
    "#### `if`\n",
    "El if es una estructura de control que permite ejecutar un bloque de código solo si una condición especificada es verdadera. Si la condición es falsa, el bloque de código dentro del if no se ejecuta.x\n",
    "##### Estructura básica del `if`\n"
   ]
  },
  {
   "cell_type": "code",
   "execution_count": 97,
   "metadata": {},
   "outputs": [
    {
     "name": "stdout",
     "output_type": "stream",
     "text": [
      "x es mayor que 10\n"
     ]
    }
   ],
   "source": [
    "var x int = 11\n",
    "if x > 10 {\n",
    "    fmt.Println(\"x es mayor que 10\")\n",
    "}"
   ]
  },
  {
   "cell_type": "markdown",
   "metadata": {},
   "source": [
    "#### `if - else`\n",
    "El `if-else` es una extensión del `if` que permite ejecutar un bloque de código diferente cuando la condición es falsa. Si la condición es verdadera, se ejecuta el bloque dentro del `if`, pero si es falsa, se ejecuta el bloque dentro del else.\n",
    "\n",
    "##### **Ejemplo:**"
   ]
  },
  {
   "cell_type": "code",
   "execution_count": 98,
   "metadata": {},
   "outputs": [
    {
     "name": "stdout",
     "output_type": "stream",
     "text": [
      "x no es mayor que 10\n"
     ]
    }
   ],
   "source": [
    "var x int = 6\n",
    "\n",
    "if x > 10 {\n",
    "    fmt.Println(\"x es mayor que 10\")\n",
    "} else {\n",
    "    fmt.Println(\"x no es mayor que 10\")\n",
    "}"
   ]
  },
  {
   "cell_type": "markdown",
   "metadata": {},
   "source": [
    "#### `if - else if - else`\n",
    "El `if- else if -else` permite evaluar múltiples condiciones en secuencia. Si la primera condición es falsa, se verifica la siguiente condición con `else if`, y si ninguna de ellas es verdadera, se ejecuta el bloque final dentro del `else`.\n",
    "\n",
    "##### **Ejemplo:**"
   ]
  },
  {
   "cell_type": "code",
   "execution_count": 99,
   "metadata": {},
   "outputs": [
    {
     "name": "stdout",
     "output_type": "stream",
     "text": [
      "x es igual a 10\n"
     ]
    }
   ],
   "source": [
    "var x int = 10\n",
    "\n",
    "if x > 10 {\n",
    "    fmt.Println(\"x es mayor que 10\")\n",
    "} else if x == 10 {\n",
    "    fmt.Println(\"x es igual a 10\")\n",
    "} else {\n",
    "    fmt.Println(\"x es menor que 10\")\n",
    "}\n"
   ]
  },
  {
   "cell_type": "markdown",
   "metadata": {},
   "source": [
    "#### Declaración dentro del `if`\n",
    "En Go, también es posible declarar variables dentro de un bloque if. Esta declaración es válida solo dentro de ese bloque y permite utilizar variables que solo existen durante la evaluación de la condición.\n",
    "\n",
    "##### **Ejemplo**"
   ]
  },
  {
   "cell_type": "code",
   "execution_count": 100,
   "metadata": {},
   "outputs": [
    {
     "name": "stdout",
     "output_type": "stream",
     "text": [
      "x es menor o igual a 10\n"
     ]
    }
   ],
   "source": [
    "if x := 5; x > 10 {\n",
    "    fmt.Println(\"x es mayor que 10\")\n",
    "} else {\n",
    "    fmt.Println(\"x es menor o igual a 10\")\n",
    "}"
   ]
  },
  {
   "cell_type": "markdown",
   "metadata": {},
   "source": [
    "#### `switch`\n",
    "El `switch` es una estructura de control de flujo que permite ejecutar diferentes bloques de código dependiendo del valor de una expresión. Es una alternativa más limpia y ordenada al uso de múltiples condicionales if-else if. El `switch` compara el valor de una expresión con varias posibilidades (casos) y ejecuta el bloque correspondiente cuando encuentra una coincidencia.\n",
    "\n",
    "Si no se proporciona una expresión en el switch, Go evalúa cada caso como una comparación booleana. Esto es útil para realizar múltiples condiciones.\n",
    "\n",
    "##### `fallthrough`\n",
    "En Go, si no se usa la palabra clave `fallthrough`, el `switch` termina después de encontrar un caso coincidente y no evalúa los siguientes casos. Sin embargo, si se utiliza `fallthrough`, la ejecución continuará hacia el siguiente caso, aunque no haya coincidencia.\n",
    "\n",
    "#### **Ejemplo** "
   ]
  },
  {
   "cell_type": "code",
   "execution_count": 101,
   "metadata": {},
   "outputs": [
    {
     "name": "stdout",
     "output_type": "stream",
     "text": [
      "x es mayor que 10\n",
      "y es uno\n",
      "y es dos\n",
      "y es tres\n"
     ]
    }
   ],
   "source": [
    "var x int = 12\n",
    "\n",
    "switch true {\n",
    "case x > 10:\n",
    "    fmt.Println(\"x es mayor que 10\")\n",
    "case x == 10:\n",
    "    fmt.Println(\"x es igual a 10\")\n",
    "default:\n",
    "    fmt.Println(\"x es menor que 10\")\n",
    "}\n",
    "\n",
    "var y int = 1\n",
    "//Ejemplo con fallthrough\n",
    "switch y {\n",
    "case 1:\n",
    "    fmt.Println(\"y es uno\")\n",
    "    fallthrough\n",
    "case 2:\n",
    "    fmt.Println(\"y es dos\")\n",
    "    fallthrough\n",
    "case 3:\n",
    "    fmt.Println(\"y es tres\")\n",
    "}\n",
    "\n",
    "/* Comentario Multi-Linea\n",
    "Se imprimen todo los casos ya que el fallthrough permite continuar \n",
    "hacia el siguiente caso aunque no haya coincidencia\n",
    "*/\n"
   ]
  },
  {
   "cell_type": "markdown",
   "metadata": {},
   "source": [
    "## **4. Bucles**\n",
    "Los bucles son estructuras de control que permiten ejecutar un bloque de código repetidamente, mientras se cumpla una condición específica. Son útiles cuando necesitas realizar una tarea varias veces sin tener que escribir el mismo código repetidamente.\n",
    "\n",
    "Go tiene un solo tipo de bucle: el for, que se puede usar de varias maneras para cubrir las funcionalidades típicas de otros lenguajes, como while o do-while.\n",
    "\n",
    "### Bucle `for`\n",
    "el bucle `for` se puede aplicar de distintas maneras:\n",
    "\n",
    "#### **Sintáxis Básica**\n",
    "La sintáxis básica del `for` en GO es similar a otros lenguajes:\n",
    "\n",
    "En este caso el bucle se ejecuta desde `i=0` hasta `i<10` y se incrementa el valor de i en 1 por cada iteración del ciclo e imprime el valor de `i` + `\" - \"` en cada iteración\n"
   ]
  },
  {
   "cell_type": "code",
   "execution_count": 102,
   "metadata": {},
   "outputs": [
    {
     "name": "stdout",
     "output_type": "stream",
     "text": [
      "0 - 1 - 2 - 3 - 4 - 5 - 6 - 7 - 8 - 9 - "
     ]
    }
   ],
   "source": [
    "for i := 0; i < 10; i++ {\n",
    "    fmt.Print(i,\" - \")\n",
    "}"
   ]
  },
  {
   "cell_type": "markdown",
   "metadata": {},
   "source": [
    "#### **Sintáxis tipo `while`**\n",
    "Go no tiene una palabra clave `while`, pero se puede simular fácilmente con un `for` con solo una condición, en este caso el bucle continuará ejecutándose mientras `i` sea menor a 10"
   ]
  },
  {
   "cell_type": "code",
   "execution_count": 103,
   "metadata": {},
   "outputs": [
    {
     "name": "stdout",
     "output_type": "stream",
     "text": [
      "0 1 2 3 4 5 6 7 8 9 "
     ]
    }
   ],
   "source": [
    "i := 0\n",
    "for i < 10 {\n",
    "    fmt.Print(i, \" \") //Se imrpime en una sola linea \n",
    "    i++\n",
    "}"
   ]
  },
  {
   "cell_type": "markdown",
   "metadata": {},
   "source": [
    "#### **Bucle Infinito**\n",
    "Un `for` sin condiciones crea un bucle infinito, que se detendrá solo si se encuentra una instrucción de salida, como `break`:\n",
    "\n",
    "**Ejemplo**\n",
    "```go\n",
    "for {\n",
    "    fmt.Println(\"Este es un bucle infinito\")\n",
    "    if condicion {\n",
    "        // Se puede usar break para salir\n",
    "    }\n",
    "}\n",
    "```"
   ]
  },
  {
   "cell_type": "markdown",
   "metadata": {},
   "source": [
    "## **5. Funciones**\n",
    "\n",
    "Las **funciones** en Go son bloques de código reutilizables diseñados para realizar una tarea específica. Se definen una vez y se pueden llamar varias veces dentro del programa, lo que facilita la modularidad, el mantenimiento y la legibilidad del código. Una función puede aceptar parámetros, devolver valores, o ambas cosas.\n",
    "\n",
    "### Sintaxis básica de una función\n",
    "```go\n",
    "func nombreFuncion(parametros) tipoDeRetorno {\n",
    "    // Código que realiza una tarea\n",
    "    return valor\n",
    "}\n",
    "```\n",
    "- **`func`**: Palabra clave para definir una función.\n",
    "- **`nombreFuncion`**: El nombre de la función, que debe describir su propósito.\n",
    "- **`parametros`**: Opcional. Especifica los valores que la función puede recibir.\n",
    "- **`tipoDeRetorno`**: Opcional. Especifica el tipo de dato que devuelve la función.\n",
    "\n",
    "### Ejemplo básico de una función\n",
    "\n",
    "```go\n",
    "func saludar() {\n",
    "    fmt.Println(\"¡Hola, mundo!\")\n",
    "}\n",
    "```\n",
    "\n",
    "### Función con parámetros\n",
    "\n",
    "Las funciones pueden recibir valores como parámetros para realizar operaciones más dinámicas:\n",
    "\n",
    "\n",
    "\n",
    "En este ejemplo:\n",
    "- `a` y `b` son parámetros de tipo entero.\n",
    "- La función devuelve la suma de los dos parámetros."
   ]
  },
  {
   "cell_type": "code",
   "execution_count": 106,
   "metadata": {},
   "outputs": [
    {
     "name": "stdout",
     "output_type": "stream",
     "text": [
      "La suma es: 8\n"
     ]
    }
   ],
   "source": [
    "func sumar(a int, b int) int {\n",
    "    resultado = a + b\n",
    "    fmt.Println(\"La suma es:\", resultado) // Salida: La suma es: 8\n",
    "    return resultado\n",
    "}\n",
    "\n",
    "//Llamada a la funcion\n",
    "resultado := sumar(5, 3)\n"
   ]
  },
  {
   "cell_type": "markdown",
   "metadata": {},
   "source": [
    "\n",
    "### Función con múltiples valores de retorno\n",
    "\n",
    "En Go, las funciones pueden devolver más de un valor, lo que es útil para manejar errores o devolver información adicional.\n",
    "\n"
   ]
  },
  {
   "cell_type": "code",
   "execution_count": 111,
   "metadata": {},
   "outputs": [
    {
     "name": "stdout",
     "output_type": "stream",
     "text": [
      "El resultado es: 5\n"
     ]
    }
   ],
   "source": [
    "func dividir(a int, b int) (int, error) {\n",
    "    if b == 0 {\n",
    "        return 0, fmt.Errorf(\"no se puede dividir por cero\")\n",
    "    }\n",
    "    return a / b, nil\n",
    "}\n",
    "\n",
    "//Llamada a la función\n",
    "resultado, err := dividir(10, 2)\n",
    "if err != nil {\n",
    "    fmt.Println(\"Error:\", err)\n",
    "} else {\n",
    "    fmt.Println(\"El resultado es:\", resultado) // Salida: El resultado es: 5\n",
    "}\n"
   ]
  },
  {
   "cell_type": "markdown",
   "metadata": {},
   "source": [
    "### Funciones anónimas y funciones como valores\n",
    "\n",
    "Go también permite definir funciones anónimas y asignarlas a variables:\n"
   ]
  },
  {
   "cell_type": "code",
   "execution_count": 117,
   "metadata": {},
   "outputs": [
    {
     "name": "stdout",
     "output_type": "stream",
     "text": [
      "El producto es: 20"
     ]
    },
    {
     "data": {
      "text/plain": [
       "18 <nil>"
      ]
     },
     "execution_count": 117,
     "metadata": {},
     "output_type": "execute_result"
    }
   ],
   "source": [
    "\n",
    "miFuncion := func(a int, b int) int {\n",
    "    return a * b\n",
    "}\n",
    "\n",
    "resultado := miFuncion(4, 5)\n",
    "fmt.Printf(\"El producto es: %d\", resultado) // Salida: El producto es: 20\n"
   ]
  },
  {
   "cell_type": "markdown",
   "metadata": {},
   "source": [
    "## **Muchas gracias por su atención.**\n",
    "<img src=\"https://media1.tenor.com/m/B-w7lQXFiioAAAAd/roman-reigns-dean-ambrose.gif\n",
    "\" alt=\"Descripción del GIF\" width=\"400\">\n",
    "\n",
    "- Manuel Nava\n",
    "- Alfedo Monagas\n",
    "- Alejandro Alvarez\n",
    "- Jesus Araujo\n",
    "- Santiago Perrotta\n"
   ]
  }
 ],
 "metadata": {
  "kernelspec": {
   "display_name": "Go",
   "language": "go",
   "name": "gophernotes"
  },
  "language_info": {
   "codemirror_mode": "",
   "file_extension": ".go",
   "mimetype": "",
   "name": "go",
   "nbconvert_exporter": "",
   "pygments_lexer": "",
   "version": "go1.23.5"
  }
 },
 "nbformat": 4,
 "nbformat_minor": 2
}
