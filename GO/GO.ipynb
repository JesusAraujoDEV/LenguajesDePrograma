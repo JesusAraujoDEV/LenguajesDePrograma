{
 "cells": [
  {
   "cell_type": "markdown",
   "metadata": {},
   "source": [
    "# Introducción a Go\n",
    "\n",
    "**Go** (también conocido como **Golang**) es un lenguaje de programación desarrollado por Google en 2009. Fue diseñado para ser simple, eficiente y fácil de usar, con un enfoque en la concurrencia y el rendimiento. Go es utilizado en una amplia variedad de aplicaciones, desde sistemas backend de alta escala hasta herramientas de desarrollo.\n",
    "\n",
    "---\n",
    "\n",
    "## Ventajas de Go\n",
    "\n",
    "1. **Simplicidad**:  \n",
    "   Go tiene una sintaxis sencilla y limpia, lo que lo hace fácil de aprender para programadores nuevos y experimentados.\n",
    "\n",
    "2. **Concurrencia eficiente**:  \n",
    "   Gracias a su modelo de concurrencia basado en **goroutines** y **channels**, es ideal para construir sistemas que requieren alta concurrencia y paralelismo.\n",
    "\n",
    "3. **Rendimiento**:  \n",
    "   Go es un lenguaje compilado que genera ejecutables binarios eficientes, proporcionando un rendimiento cercano al de C/C++.\n",
    "\n",
    "4. **Compilación rápida**:  \n",
    "   La velocidad de compilación de Go es muy alta, lo que mejora el flujo de trabajo del desarrollador.\n",
    "\n",
    "5. **Gran ecosistema y comunidad**:  \n",
    "   Go cuenta con una amplia gama de bibliotecas, herramientas y una comunidad activa que respalda su desarrollo.\n",
    "\n",
    "6. **Soporte nativo para testing**:  \n",
    "   Go incluye herramientas integradas para realizar pruebas, como el paquete `testing`.\n",
    "\n",
    "---\n",
    "\n",
    "## Casos de uso\n",
    "\n",
    "- **Desarrollo backend**: Ideal para crear APIs y servidores web.\n",
    "- **Sistemas distribuidos**: Herramientas como Docker y Kubernetes están construidas en Go.\n",
    "- **DevOps**: Muchas herramientas de automatización utilizan Go gracias a su rendimiento y portabilidad.\n",
    "\n",
    "\n",
    "\n",
    "---"
   ]
  },
  {
   "cell_type": "markdown",
   "metadata": {},
   "source": [
    "###  `package main` y `fmt` en GO\n",
    "\n",
    "- **`package main`:**    \n",
    "  En GO, todos los archivos pertenecen a un paquete. El paquete `main` tiene un significado especial porque es el punto de entrada para programas ejecutables.\n",
    "  Si quieres crear un programa que se pueda ejecutar de forma independiente, debes usar el paquete main y definir una función `main()` dentro de él.\n",
    "\n",
    "- **`fmt`:**  \n",
    "  Es un paquete estándar que proporciona funciones para la entrada y salida de datos. Por ejemplo:\n",
    "  - **`fmt.Println`**: Imprime un mensaje seguido de un salto de línea.\n",
    "  - **`fmt.Printf`**: Imprime mensajes con formato personalizado.\n",
    "\n",
    "#### Definiendo **package** e importando **fmt**:\n",
    "\n"
   ]
  },
  {
   "cell_type": "code",
   "execution_count": 9,
   "metadata": {},
   "outputs": [],
   "source": [
    "package main\n",
    "\n",
    "import \"fmt\"\n"
   ]
  },
  {
   "cell_type": "markdown",
   "metadata": {},
   "source": [
    "### Ejemplo Básico:"
   ]
  },
  {
   "cell_type": "code",
   "execution_count": 16,
   "metadata": {},
   "outputs": [
    {
     "name": "stdout",
     "output_type": "stream",
     "text": [
      "Hola, Juan\n"
     ]
    }
   ],
   "source": [
    "func main() {\n",
    "    nombre := \"Juan\"\n",
    "    fmt.Println(\"Hola,\", nombre)\n",
    "}\n",
    "main()"
   ]
  },
  {
   "cell_type": "markdown",
   "metadata": {},
   "source": [
    "## **1.Declaración de Variables**\n",
    "\n",
    "En GO, se utiliza la palabra reservada **var** para declarar las variables.\n",
    "\n",
    "También se puede usar la asignación corta con los signos (**:=**) pero sólo se puede usar dentro de **funciones**, en este caso no se necesita especificar el tipo, GO lo asigna en función del valor asignado"
   ]
  },
  {
   "cell_type": "code",
   "execution_count": 10,
   "metadata": {},
   "outputs": [
    {
     "name": "stdout",
     "output_type": "stream",
     "text": [
      "25 Manuel true\n"
     ]
    }
   ],
   "source": [
    "func main() {\n",
    "    // Asignación corta de variables\n",
    "    edad := 25         // Go infiere que es un int\n",
    "    nombre := \"Manuel\"  // Go infiere que es un string\n",
    "    activo := true     // Go infiere que es un bool\n",
    "\n",
    "    fmt.Println(edad, nombre, activo)\n",
    "}\n",
    "\n",
    "main()"
   ]
  }
 ],
 "metadata": {
  "kernelspec": {
   "display_name": "Go",
   "language": "go",
   "name": "gophernotes"
  },
  "language_info": {
   "codemirror_mode": "",
   "file_extension": ".go",
   "mimetype": "",
   "name": "go",
   "nbconvert_exporter": "",
   "pygments_lexer": "",
   "version": "go1.23.5"
  }
 },
 "nbformat": 4,
 "nbformat_minor": 2
}
