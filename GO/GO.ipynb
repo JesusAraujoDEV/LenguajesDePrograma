{
 "cells": [
  {
   "cell_type": "markdown",
   "metadata": {},
   "source": [
    "# Introducción a Go\n",
    "\n",
    "**Go** (también conocido como **Golang**) es un lenguaje de programación desarrollado por Google en 2009. Fue diseñado para ser simple, eficiente y fácil de usar, con un enfoque en la concurrencia y el rendimiento. Go es utilizado en una amplia variedad de aplicaciones, desde sistemas backend de alta escala hasta herramientas de desarrollo.\n",
    "\n",
    "---\n",
    "\n",
    "## Ventajas de Go\n",
    "\n",
    "1. **Simplicidad**:  \n",
    "   Go tiene una sintaxis sencilla y limpia, lo que lo hace fácil de aprender para programadores nuevos y experimentados.\n",
    "\n",
    "2. **Concurrencia eficiente**:  \n",
    "   Gracias a su modelo de concurrencia basado en **goroutines** y **channels**, es ideal para construir sistemas que requieren alta concurrencia y paralelismo.\n",
    "\n",
    "3. **Rendimiento**:  \n",
    "   Go es un lenguaje compilado que genera ejecutables binarios eficientes, proporcionando un rendimiento cercano al de C/C++.\n",
    "\n",
    "4. **Compilación rápida**:  \n",
    "   La velocidad de compilación de Go es muy alta, lo que mejora el flujo de trabajo del desarrollador.\n",
    "\n",
    "5. **Gran ecosistema y comunidad**:  \n",
    "   Go cuenta con una amplia gama de bibliotecas, herramientas y una comunidad activa que respalda su desarrollo.\n",
    "\n",
    "6. **Soporte nativo para testing**:  \n",
    "   Go incluye herramientas integradas para realizar pruebas, como el paquete `testing`.\n",
    "\n",
    "---\n",
    "\n",
    "## Casos de uso\n",
    "\n",
    "- **Desarrollo backend**: Ideal para crear APIs y servidores web.\n",
    "- **Sistemas distribuidos**: Herramientas como Docker y Kubernetes están construidas en Go.\n",
    "- **DevOps**: Muchas herramientas de automatización utilizan Go gracias a su rendimiento y portabilidad.\n",
    "\n",
    "\n",
    "\n",
    "---"
   ]
  },
  {
   "cell_type": "markdown",
   "metadata": {},
   "source": [
    "###  `package main` y `fmt` en GO\n",
    "\n",
    "- **`package main`:**    \n",
    "  En GO, todos los archivos pertenecen a un paquete. El paquete `main` tiene un significado especial porque es el punto de entrada para programas ejecutables.\n",
    "  Si quieres crear un programa que se pueda ejecutar de forma independiente, debes usar el paquete main y definir una función `main()` dentro de él.\n",
    "\n",
    "- **`fmt`:**  \n",
    "  Es un paquete estándar que proporciona funciones para la entrada y salida de datos. Por ejemplo:\n",
    "  - **`fmt.Println`**: Imprime un mensaje seguido de un salto de línea.\n",
    "  - **`fmt.Printf`**: Imprime mensajes con formato personalizado.\n",
    "\n",
    "#### Definiendo **package** e importando **fmt**:\n",
    "\n"
   ]
  },
  {
   "cell_type": "code",
   "execution_count": 59,
   "metadata": {},
   "outputs": [],
   "source": [
    "package main\n",
    "\n",
    "import \"fmt\"\n"
   ]
  },
  {
   "cell_type": "markdown",
   "metadata": {},
   "source": [
    "### Ejemplo Básico:"
   ]
  },
  {
   "cell_type": "code",
   "execution_count": 60,
   "metadata": {},
   "outputs": [
    {
     "name": "stdout",
     "output_type": "stream",
     "text": [
      "Hola, Juan\n"
     ]
    }
   ],
   "source": [
    "func main() {\n",
    "    nombre := \"Juan\"\n",
    "    fmt.Println(\"Hola,\", nombre)\n",
    "}\n",
    "main()"
   ]
  },
  {
   "cell_type": "markdown",
   "metadata": {},
   "source": [
    "## **1.Declaración de Variables**\n",
    "\n",
    "En GO, se utiliza la palabra reservada **var** para declarar las variables.\n",
    "\n",
    "También se puede usar la asignación corta con los signos (**:=**) pero sólo se puede usar dentro de **funciones**, en este caso no se necesita especificar el tipo, GO lo asigna en función del valor asignado\n",
    "\n",
    "Si no se asigna valor a una variable global, GO le asigna el valor **cero** por defecto según el tipo.\n",
    "- int: 0\n",
    "- float: 0.0\n",
    "- bool: false\n",
    "- string: \"\" (cadena vacía)\n",
    "\n",
    "#### Ejemplo de declaración de variables:"
   ]
  },
  {
   "cell_type": "code",
   "execution_count": 61,
   "metadata": {},
   "outputs": [
    {
     "name": "stdout",
     "output_type": "stream",
     "text": [
      "Estudiante 1:  Juan , Edad:  25 , Activo: true\n",
      "Estudiante 2:  Manuel , Edad:  25 , Activo: true\n"
     ]
    }
   ],
   "source": [
    "// Declaración explícita con tipo\n",
    " var Estudiante_1 string = \"Juan\"\n",
    " var edad_Estudiante_1 int = 25\n",
    " var activo_Estudiante_1 bool = true\n",
    "\n",
    "func main() {\n",
    "    // Asignación corta de variables\n",
    "    edad := 25         // Go infiere que es un int\n",
    "    nombre := \"Manuel\"  // Go infiere que es un string\n",
    "    activo := true     // Go infiere que es un bool\n",
    "\n",
    "    fmt.Println(\"Estudiante 2: \",nombre,\", Edad: \",edad,\", Activo:\",activo)\n",
    "}\n",
    "fmt.Println(\"Estudiante 1: \",nombre_explicito,\", Edad: \",edad_explicita,\", Activo:\",activo_Estudiante_1)\n",
    "main()"
   ]
  },
  {
   "cell_type": "markdown",
   "metadata": {},
   "source": [
    "### Otros aspectos importantes sobre las variables serian:\n",
    "\n",
    "#### **Declaración en Bloque**\n",
    "Puedes declarar múltiples variables o constantes usando `var` o `const`"
   ]
  },
  {
   "cell_type": "code",
   "execution_count": 62,
   "metadata": {},
   "outputs": [],
   "source": [
    "//Declaración de múltiples variables\n",
    "var (\n",
    "    nombre   string = \"Go\"\n",
    "    version  float32 = 1.19\n",
    "    esActivo bool    = true\n",
    ")\n",
    "\n",
    "const (\n",
    "    const1   string = \"Constante\"\n",
    "    const2  float32 = 0.1\n",
    "    const3 bool    = false\n",
    ")\n"
   ]
  },
  {
   "cell_type": "markdown",
   "metadata": {},
   "source": [
    "#### **Shadowing de variables**\n",
    "Si se declara una variable local con el mismo nombre que una global, la local \"oculta\" temporalmente la global en ese ámbito.\n"
   ]
  },
  {
   "cell_type": "code",
   "execution_count": 63,
   "metadata": {},
   "outputs": [
    {
     "name": "stdout",
     "output_type": "stream",
     "text": [
      "Mensaje local\n",
      "Mensaje global\n"
     ]
    }
   ],
   "source": [
    "var mensaje string = \"Mensaje global\" // Variable global\n",
    "\n",
    "func main() {\n",
    "    mensaje := \"Mensaje local\" // Oculta la variable global\n",
    "    fmt.Println(mensaje)       // Imprime: Mensaje local\n",
    "    mostrarGlobal()\n",
    "}\n",
    "\n",
    "func mostrarGlobal() {\n",
    "    fmt.Println(mensaje) // Imprime: Mensaje global\n",
    "}\n",
    "\n",
    "main()\n"
   ]
  },
  {
   "cell_type": "markdown",
   "metadata": {},
   "source": [
    "## **2.Tipos de Datos**\n",
    "Go es un lenguaje que cuenta con un fuerte tipado. Los principales tipos son:\n",
    "- Números: `int` ,  `float64`\n",
    "- Cadenas: `string`\n",
    "- Booleanos: `bool`\n",
    "- Arreglos y slices: `[]int`\n",
    "- Estructuras: `struct`\n",
    "\n",
    "#### Ejemplo de declaración de los distintos tipos de datos:\n"
   ]
  },
  {
   "cell_type": "code",
   "execution_count": 64,
   "metadata": {},
   "outputs": [
    {
     "name": "stdout",
     "output_type": "stream",
     "text": [
      "10 20.5 Hola true\n"
     ]
    }
   ],
   "source": [
    "//La asignacion de package y la importacion de fmt se realiza previamente\n",
    "\n",
    "func main() {\n",
    "    var entero int = 10\n",
    "    var flotante float64 = 20.5\n",
    "    var texto string = \"Hola\"\n",
    "    var booleano bool = true\n",
    "\n",
    "    fmt.Println(entero, flotante, texto, booleano)\n",
    "}\n",
    "\n",
    "main()"
   ]
  }
 ],
 "metadata": {
  "kernelspec": {
   "display_name": "Go",
   "language": "go",
   "name": "gophernotes"
  },
  "language_info": {
   "codemirror_mode": "",
   "file_extension": ".go",
   "mimetype": "",
   "name": "go",
   "nbconvert_exporter": "",
   "pygments_lexer": "",
   "version": "go1.23.5"
  }
 },
 "nbformat": 4,
 "nbformat_minor": 2
}
