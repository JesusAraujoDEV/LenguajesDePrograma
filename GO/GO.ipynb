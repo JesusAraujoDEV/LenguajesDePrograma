{
 "cells": [
  {
   "cell_type": "markdown",
   "metadata": {},
   "source": [
    "# Introducción a Go\n",
    "\n",
    "**Go** (también conocido como **Golang**) es un lenguaje de programación desarrollado por Google en 2009. Fue diseñado para ser simple, eficiente y fácil de usar, con un enfoque en la concurrencia y el rendimiento. Go es utilizado en una amplia variedad de aplicaciones, desde sistemas backend de alta escala hasta herramientas de desarrollo.\n",
    "\n",
    "---\n",
    "\n",
    "## Ventajas de Go\n",
    "\n",
    "1. **Simplicidad**:  \n",
    "   Go tiene una sintaxis sencilla y limpia, lo que lo hace fácil de aprender para programadores nuevos y experimentados.\n",
    "\n",
    "2. **Concurrencia eficiente**:  \n",
    "   Gracias a su modelo de concurrencia basado en **goroutines** y **channels**, es ideal para construir sistemas que requieren alta concurrencia y paralelismo.\n",
    "\n",
    "3. **Rendimiento**:  \n",
    "   Go es un lenguaje compilado que genera ejecutables binarios eficientes, proporcionando un rendimiento cercano al de C/C++.\n",
    "\n",
    "4. **Compilación rápida**:  \n",
    "   La velocidad de compilación de Go es muy alta, lo que mejora el flujo de trabajo del desarrollador.\n",
    "\n",
    "5. **Gran ecosistema y comunidad**:  \n",
    "   Go cuenta con una amplia gama de bibliotecas, herramientas y una comunidad activa que respalda su desarrollo.\n",
    "\n",
    "6. **Soporte nativo para testing**:  \n",
    "   Go incluye herramientas integradas para realizar pruebas, como el paquete `testing`.\n",
    "\n",
    "---\n",
    "\n",
    "## Casos de uso\n",
    "\n",
    "- **Desarrollo backend**: Ideal para crear APIs y servidores web.\n",
    "- **Sistemas distribuidos**: Herramientas como Docker y Kubernetes están construidas en Go.\n",
    "- **DevOps**: Muchas herramientas de automatización utilizan Go gracias a su rendimiento y portabilidad.\n",
    "\n",
    "\n",
    "\n",
    "---"
   ]
  },
  {
   "cell_type": "markdown",
   "metadata": {},
   "source": [
    "###  `package main` y `fmt` en GO\n",
    "\n",
    "- **`package main`:**    \n",
    "  En GO, todos los archivos pertenecen a un paquete. El paquete `main` tiene un significado especial porque es el punto de entrada para programas ejecutables.\n",
    "  Si quieres crear un programa que se pueda ejecutar de forma independiente, debes usar el paquete main y definir una función `main()` dentro de él.\n",
    "\n",
    "- **`fmt`:**  \n",
    "  Es un paquete estándar que proporciona funciones para la entrada y salida de datos. Por ejemplo:\n",
    "  - **`fmt.Println`**: Imprime un mensaje seguido de un salto de línea.\n",
    "  - **`fmt.Printf`**: Imprime mensajes con formato personalizado.\n",
    "\n",
    "#### Definiendo **package** e importando **fmt**:\n",
    "\n"
   ]
  },
  {
   "cell_type": "code",
   "execution_count": 65,
   "metadata": {},
   "outputs": [],
   "source": [
    "package main\n",
    "\n",
    "import \"fmt\"\n"
   ]
  },
  {
   "cell_type": "markdown",
   "metadata": {},
   "source": [
    "### Ejemplo Básico:"
   ]
  },
  {
   "cell_type": "code",
   "execution_count": 66,
   "metadata": {},
   "outputs": [
    {
     "name": "stdout",
     "output_type": "stream",
     "text": [
      "Hola, Juan\n"
     ]
    }
   ],
   "source": [
    "func main() {\n",
    "    nombre := \"Juan\"\n",
    "    fmt.Println(\"Hola,\", nombre)\n",
    "}\n",
    "main()"
   ]
  },
  {
   "cell_type": "markdown",
   "metadata": {},
   "source": [
    "## **1.Declaración de Variables**\n",
    "\n",
    "En GO, se utiliza la palabra reservada **var** para declarar las variables.\n",
    "\n",
    "También se puede usar la asignación corta con los signos (**:=**) pero sólo se puede usar dentro de **funciones**, en este caso no se necesita especificar el tipo, GO lo asigna en función del valor asignado\n",
    "\n",
    "Si no se asigna valor a una variable global, GO le asigna el valor **cero** por defecto según el tipo.\n",
    "- int: 0\n",
    "- float: 0.0\n",
    "- bool: false\n",
    "- string: \"\" (cadena vacía)\n",
    "\n",
    "#### Ejemplo de declaración de variables:"
   ]
  },
  {
   "cell_type": "code",
   "execution_count": 67,
   "metadata": {},
   "outputs": [
    {
     "name": "stdout",
     "output_type": "stream",
     "text": [
      "Estudiante 1:  Juan , Edad:  25 , Activo: true\n",
      "Estudiante 2:  Manuel , Edad:  25 , Activo: true\n"
     ]
    }
   ],
   "source": [
    "// Declaración explícita con tipo\n",
    " var Estudiante_1 string = \"Juan\"\n",
    " var edad_Estudiante_1 int = 25\n",
    " var activo_Estudiante_1 bool = true\n",
    "\n",
    "func main() {\n",
    "    // Asignación corta de variables\n",
    "    edad := 25         // Go infiere que es un int\n",
    "    nombre := \"Manuel\"  // Go infiere que es un string\n",
    "    activo := true     // Go infiere que es un bool\n",
    "\n",
    "    fmt.Println(\"Estudiante 2: \",nombre,\", Edad: \",edad,\", Activo:\",activo)\n",
    "}\n",
    "fmt.Println(\"Estudiante 1: \",nombre_explicito,\", Edad: \",edad_explicita,\", Activo:\",activo_Estudiante_1)\n",
    "main()"
   ]
  },
  {
   "cell_type": "markdown",
   "metadata": {},
   "source": [
    "### Otros aspectos importantes sobre las variables serian:\n",
    "\n",
    "#### **Declaración en Bloque**\n",
    "Puedes declarar múltiples variables o constantes usando `var` o `const`"
   ]
  },
  {
   "cell_type": "code",
   "execution_count": 68,
   "metadata": {},
   "outputs": [],
   "source": [
    "//Declaración de múltiples variables\n",
    "var (\n",
    "    nombre   string = \"Go\"\n",
    "    version  float32 = 1.19\n",
    "    esActivo bool    = true\n",
    ")\n",
    "\n",
    "const (\n",
    "    const1   string = \"Constante\"\n",
    "    const2  float32 = 0.1\n",
    "    const3 bool    = false\n",
    ")\n"
   ]
  },
  {
   "cell_type": "markdown",
   "metadata": {},
   "source": [
    "#### **Shadowing de variables**\n",
    "Si se declara una variable local con el mismo nombre que una global, la local \"oculta\" temporalmente la global en ese ámbito.\n"
   ]
  },
  {
   "cell_type": "code",
   "execution_count": 69,
   "metadata": {},
   "outputs": [
    {
     "name": "stdout",
     "output_type": "stream",
     "text": [
      "Mensaje local\n",
      "Mensaje global\n"
     ]
    }
   ],
   "source": [
    "var mensaje string = \"Mensaje global\" // Variable global\n",
    "\n",
    "func main() {\n",
    "    mensaje := \"Mensaje local\" // Oculta la variable global\n",
    "    fmt.Println(mensaje)       // Imprime: Mensaje local\n",
    "    mostrarGlobal()\n",
    "}\n",
    "\n",
    "func mostrarGlobal() {\n",
    "    fmt.Println(mensaje) // Imprime: Mensaje global\n",
    "}\n",
    "\n",
    "main()\n"
   ]
  },
  {
   "cell_type": "markdown",
   "metadata": {},
   "source": [
    "---"
   ]
  },
  {
   "cell_type": "markdown",
   "metadata": {},
   "source": [
    "## **2.Tipos de Datos**\n",
    "Go es un lenguaje que cuenta con un fuerte tipado. Los principales tipos son:\n",
    "- Números: `int` ,  `float64`\n",
    "- Cadenas: `string`\n",
    "- Booleanos: `bool`\n",
    "- Arreglos y slices: `[]int`\n",
    "- Estructuras: `struct`\n",
    "\n",
    "#### Ejemplo de declaración de los distintos tipos de datos:\n"
   ]
  },
  {
   "cell_type": "code",
   "execution_count": 70,
   "metadata": {},
   "outputs": [
    {
     "name": "stdout",
     "output_type": "stream",
     "text": [
      "10 20.5 Hola true\n"
     ]
    }
   ],
   "source": [
    "//La asignacion de package y la importacion de fmt se realiza previamente\n",
    "\n",
    "func main() {\n",
    "    var entero int = 10\n",
    "    var flotante float64 = 20.5\n",
    "    var texto string = \"Hola\"\n",
    "    var booleano bool = true\n",
    "\n",
    "    fmt.Println(entero, flotante, texto, booleano)\n",
    "}\n",
    "\n",
    "main()"
   ]
  },
  {
   "cell_type": "markdown",
   "metadata": {},
   "source": [
    "---"
   ]
  },
  {
   "cell_type": "markdown",
   "metadata": {},
   "source": [
    "## **3. Condicionales**\n",
    "En Go, los condicionales se utilizan para tomar decisiones en función de una condición. La forma básica de un condicional es:\n",
    "```go\n",
    "if condicion{\n",
    "    //Cuerpo de la condicion\n",
    "}\n",
    "```\n",
    "### **Estructuras Condicionales en GO:**\n",
    "#### `if`\n",
    "El if es una estructura de control que permite ejecutar un bloque de código solo si una condición especificada es verdadera. Si la condición es falsa, el bloque de código dentro del if no se ejecuta.x\n",
    "##### Estructura básica del `if`\n"
   ]
  },
  {
   "cell_type": "code",
   "execution_count": 71,
   "metadata": {},
   "outputs": [
    {
     "name": "stdout",
     "output_type": "stream",
     "text": [
      "x es mayor que 10\n"
     ]
    }
   ],
   "source": [
    "var x int = 11\n",
    "if x > 10 {\n",
    "    fmt.Println(\"x es mayor que 10\")\n",
    "}"
   ]
  },
  {
   "cell_type": "markdown",
   "metadata": {},
   "source": [
    "#### `if - else`\n",
    "El `if-else` es una extensión del `if` que permite ejecutar un bloque de código diferente cuando la condición es falsa. Si la condición es verdadera, se ejecuta el bloque dentro del `if`, pero si es falsa, se ejecuta el bloque dentro del else.\n",
    "\n",
    "##### **Ejemplo:**"
   ]
  },
  {
   "cell_type": "code",
   "execution_count": 73,
   "metadata": {},
   "outputs": [
    {
     "name": "stdout",
     "output_type": "stream",
     "text": [
      "x no es mayor que 10\n"
     ]
    }
   ],
   "source": [
    "var x int = 6\n",
    "\n",
    "if x > 10 {\n",
    "    fmt.Println(\"x es mayor que 10\")\n",
    "} else {\n",
    "    fmt.Println(\"x no es mayor que 10\")\n",
    "}"
   ]
  },
  {
   "cell_type": "markdown",
   "metadata": {},
   "source": [
    "#### `if - else if - else`\n",
    "El `if- else if -else` permite evaluar múltiples condiciones en secuencia. Si la primera condición es falsa, se verifica la siguiente condición con `else if`, y si ninguna de ellas es verdadera, se ejecuta el bloque final dentro del `else`.\n",
    "\n",
    "##### **Ejemplo:**"
   ]
  },
  {
   "cell_type": "code",
   "execution_count": 74,
   "metadata": {},
   "outputs": [
    {
     "name": "stdout",
     "output_type": "stream",
     "text": [
      "x es igual a 10\n"
     ]
    }
   ],
   "source": [
    "var x int = 10\n",
    "\n",
    "if x > 10 {\n",
    "    fmt.Println(\"x es mayor que 10\")\n",
    "} else if x == 10 {\n",
    "    fmt.Println(\"x es igual a 10\")\n",
    "} else {\n",
    "    fmt.Println(\"x es menor que 10\")\n",
    "}\n"
   ]
  },
  {
   "cell_type": "markdown",
   "metadata": {},
   "source": [
    "#### Declaración dentro del `if`\n",
    "En Go, también es posible declarar variables dentro de un bloque if. Esta declaración es válida solo dentro de ese bloque y permite utilizar variables que solo existen durante la evaluación de la condición.\n",
    "\n",
    "##### **Ejemplo**"
   ]
  },
  {
   "cell_type": "code",
   "execution_count": 76,
   "metadata": {},
   "outputs": [
    {
     "name": "stdout",
     "output_type": "stream",
     "text": [
      "x es menor o igual a 10\n"
     ]
    }
   ],
   "source": [
    "if x := 5; x > 10 {\n",
    "    fmt.Println(\"x es mayor que 10\")\n",
    "} else {\n",
    "    fmt.Println(\"x es menor o igual a 10\")\n",
    "}"
   ]
  },
  {
   "cell_type": "markdown",
   "metadata": {},
   "source": [
    "#### `switch`\n",
    "El `switch` es una estructura de control de flujo que permite ejecutar diferentes bloques de código dependiendo del valor de una expresión. Es una alternativa más limpia y ordenada al uso de múltiples condicionales if-else if. El `switch` compara el valor de una expresión con varias posibilidades (casos) y ejecuta el bloque correspondiente cuando encuentra una coincidencia.\n",
    "\n",
    "Si no se proporciona una expresión en el switch, Go evalúa cada caso como una comparación booleana. Esto es útil para realizar múltiples condiciones.\n",
    "\n",
    "##### `fallthrough`\n",
    "En Go, si no se usa la palabra clave `fallthrough`, el `switch` termina después de encontrar un caso coincidente y no evalúa los siguientes casos. Sin embargo, si se utiliza `fallthrough`, la ejecución continuará hacia el siguiente caso, aunque no haya coincidencia.\n",
    "\n",
    "#### **Ejemplo** "
   ]
  },
  {
   "cell_type": "code",
   "execution_count": 85,
   "metadata": {},
   "outputs": [
    {
     "name": "stdout",
     "output_type": "stream",
     "text": [
      "x es mayor que 10\n",
      "y es uno\n",
      "y es dos\n",
      "y es tres\n"
     ]
    }
   ],
   "source": [
    "var x int = 12\n",
    "\n",
    "switch true {\n",
    "case x > 10:\n",
    "    fmt.Println(\"x es mayor que 10\")\n",
    "case x == 10:\n",
    "    fmt.Println(\"x es igual a 10\")\n",
    "default:\n",
    "    fmt.Println(\"x es menor que 10\")\n",
    "}\n",
    "\n",
    "var y int = 1\n",
    "//Ejemplo con fallthrough\n",
    "switch y {\n",
    "case 1:\n",
    "    fmt.Println(\"y es uno\")\n",
    "    fallthrough\n",
    "case 2:\n",
    "    fmt.Println(\"y es dos\")\n",
    "    fallthrough\n",
    "case 3:\n",
    "    fmt.Println(\"y es tres\")\n",
    "}\n",
    "\n",
    "/* Comentario Multi-Linea\n",
    "Se imprimen todo los casos ya que el fallthrough permite continuar \n",
    "hacia el siguiente caso aunque no haya coincidencia\n",
    "*/\n"
   ]
  }
 ],
 "metadata": {
  "kernelspec": {
   "display_name": "Go",
   "language": "go",
   "name": "gophernotes"
  },
  "language_info": {
   "codemirror_mode": "",
   "file_extension": ".go",
   "mimetype": "",
   "name": "go",
   "nbconvert_exporter": "",
   "pygments_lexer": "",
   "version": "go1.23.5"
  }
 },
 "nbformat": 4,
 "nbformat_minor": 2
}
