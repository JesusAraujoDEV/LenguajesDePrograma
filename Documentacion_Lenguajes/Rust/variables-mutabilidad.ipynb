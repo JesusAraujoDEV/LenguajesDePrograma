{
 "cells": [
  {
   "cell_type": "markdown",
   "metadata": {},
   "source": [
    "<h2><b>1. Variables y mutabilidad</b></h2>\n",
    "\n",
    "Debemos saber que por defecto las variables en Rust son inmutables. Por lo que si queremos asignarle un valor diferente a una variable que ya declaramos tendriamos un error al compilar el código."
   ]
  },
  {
   "cell_type": "markdown",
   "metadata": {},
   "source": [
    "<h4><b>Variables mutables</b></h4>\n",
    "\n",
    "Sin embargo, si necesitamos tener una variable mutable podemos usar <b>mut</b> al declararla:"
   ]
  },
  {
   "cell_type": "code",
   "execution_count": null,
   "metadata": {
    "vscode": {
     "languageId": "rust"
    }
   },
   "outputs": [],
   "source": [
    "let mut variable = \"Variable mutable\";\n",
    "println!(\"{variable}\");\n",
    "variable = \"Nuevo valor\";\n",
    "println!(\"{variable}\");"
   ]
  },
  {
   "cell_type": "markdown",
   "metadata": {},
   "source": [
    "<h5><b><i>Ejemplo de error de mutabilidad:</i></b></h5>"
   ]
  },
  {
   "cell_type": "code",
   "execution_count": null,
   "metadata": {
    "vscode": {
     "languageId": "rust"
    }
   },
   "outputs": [],
   "source": [
    "let variable = \"Variable mutable\";\n",
    "println!(\"{variable}\");\n",
    "variable = \"Nuevo valor\"; // Error\n",
    "println!(\"{variable}\");"
   ]
  },
  {
   "cell_type": "markdown",
   "metadata": {},
   "source": [
    "<h4><b>Constantes</b></h4>\n",
    "\n",
    "Tambien tenemos las constantes, las cuales siempre son inmutables y deben llevar su tipo de dato."
   ]
  },
  {
   "cell_type": "code",
   "execution_count": null,
   "metadata": {
    "vscode": {
     "languageId": "rust"
    }
   },
   "outputs": [],
   "source": [
    "const VARIABLE: &str = \"Variable constante\";"
   ]
  },
  {
   "cell_type": "markdown",
   "metadata": {},
   "source": [
    "<h4><b>Shadowing</b></h4>\n",
    "\n",
    "Y por ultimo el <b>shadowing</b>, que es básicamente reemplazar una variable al volverla a declarar. Es diferente de usar <b>mut</b> ya que en realidad estamos creando una nueva variable con el mismo nombre"
   ]
  },
  {
   "cell_type": "code",
   "execution_count": null,
   "metadata": {
    "vscode": {
     "languageId": "rust"
    }
   },
   "outputs": [],
   "source": [
    "let variable = \"Variable mutable\";\n",
    "println!(\"{variable}\");\n",
    "let variable = \"Nuevo valor\";\n",
    "println!(\"{variable}\");"
   ]
  }
 ],
 "metadata": {
  "kernelspec": {
   "display_name": "Rust",
   "language": "rust",
   "name": "rust"
  },
  "language_info": {
   "codemirror_mode": "rust",
   "file_extension": ".rs",
   "mimetype": "text/rust",
   "name": "Rust",
   "pygment_lexer": "rust",
   "version": ""
  }
 },
 "nbformat": 4,
 "nbformat_minor": 2
}
