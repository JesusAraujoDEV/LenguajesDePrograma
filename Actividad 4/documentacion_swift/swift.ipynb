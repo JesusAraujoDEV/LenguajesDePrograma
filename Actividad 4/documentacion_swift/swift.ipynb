{
 "cells": [
  {
   "cell_type": "markdown",
   "metadata": {},
   "source": [
    "<p style=\"display: flex; align-items: center;\">\n",
    "    <img src=\"swift_image.png\" alt=\"Logo Swift\" width=\"100\" style=\"margin-right: 10px;\">\n",
    "    <span style=\"font-size: 38px; font-weight: bold;\">Instalación de Swift</span>\n",
    "</p>\n",
    "\n",
    "\n",
    "Nos dirigimos a la pagina oficial de swift: \n",
    "\n",
    "- Windows: https://www.swift.org/install/windows/\n",
    "- linux: https://www.swift.org/install/linux/#platforms\n",
    "- macOS: https://www.swift.org/install/macos/\n",
    "\n",
    "<br>\n",
    "\n",
    "---"
   ]
  },
  {
   "cell_type": "markdown",
   "metadata": {},
   "source": [
    "<p style=\"display: flex; align-items: center;\">\n",
    "    <img src=\"logo_jupyter.png\" alt=\"Logo Swift\" width=\"120\" style=\"margin-right: 10px;\">\n",
    "    <span style=\"font-size: 38px; font-weight: bold;\">Instalación de Kernel</span>\n",
    "</p>\n",
    "\n",
    "Para instalar el kernel de swift y poder ejecutar codigo en jupyter notebook\n",
    "\n",
    "💠 **Paso 1: Instalacion del lenguaje Swift**\n",
    "\n",
    "```text\n",
    "- Instalar swift\n",
    "```\n",
    "\n",
    "💠 **Paso 2: Si aún no tienes Jupyter instalado, puedes hacerlo a través de pip**\n",
    "\n",
    "```bash\n",
    "pip install notebook\n",
    "```\n",
    "\n",
    "💠 **Paso 3: Para verificar que Jupyter está instalado correctamente, ejecuta:**\n",
    "\n",
    "```bash\n",
    "jupyter notebook\n",
    "```\n",
    "\n",
    "💠 **Paso 4: El kernel de Swift para Jupyter no se instala automáticamente con Swift, así que debes descargarlo manualmente.**\n",
    "\n",
    "```bash\n",
    "git clone https://github.com/kylef/Swift-Jupyter.git\n",
    "```\n",
    "\n",
    "💠 **Paso 5: Accede a la carpeta descargada:**\n",
    "\n",
    "```bash\n",
    "cd Swift-Jupyter\n",
    "```\n",
    "\n",
    "💠 **Paso 6: Ejecuta el script de instalación**\n",
    "\n",
    "```bash\n",
    "python install.py\n",
    "```\n",
    "\n",
    "💠 **Paso 7:  Verificar la Instalación**\n",
    "\n",
    "```bash\n",
    "jupyter kernelspec list\n",
    "```\n",
    "\n",
    "```bash\n",
    "  swift      C:\\Users\\TuUsuario\\AppData\\Roaming\\jupyter\\kernels\\swift\n",
    "  python3    C:\\Users\\TuUsuario\\AppData\\Roaming\\jupyter\\kernels\\python3\n",
    "```\n",
    "\n",
    "<br>\n",
    "\n",
    "---"
   ]
  },
  {
   "cell_type": "markdown",
   "metadata": {},
   "source": [
    "# **Constantes y Variables**\n",
    "\n",
    "Las constantes y variables asocian un nombre con un valor de un tipo particular (como un número o una cadena ). El valor de una constante no se puede cambiar una vez que se establece, mientras que una variable se puede establecer con un valor diferente en el futuro\n",
    "\n",
    "## Declaracion de constantes y variables\n",
    "\n",
    "Las constantes y las variables deben declararse antes de usarse. Las constantes se declaran con la let palabra clave y las variables con la var palabra clave."
   ]
  },
  {
   "cell_type": "code",
   "execution_count": null,
   "metadata": {
    "vscode": {
     "languageId": "plaintext"
    }
   },
   "outputs": [],
   "source": [
    "let nombre_constante = 10 // constante\n",
    "var nombre_variable = 0  // variable\n",
    "\n",
    "var x = 0.0, y = 0.0, z = 0.0 // podemos declarar variables variables en una linea"
   ]
  },
  {
   "cell_type": "markdown",
   "metadata": {},
   "source": [
    "## Anotaciones de tipo\n",
    "\n",
    "Puede proporcionar una anotación de tipo cuando declara una constante o variable, para tener claro el tipo de valores que puede almacenar la constante o variable. Escriba una anotación de tipo colocando dos puntos después del nombre de la constante o variable, seguido de un espacio y, a continuación, el nombre del tipo que se utilizará."
   ]
  },
  {
   "cell_type": "code",
   "execution_count": null,
   "metadata": {
    "vscode": {
     "languageId": "plaintext"
    }
   },
   "outputs": [],
   "source": [
    "var welcomeMessage : String\n",
    "var numero_entero : Int\n",
    "var numero_decimal : Double\n",
    "\n",
    "welcomeMessage = \"Hola, Mundo\"\n",
    "numero_entero = 12\n",
    "numero_decimal = 10.6"
   ]
  },
  {
   "cell_type": "markdown",
   "metadata": {},
   "source": [
    "## Nombrar constantes y variables\n",
    "\n",
    "Los nombres de constantes y variables pueden contener casi cualquier carácter, incluidos caracteres Unicode:"
   ]
  },
  {
   "cell_type": "code",
   "execution_count": null,
   "metadata": {
    "vscode": {
     "languageId": "plaintext"
    }
   },
   "outputs": [],
   "source": [
    "let π = 3.14159\n",
    "let 你好 = \"你好世界\"\n",
    "let 🐶🐮 = \"dogcow\""
   ]
  },
  {
   "cell_type": "markdown",
   "metadata": {},
   "source": [
    "Los nombres de constantes y variables no pueden contener caracteres de espacio en blanco, símbolos matemáticos, flechas, valores escalares Unicode de uso privado ni caracteres de dibujo de líneas y cuadros. Tampoco pueden comenzar con un número, aunque se pueden incluir números en otras partes del nombre."
   ]
  },
  {
   "cell_type": "markdown",
   "metadata": {},
   "source": [
    "## Comentarios\n",
    "\n",
    "Utilice comentarios para incluir texto no ejecutable en su código, como una nota o recordatorio para usted mismo. El compilador de Swift ignora los comentarios cuando se compila su código.\n",
    "\n",
    "Los comentarios en Swift son muy similares a los comentarios en C. Los comentarios de una sola línea comienzan con dos barras diagonales ( //):"
   ]
  },
  {
   "cell_type": "code",
   "execution_count": null,
   "metadata": {
    "vscode": {
     "languageId": "plaintext"
    }
   },
   "outputs": [],
   "source": [
    "// This is a comment."
   ]
  },
  {
   "cell_type": "markdown",
   "metadata": {},
   "source": [
    "Los comentarios de varias líneas comienzan con una barra diagonal seguida de un asterisco ( /*) y terminan con un asterisco seguido de una barra diagonal ( */):"
   ]
  },
  {
   "cell_type": "code",
   "execution_count": null,
   "metadata": {
    "vscode": {
     "languageId": "plaintext"
    }
   },
   "outputs": [],
   "source": [
    "/* This is also a comment\n",
    "but is written over multiple lines. */"
   ]
  },
  {
   "cell_type": "markdown",
   "metadata": {},
   "source": [
    "A diferencia de los comentarios multilínea en C, los comentarios multilínea en Swift se pueden anidar dentro de otros comentarios multilínea. Para escribir comentarios anidados, se inicia un bloque de comentario multilínea y luego se inicia un segundo comentario multilínea dentro del primer bloque. Luego se cierra el segundo bloque, seguido del primer bloque:"
   ]
  },
  {
   "cell_type": "code",
   "execution_count": null,
   "metadata": {
    "vscode": {
     "languageId": "plaintext"
    }
   },
   "outputs": [],
   "source": [
    "/* This is the start of the first multiline comment.\n",
    "    /* This is the second, nested multiline comment. */\n",
    "This is the end of the first multiline comment. */"
   ]
  },
  {
   "cell_type": "markdown",
   "metadata": {},
   "source": [
    "## Tipo de datos\n",
    "\n",
    "- Enteros (Int)\n",
    "- Decimales (Double)\n",
    "- cadenas de texto (String)\n",
    "- Booleanos (Bool)"
   ]
  },
  {
   "cell_type": "code",
   "execution_count": null,
   "metadata": {
    "vscode": {
     "languageId": "plaintext"
    }
   },
   "outputs": [],
   "source": [
    "var entero = 10\n",
    "var decimal = 100.90\n",
    "var cadena = \"Hola, Mundo\"\n",
    "var booleano_verdadero = true, booleano_falso = false"
   ]
  },
  {
   "cell_type": "markdown",
   "metadata": {},
   "source": [
    "<br>\n",
    "\n",
    "---"
   ]
  },
  {
   "cell_type": "markdown",
   "metadata": {},
   "source": [
    "# **Operadores Basicos**\n",
    "\n",
    "Un operador es un símbolo o frase especial que se utiliza para comprobar, cambiar o combinar valores. Por ejemplo, el operador de suma ( +) suma dos números, como en let i = 1 + 2,\n",
    "\n",
    "## Terminologia\n",
    "\n",
    "Los operadores son unarios, binarios o ternarios:\n",
    "\n",
    "- Los operadores unarios operan sobre un único objetivo (como -a). Los operadores unarios de prefijo aparecen inmediatamente antes de su objetivo (como !b), y los operadores unarios de posfijo aparecen inmediatamente después de su objetivo (como c!).\n",
    "\n",
    "- Los operadores binarios operan sobre dos objetivos (como 2 + 3) y son infijos porque aparecen entre sus dos objetivos.\n",
    "\n",
    "- Los operadores ternarios operan sobre tres objetivos. Al igual que C, Swift tiene un solo operador ternario, el operador condicional ternario ( a ? b : c).\n",
    "\n",
    "## Operador de Asignacion\n",
    "\n",
    "El operador de asignación ( a = b) inicializa o actualiza el valor de acon el valor de b:"
   ]
  },
  {
   "cell_type": "code",
   "execution_count": null,
   "metadata": {
    "vscode": {
     "languageId": "plaintext"
    }
   },
   "outputs": [],
   "source": [
    "let b = 10\n",
    "var a = 5\n",
    "a = b"
   ]
  },
  {
   "cell_type": "markdown",
   "metadata": {},
   "source": [
    "## Operadores Aritmeticos\n",
    "\n",
    "Swift admite los cuatro operadores aritméticos estándar para todos los tipos de números:\n",
    "\n",
    "- Suma ( + )\n",
    "\n",
    "- Resta ( - )\n",
    "\n",
    "- Multiplicación ( * )\n",
    "\n",
    "- División ( / )\n",
    "\n",
    "- Resto ( % )"
   ]
  },
  {
   "cell_type": "code",
   "execution_count": null,
   "metadata": {
    "vscode": {
     "languageId": "plaintext"
    }
   },
   "outputs": [],
   "source": [
    "1 + 2       // equals 3\n",
    "5 - 3       // equals 2\n",
    "2 * 3       // equals 6\n",
    "10.0 / 2.5  // equals 4.0\n",
    "9 % 4    // equals 1"
   ]
  },
  {
   "cell_type": "markdown",
   "metadata": {},
   "source": [
    "El operador de suma también se admite para Stringla concatenación:"
   ]
  },
  {
   "cell_type": "code",
   "execution_count": null,
   "metadata": {
    "vscode": {
     "languageId": "plaintext"
    }
   },
   "outputs": [],
   "source": [
    "\"hello, \" + \"world\"  // equals \"hello, world\""
   ]
  },
  {
   "cell_type": "markdown",
   "metadata": {},
   "source": [
    "## Operadores de Asignacion compuestos\n",
    "\n",
    "Al igual que C, Swift ofrece operadores de asignación compuestos que combinan la asignación ( =) con otra operación. Un ejemplo es el operador de asignación de suma ( +=):"
   ]
  },
  {
   "cell_type": "code",
   "execution_count": null,
   "metadata": {
    "vscode": {
     "languageId": "plaintext"
    }
   },
   "outputs": [],
   "source": [
    "var a = 1\n",
    "a += 2\n",
    "// a is now equal to 3"
   ]
  },
  {
   "cell_type": "markdown",
   "metadata": {},
   "source": [
    "## Operadores de Comparacion\n",
    "\n",
    "Swift admite los siguientes operadores de comparación:\n",
    "\n",
    "- Igual a ( a == b)\n",
    "\n",
    "- No es igual a ( a != b)\n",
    "\n",
    "- Mayor que ( a > b)\n",
    "\n",
    "- Menos de ( a < b)\n",
    "\n",
    "- Mayor o igual a ( a >= b)\n",
    "\n",
    "- Menor o igual a ( a <= b)\n",
    "\n",
    "Cada uno de los operadores de comparación devuelve un Boolvalor para indicar si la afirmación es verdadera o no:"
   ]
  },
  {
   "cell_type": "code",
   "execution_count": null,
   "metadata": {
    "vscode": {
     "languageId": "plaintext"
    }
   },
   "outputs": [],
   "source": [
    "1 == 1   // true because 1 is equal to 1\n",
    "2 != 1   // true because 2 isn't equal to 1\n",
    "2 > 1    // true because 2 is greater than 1\n",
    "1 < 2    // true because 1 is less than 2\n",
    "1 >= 1   // true because 1 is greater than or equal to 1\n",
    "2 <= 1   // false because 2 isn't less than or equal to 1"
   ]
  },
  {
   "cell_type": "markdown",
   "metadata": {},
   "source": [
    "## Operador condicional Ternario\n",
    "\n",
    "El operador condicional ternario es un operador especial con tres partes, que toma la forma question ? answer1 : answer2. Es un atajo para evaluar una de dos expresiones en función de si questiones verdadera o falsa. Si questiones verdadera, evalúa answer1y devuelve su valor; de lo contrario, evalúa answer2y devuelve su valor."
   ]
  },
  {
   "cell_type": "code",
   "execution_count": null,
   "metadata": {
    "vscode": {
     "languageId": "plaintext"
    }
   },
   "outputs": [],
   "source": [
    "let contentHeight = 40\n",
    "let hasHeader = true\n",
    "let rowHeight = contentHeight + (hasHeader ? 50 : 20)\n",
    "// rowHeight is equal to 90"
   ]
  },
  {
   "cell_type": "markdown",
   "metadata": {},
   "source": [
    "## Operadores Logicos\n",
    "\n",
    "Los operadores lógicos modifican o combinan los valores lógicos booleanos true y false. Swift admite los tres operadores lógicos estándar que se encuentran en los lenguajes basados ​​en C:\n",
    "\n",
    "- NO lógico ( !a)\n",
    "\n",
    "- AND lógico ( a && b)\n",
    "\n",
    "- OR lógico ( a || b)\n",
    "\n",
    "## Operador logico NOT\n",
    "\n",
    "El operador lógico NOT ( !a) invierte un valor booleano de modo que truese convierte en false, y falsese convierte en true.\n",
    "\n",
    "El operador lógico NOT es un operador de prefijo y aparece inmediatamente antes del valor sobre el que opera, sin ningún espacio en blanco. Puede leerse como “not a”, como se ve en el siguiente ejemplo:"
   ]
  },
  {
   "cell_type": "code",
   "execution_count": null,
   "metadata": {
    "vscode": {
     "languageId": "plaintext"
    }
   },
   "outputs": [],
   "source": [
    "let allowedEntry = false\n",
    "if !allowedEntry {\n",
    "    print(\"ACCESS DENIED\")\n",
    "}"
   ]
  },
  {
   "cell_type": "markdown",
   "metadata": {},
   "source": [
    "## Operador logico AND\n",
    "\n",
    "El operador lógico AND ( a && b) crea expresiones lógicas donde ambos valores deben ser true para que la expresión general también sea true.\n",
    "\n",
    "Si cualquiera de los valores es false, la expresión general también será false. De hecho, si el primer valor es false, el segundo valor ni siquiera se evaluará, porque no es posible que haga que la expresión general sea igual a true. Esto se conoce como evaluación de cortocircuito ."
   ]
  },
  {
   "cell_type": "code",
   "execution_count": null,
   "metadata": {
    "vscode": {
     "languageId": "plaintext"
    }
   },
   "outputs": [],
   "source": [
    "let enteredDoorCode = true\n",
    "let passedRetinaScan = false\n",
    "if enteredDoorCode && passedRetinaScan {\n",
    "    print(\"Welcome!\")\n",
    "} else {\n",
    "    print(\"ACCESS DENIED\")\n",
    "}"
   ]
  },
  {
   "cell_type": "markdown",
   "metadata": {},
   "source": [
    "## Operador logico OR\n",
    "\n",
    "El operador lógico OR ( a || b) es un operador infijo formado por dos caracteres de barra vertical adyacentes. Se utiliza para crear expresiones lógicas en las que solo uno de los dos valores debe ser truepara que la expresión general sea true.\n",
    "\n",
    "Al igual que el operador AND lógico mencionado anteriormente, el operador OR lógico utiliza la evaluación de cortocircuito para considerar sus expresiones. Si el lado izquierdo de una expresión OR lógico es true, el lado derecho no se evalúa, porque no puede cambiar el resultado de la expresión general."
   ]
  },
  {
   "cell_type": "code",
   "execution_count": null,
   "metadata": {
    "vscode": {
     "languageId": "plaintext"
    }
   },
   "outputs": [],
   "source": [
    "let hasDoorKey = false\n",
    "let knowsOverridePassword = true\n",
    "if hasDoorKey || knowsOverridePassword {\n",
    "    print(\"Welcome!\")\n",
    "} else {\n",
    "    print(\"ACCESS DENIED\")\n",
    "}"
   ]
  },
  {
   "cell_type": "markdown",
   "metadata": {},
   "source": [
    "## Combinacion de Operadores Logicos\n",
    "\n",
    "Puede combinar varios operadores lógicos para crear expresiones compuestas más largas:"
   ]
  },
  {
   "cell_type": "code",
   "execution_count": null,
   "metadata": {
    "vscode": {
     "languageId": "plaintext"
    }
   },
   "outputs": [],
   "source": [
    "if enteredDoorCode && passedRetinaScan || hasDoorKey || knowsOverridePassword {\n",
    "    print(\"Welcome!\")\n",
    "} else {\n",
    "    print(\"ACCESS DENIED\")\n",
    "}"
   ]
  },
  {
   "cell_type": "markdown",
   "metadata": {},
   "source": [
    "<br>\n",
    "\n",
    "---"
   ]
  },
  {
   "cell_type": "markdown",
   "metadata": {},
   "source": [
    "# **Tipos de Coleccion**\n",
    "\n",
    "Swift ofrece tres tipos de colecciones principales , conocidas como matrices, conjuntos y diccionarios, para almacenar colecciones de valores. Las matrices son colecciones ordenadas de valores. Los conjuntos son colecciones desordenadas de valores únicos. Los diccionarios son colecciones desordenadas de asociaciones clave-valor.\n",
    "\n",
    "<img src=\"colecciones.png\" alt=\"Tipos de Colecciones\" style=\" width: 1100px; margin: 20px;\">\n",
    "\n",
    "## Mutabilidad de las Colecciones\n",
    "\n",
    "Si crea una matriz, un conjunto o un diccionario y lo asigna a una variable, la colección que se crea será mutable . Esto significa que puede cambiar (o mutar ) la colección después de que se crea agregando, eliminando o modificando elementos en la colección. Si asigna una matriz, un conjunto o un diccionario a una constante, esa colección es inmutable y su tamaño y contenido no se pueden cambiar.\n",
    "\n",
    "## Matrices\n",
    "\n",
    "Una matriz almacena valores del mismo tipo en una lista ordenada. El mismo valor puede aparecer en una matriz varias veces en distintas posiciones.\n",
    "\n",
    "### Sintaxis abreviada de la matrix\n",
    "\n",
    "El tipo de una matriz Swift se escribe en su totalidad como Array<Element>, donde Elementes el tipo de valores que la matriz puede almacenar. También puede escribir el tipo de una matriz en forma abreviada como [Element]. Aunque las dos formas son funcionalmente idénticas, se prefiere la forma abreviada y se utiliza en toda esta guía cuando se hace referencia al tipo de una matriz.\n",
    "\n",
    "### Creando una matriz vacia\n",
    "\n",
    "Puede crear una matriz vacía de un tipo determinado utilizando la sintaxis del inicializador:"
   ]
  },
  {
   "cell_type": "code",
   "execution_count": null,
   "metadata": {
    "vscode": {
     "languageId": "plaintext"
    }
   },
   "outputs": [],
   "source": [
    "var someInts: [Int] = []\n",
    "print(\"someInts is of type [Int] with \\(someInts.count) items.\")"
   ]
  },
  {
   "cell_type": "markdown",
   "metadata": {},
   "source": [
    "### Creacion de una matriz con un valor predeterminado\n",
    "\n",
    "El tipo de Swift Arraytambién proporciona un inicializador para crear una matriz de un tamaño determinado con todos sus valores establecidos en el mismo valor predeterminado. Se pasa a este inicializador un valor predeterminado del tipo apropiado (llamado repeating): y la cantidad de veces que se repite ese valor en la nueva matriz (llamada count):"
   ]
  },
  {
   "cell_type": "code",
   "execution_count": null,
   "metadata": {
    "vscode": {
     "languageId": "plaintext"
    }
   },
   "outputs": [],
   "source": [
    "var threeDoubles = Array(repeating: 0.0, count: 3)\n",
    "// threeDoubles is of type [Double], and equals [0.0, 0.0, 0.0]"
   ]
  },
  {
   "cell_type": "markdown",
   "metadata": {},
   "source": [
    "### Creacion de una matriz mediante la suma de dos matrices\n",
    "\n",
    "Puede crear una nueva matriz sumando dos matrices existentes con tipos compatibles con el operador de suma ( +). El tipo de la nueva matriz se infiere del tipo de las dos matrices que suma:"
   ]
  },
  {
   "cell_type": "code",
   "execution_count": null,
   "metadata": {
    "vscode": {
     "languageId": "plaintext"
    }
   },
   "outputs": [],
   "source": [
    "var anotherThreeDoubles = Array(repeating: 2.5, count: 3)\n",
    "// anotherThreeDoubles is of type [Double], and equals [2.5, 2.5, 2.5]\n",
    "\n",
    "\n",
    "var sixDoubles = threeDoubles + anotherThreeDoubles\n",
    "// sixDoubles is inferred as [Double], and equals [0.0, 0.0, 0.0, 2.5, 2.5, 2.5]"
   ]
  },
  {
   "cell_type": "markdown",
   "metadata": {},
   "source": [
    "El siguiente ejemplo crea una matriz llamada para almacenar valores:shoppingListString"
   ]
  },
  {
   "cell_type": "code",
   "execution_count": null,
   "metadata": {
    "vscode": {
     "languageId": "plaintext"
    }
   },
   "outputs": [],
   "source": [
    "var shoppingList: [String] = [\"Eggs\", \"Milk\"]\n",
    "// shoppingList has been initialized with two initial items"
   ]
  },
  {
   "cell_type": "markdown",
   "metadata": {},
   "source": [
    "Gracias a la inferencia de tipos de Swift, no es necesario escribir el tipo de la matriz si la inicializas con un literal de matriz que contiene valores del mismo tipo. La inicialización de podría haberse escrito de una forma más corta:shoppingList"
   ]
  },
  {
   "cell_type": "code",
   "execution_count": null,
   "metadata": {
    "vscode": {
     "languageId": "plaintext"
    }
   },
   "outputs": [],
   "source": [
    "var shoppingList = [\"Eggs\", \"Milk\"]"
   ]
  },
  {
   "cell_type": "markdown",
   "metadata": {},
   "source": [
    "## Conjunto\n",
    "\n",
    "Un conjunto almacena valores distintos del mismo tipo en una colección sin un orden definido. Puedes usar un conjunto en lugar de una matriz cuando el orden de los elementos no es importante o cuando necesitas asegurarte de que un elemento solo aparezca una vez.\n",
    "\n",
    "### Sintaxis del tipo de conjunto\n",
    "\n",
    "El tipo de un conjunto Swift se escribe como Set<Element>, donde Elementes el tipo que el conjunto puede almacenar. A diferencia de las matrices, los conjuntos no tienen una forma abreviada equivalente.\n",
    "\n",
    "### Creacion e inicializacion de un conjunto vacio\n",
    "\n",
    "Puede crear un conjunto vacío de un tipo determinado utilizando la sintaxis del inicializador:"
   ]
  },
  {
   "cell_type": "code",
   "execution_count": null,
   "metadata": {
    "vscode": {
     "languageId": "plaintext"
    }
   },
   "outputs": [],
   "source": [
    "var letters = Set<Character>()\n",
    "print(\"letters is of type Set<Character> with \\(letters.count) items.\")\n",
    "// Prints \"letters is of type Set<Character> with 0 items.\""
   ]
  },
  {
   "cell_type": "markdown",
   "metadata": {},
   "source": [
    "### Creacion de un conjunto con un literal de matriz\n",
    "\n",
    "También puedes inicializar un conjunto con un literal de matriz, como una forma abreviada de escribir uno o más valores como una colección de conjuntos."
   ]
  },
  {
   "cell_type": "code",
   "execution_count": null,
   "metadata": {
    "vscode": {
     "languageId": "plaintext"
    }
   },
   "outputs": [],
   "source": [
    "var favoriteGenres: Set<String> = [\"Rock\", \"Classical\", \"Hip hop\"]\n",
    "// favoriteGenres has been initialized with three initial items"
   ]
  },
  {
   "cell_type": "markdown",
   "metadata": {},
   "source": [
    "No se puede inferir un tipo de conjunto a partir de un literal de matriz únicamente, por lo que el tipo Setdebe declararse explícitamente. Sin embargo, debido a la inferencia de tipos de Swift, no es necesario escribir el tipo de los elementos del conjunto si lo inicializa con un literal de matriz que contiene valores de un solo tipo. La inicialización de podría haberse escrito de una forma más corta:favoriteGenres"
   ]
  },
  {
   "cell_type": "code",
   "execution_count": null,
   "metadata": {
    "vscode": {
     "languageId": "plaintext"
    }
   },
   "outputs": [],
   "source": [
    "var favoriteGenres: Set = [\"Rock\", \"Classical\", \"Hip hop\"]"
   ]
  },
  {
   "cell_type": "markdown",
   "metadata": {},
   "source": [
    "## Diccionarios\n",
    "\n",
    "Un diccionario almacena asociaciones entre claves del mismo tipo y valores del mismo tipo en una colección sin un orden definido. Cada valor está asociado con una clave única , que actúa como un identificador para ese valor dentro del diccionario. A diferencia de los elementos de una matriz, los elementos de un diccionario no tienen un orden específico. Se utiliza un diccionario cuando se necesita buscar valores en función de su identificador, de la misma manera que se utiliza un diccionario del mundo real para buscar la definición de una palabra en particular.\n",
    "\n",
    "### Sintaxis abreviada del tipo de diccionario\n",
    "\n",
    "El tipo de un diccionario Swift se escribe completamente como Dictionary<Key, Value>, donde Key es el tipo de valor que se puede usar como clave de diccionario y Valuees el tipo de valor que el diccionario almacena para esas claves.\n",
    "\n",
    "También puede escribir el tipo de un diccionario en forma abreviada como [Key: Value]. Aunque las dos formas son funcionalmente idénticas, se prefiere la forma abreviada y se utiliza en toda esta guía para hacer referencia al tipo de un diccionario.\n",
    "\n",
    "### Creando un Diccionario vacio\n",
    "\n",
    "Al igual que con las matrices, puede crear un vacío Dictionaryde un tipo determinado utilizando la sintaxis del inicializador:"
   ]
  },
  {
   "cell_type": "code",
   "execution_count": null,
   "metadata": {
    "vscode": {
     "languageId": "plaintext"
    }
   },
   "outputs": [],
   "source": [
    "var namesOfIntegers: [Int: String] = [:]\n",
    "// namesOfIntegers is an empty [Int: String] dictionary"
   ]
  },
  {
   "cell_type": "markdown",
   "metadata": {},
   "source": [
    "### Creación de un diccionario con un literal de diccionario\n",
    "\n",
    "También puedes inicializar un diccionario con un literal de diccionario , que tiene una sintaxis similar al literal de matriz visto anteriormente. Un literal de diccionario es una forma abreviada de escribir uno o más pares clave-valor como una Dictionarycolección.\n",
    "\n",
    "Un par clave-valor es una combinación de una clave y un valor. En un literal de diccionario, la clave y el valor de cada par clave-valor están separados por dos puntos. Los pares clave-valor se escriben como una lista, separados por comas y rodeados por un par de corchetes:"
   ]
  },
  {
   "cell_type": "code",
   "execution_count": null,
   "metadata": {
    "vscode": {
     "languageId": "plaintext"
    }
   },
   "outputs": [],
   "source": [
    "var airports: [String: String] = [\"YYZ\": \"Toronto Pearson\", \"DUB\": \"Dublin\"]"
   ]
  },
  {
   "cell_type": "markdown",
   "metadata": {},
   "source": [
    "El airportsdiccionario se declara como de tipo [String: String], lo que significa “un Dictionarycuyas claves son de tipo String, y cuyos valores también son de tipo String”.\n",
    "\n",
    "Al igual que con las matrices, no es necesario escribir el tipo del diccionario si lo inicializa con un literal de diccionario cuyas claves y valores tienen tipos consistentes. La inicialización de airportspodría haberse escrito de una forma más corta:"
   ]
  },
  {
   "cell_type": "code",
   "execution_count": null,
   "metadata": {
    "vscode": {
     "languageId": "plaintext"
    }
   },
   "outputs": [],
   "source": [
    "var airports = [\"YYZ\": \"Toronto Pearson\", \"DUB\": \"Dublin\"]"
   ]
  },
  {
   "cell_type": "markdown",
   "metadata": {},
   "source": [
    "<br>\n",
    "\n",
    "---"
   ]
  },
  {
   "cell_type": "markdown",
   "metadata": {},
   "source": [
    "# **Flujo de Control**\n",
    "\n",
    "Swift proporciona una variedad de instrucciones de flujo de control. Estas incluyen whilebucles para realizar una tarea varias veces; instrucciones if, guardy switch para ejecutar diferentes ramas de código en función de ciertas condiciones; y instrucciones como breaky continue para transferir el flujo de ejecución a otro punto en su código. Swift proporciona un bucle for- inque facilita la iteración sobre matrices, diccionarios, rangos, cadenas y otras secuencias. Swift también proporciona deferinstrucciones que encapsulan el código que se ejecutará al salir del ámbito actual.\n",
    "\n",
    "## Bucles For-in\n",
    "\n",
    "Utilice el bucle for- inpara iterar sobre una secuencia, como elementos de una matriz, rangos de números o caracteres de una cadena.\n",
    "\n",
    "Este ejemplo utiliza un bucle for- inpara iterar sobre los elementos de una matriz:"
   ]
  },
  {
   "cell_type": "code",
   "execution_count": null,
   "metadata": {
    "vscode": {
     "languageId": "plaintext"
    }
   },
   "outputs": [],
   "source": [
    "let names = [\"Anna\", \"Alex\", \"Brian\", \"Jack\"]\n",
    "for name in names {\n",
    "    print(\"Hello, \\(name)!\")\n",
    "}\n",
    "// Hello, Anna!\n",
    "// Hello, Alex!\n",
    "// Hello, Brian!\n",
    "// Hello, Jack!"
   ]
  },
  {
   "cell_type": "code",
   "execution_count": null,
   "metadata": {
    "vscode": {
     "languageId": "plaintext"
    }
   },
   "outputs": [],
   "source": [
    "let numberOfLegs = [\"spider\": 8, \"ant\": 6, \"cat\": 4]\n",
    "for (animalName, legCount) in numberOfLegs {\n",
    "    print(\"\\(animalName)s have \\(legCount) legs\")\n",
    "}\n",
    "// cats have 4 legs\n",
    "// ants have 6 legs\n",
    "// spiders have 8 legs"
   ]
  },
  {
   "cell_type": "markdown",
   "metadata": {},
   "source": [
    "## Bucles While\n",
    "\n",
    "Un whilebucle ejecuta un conjunto de instrucciones hasta que se cumple una condición false. Este tipo de bucles se utilizan mejor cuando no se conoce la cantidad de iteraciones antes de que comience la primera iteración. Swift ofrece dos tipos de whilebucles:\n",
    "\n",
    "- while evalúa su condición al inicio de cada paso por el bucle.\n",
    "\n",
    "- repeat- while evalúa su condición al final de cada paso por el bucle.\n",
    "\n",
    "### Mientras\n",
    "\n",
    "Un whilebucle comienza evaluando una única condición. Si la condición es true, se repite un conjunto de instrucciones hasta que la condición se convierte en false.\n",
    "\n",
    "Aquí está la forma general de un whilebucle:"
   ]
  },
  {
   "cell_type": "code",
   "execution_count": null,
   "metadata": {
    "vscode": {
     "languageId": "plaintext"
    }
   },
   "outputs": [],
   "source": [
    "while <#condition#> {\n",
    "   <#statements#>\n",
    "}"
   ]
  },
  {
   "cell_type": "markdown",
   "metadata": {},
   "source": [
    "### Repetir-Mientras\n",
    "\n",
    "La otra variante del whilebucle, conocida como bucle repeat- while, realiza primero una única pasada por el bloque del bucle, antes de considerar la condición del bucle. Luego continúa repitiendo el bucle hasta que la condición sea false."
   ]
  },
  {
   "cell_type": "code",
   "execution_count": null,
   "metadata": {
    "vscode": {
     "languageId": "plaintext"
    }
   },
   "outputs": [],
   "source": [
    "repeat {\n",
    "   <#statements#>\n",
    "} while <#condition#>"
   ]
  },
  {
   "cell_type": "markdown",
   "metadata": {},
   "source": [
    "## Declaraciones de Condicional\n",
    "\n",
    "A menudo resulta útil ejecutar diferentes fragmentos de código en función de determinadas condiciones. Es posible que desee ejecutar un fragmento de código adicional cuando se produzca un error o mostrar un mensaje cuando un valor sea demasiado alto o demasiado bajo. Para ello, puede hacer que partes de su código sean condicionales .\n",
    "\n",
    "Swift ofrece dos formas de agregar ramas condicionales a su código: la ifdeclaración y la switchinstrucción. Normalmente, se utiliza la ifdeclaración para evaluar condiciones simples con solo unos pocos resultados posibles. La switchdeclaración es más adecuada para condiciones más complejas con múltiples permutaciones posibles y es útil en situaciones en las que la coincidencia de patrones puede ayudar a seleccionar una rama de código adecuada para ejecutar.\n",
    "\n",
    "### if\n",
    "\n",
    "En su forma más simple, la ifinstrucción tiene una sola ifcondición. Ejecuta un conjunto de instrucciones solo si se cumple esa condición true."
   ]
  },
  {
   "cell_type": "code",
   "execution_count": null,
   "metadata": {
    "vscode": {
     "languageId": "plaintext"
    }
   },
   "outputs": [],
   "source": [
    "var temperatureInFahrenheit = 30\n",
    "if temperatureInFahrenheit <= 32 {\n",
    "    print(\"It's very cold. Consider wearing a scarf.\")\n",
    "}\n",
    "// Prints \"It's very cold. Consider wearing a scarf.\""
   ]
  },
  {
   "cell_type": "markdown",
   "metadata": {},
   "source": [
    "El ejemplo anterior verifica si la temperatura es menor o igual a 32 grados Fahrenheit (el punto de congelación del agua). Si es así, se imprime un mensaje. De lo contrario, no se imprime ningún mensaje y la ejecución del código continúa después de la ifllave de cierre de la declaración.\n",
    "\n",
    "La ifdeclaración puede proporcionar un conjunto alternativo de declaraciones, conocidas como cláusula else , para situaciones en las que la ifcondición es false. Estas declaraciones se indican mediante la elsepalabra clave."
   ]
  },
  {
   "cell_type": "code",
   "execution_count": null,
   "metadata": {
    "vscode": {
     "languageId": "plaintext"
    }
   },
   "outputs": [],
   "source": [
    "temperatureInFahrenheit = 40\n",
    "if temperatureInFahrenheit <= 32 {\n",
    "    print(\"It's very cold. Consider wearing a scarf.\")\n",
    "} else {\n",
    "    print(\"It's not that cold. Wear a T-shirt.\")\n",
    "}\n",
    "// Prints \"It's not that cold. Wear a T-shirt.\""
   ]
  },
  {
   "cell_type": "markdown",
   "metadata": {},
   "source": [
    "Puedes encadenar varias ifdeclaraciones para considerar cláusulas adicionales."
   ]
  },
  {
   "cell_type": "code",
   "execution_count": null,
   "metadata": {
    "vscode": {
     "languageId": "plaintext"
    }
   },
   "outputs": [],
   "source": [
    "temperatureInFahrenheit = 90\n",
    "if temperatureInFahrenheit <= 32 {\n",
    "    print(\"It's very cold. Consider wearing a scarf.\")\n",
    "} else if temperatureInFahrenheit >= 86 {\n",
    "    print(\"It's really warm. Don't forget to wear sunscreen.\")\n",
    "} else {\n",
    "    print(\"It's not that cold. Wear a T-shirt.\")\n",
    "}\n",
    "// Prints \"It's really warm. Don't forget to wear sunscreen.\""
   ]
  },
  {
   "cell_type": "markdown",
   "metadata": {},
   "source": [
    "### Switch\n",
    "\n",
    "Una switchdeclaración considera un valor y lo compara con varios patrones coincidentes posibles. Luego, ejecuta un bloque de código apropiado, en función del primer patrón que coincida correctamente. Una switchdeclaración proporciona una alternativa a la ifdeclaración para responder a múltiples estados potenciales.\n",
    "\n",
    "En su forma más simple, una switchdeclaración compara un valor con uno o más valores del mismo tipo."
   ]
  },
  {
   "cell_type": "code",
   "execution_count": null,
   "metadata": {
    "vscode": {
     "languageId": "plaintext"
    }
   },
   "outputs": [],
   "source": [
    "switch <#some value to consider#> {\n",
    "case <#value 1#>:\n",
    "    <#respond to value 1#>\n",
    "case <#value 2#>,\n",
    "    <#value 3#>:\n",
    "    <#respond to value 2 or 3#>\n",
    "default:\n",
    "    <#otherwise, do something else#>\n",
    "}"
   ]
  },
  {
   "cell_type": "markdown",
   "metadata": {},
   "source": [
    "Cada switchdeclaración consta de varios casos posibles , cada uno de los cuales comienza con la casepalabra clave. Además de comparar con valores específicos, Swift proporciona varias formas para cada caso de especificar patrones de coincidencia más complejos. Estas opciones se describen más adelante en este capítulo.\n",
    "\n",
    "Al igual que el cuerpo de una ifdeclaración, cada case es una rama independiente de la ejecución del código. La switchdeclaración determina qué rama debe seleccionarse. Este procedimiento se conoce como activación del valor que se está considerando.\n",
    "\n",
    "Este ejemplo utiliza una switchdeclaración para considerar un solo carácter en minúscula llamado :someCharacter"
   ]
  },
  {
   "cell_type": "code",
   "execution_count": null,
   "metadata": {
    "vscode": {
     "languageId": "plaintext"
    }
   },
   "outputs": [],
   "source": [
    "let someCharacter: Character = \"z\"\n",
    "switch someCharacter {\n",
    "case \"a\":\n",
    "    print(\"The first letter of the Latin alphabet\")\n",
    "case \"z\":\n",
    "    print(\"The last letter of the Latin alphabet\")\n",
    "default:\n",
    "    print(\"Some other character\")\n",
    "}\n",
    "// Prints \"The last letter of the Latin alphabet\""
   ]
  },
  {
   "cell_type": "markdown",
   "metadata": {},
   "source": [
    "Puede utilizar tuplas para probar varios valores en la misma switchdeclaración. Cada elemento de la tupla se puede probar con un valor o intervalo de valores diferente. Como alternativa, utilice el carácter de subrayado ( _), también conocido como patrón comodín, para buscar coincidencias con cualquier valor posible."
   ]
  },
  {
   "cell_type": "code",
   "execution_count": null,
   "metadata": {
    "vscode": {
     "languageId": "plaintext"
    }
   },
   "outputs": [],
   "source": [
    "let somePoint = (1, 1)\n",
    "switch somePoint {\n",
    "case (0, 0):\n",
    "    print(\"\\(somePoint) is at the origin\")\n",
    "case (_, 0):\n",
    "    print(\"\\(somePoint) is on the x-axis\")\n",
    "case (0, _):\n",
    "    print(\"\\(somePoint) is on the y-axis\")\n",
    "case (-2...2, -2...2):\n",
    "    print(\"\\(somePoint) is inside the box\")\n",
    "default:\n",
    "    print(\"\\(somePoint) is outside of the box\")\n",
    "}\n",
    "// Prints \"(1, 1) is inside the box\""
   ]
  },
  {
   "cell_type": "markdown",
   "metadata": {},
   "source": [
    "#### Where\n",
    "\n",
    "Un switchcaso puede utilizar una wherecláusula para verificar condiciones adicionales.\n",
    "\n",
    "El siguiente ejemplo categoriza un punto (x, y) en el siguiente gráfico:"
   ]
  },
  {
   "cell_type": "code",
   "execution_count": null,
   "metadata": {
    "vscode": {
     "languageId": "plaintext"
    }
   },
   "outputs": [],
   "source": [
    "let yetAnotherPoint = (1, -1)\n",
    "switch yetAnotherPoint {\n",
    "case let (x, y) where x == y:\n",
    "    print(\"(\\(x), \\(y)) is on the line x == y\")\n",
    "case let (x, y) where x == -y:\n",
    "    print(\"(\\(x), \\(y)) is on the line x == -y\")\n",
    "case let (x, y):\n",
    "    print(\"(\\(x), \\(y)) is just some arbitrary point\")\n",
    "}\n",
    "// Prints \"(1, -1) is on the line x == -y\""
   ]
  },
  {
   "cell_type": "markdown",
   "metadata": {},
   "source": [
    "#### Casos compuestos\n",
    "\n",
    "Se pueden combinar varios casos de conmutación que comparten el mismo cuerpo escribiendo varios patrones después de case, con una coma entre cada uno de ellos. Si alguno de los patrones coincide, se considera que el caso coincide. Los patrones se pueden escribir en varias líneas si la lista es larga. Por ejemplo:"
   ]
  },
  {
   "cell_type": "code",
   "execution_count": null,
   "metadata": {
    "vscode": {
     "languageId": "plaintext"
    }
   },
   "outputs": [],
   "source": [
    "let someCharacter: Character = \"e\"\n",
    "switch someCharacter {\n",
    "case \"a\", \"e\", \"i\", \"o\", \"u\":\n",
    "    print(\"\\(someCharacter) is a vowel\")\n",
    "case \"b\", \"c\", \"d\", \"f\", \"g\", \"h\", \"j\", \"k\", \"l\", \"m\",\n",
    "    \"n\", \"p\", \"q\", \"r\", \"s\", \"t\", \"v\", \"w\", \"x\", \"y\", \"z\":\n",
    "    print(\"\\(someCharacter) is a consonant\")\n",
    "default:\n",
    "    print(\"\\(someCharacter) isn't a vowel or a consonant\")\n",
    "}\n",
    "// Prints \"e is a vowel\""
   ]
  },
  {
   "cell_type": "markdown",
   "metadata": {},
   "source": [
    "## Declaraciones de transferencia de control\n",
    "\n",
    "Las sentencias de transferencia de control cambian el orden en el que se ejecuta el código, transfiriendo el control de un fragmento de código a otro. Swift tiene cinco sentencias de transferencia de control:\n",
    "\n",
    "- continue\n",
    "\n",
    "- break\n",
    "\n",
    "- fallthrough\n",
    "\n",
    "- return\n",
    "\n",
    "- throw\n",
    "\n",
    "### Continue\n",
    "\n",
    "La continuedeclaración le indica a un bucle que detenga lo que está haciendo y comience nuevamente desde el comienzo de la siguiente iteración del bucle. Dice \"Terminé con la iteración actual del bucle\" sin abandonar el bucle por completo.\n",
    "\n",
    "El siguiente ejemplo elimina todas las vocales y espacios de una cadena en minúscula para crear una frase de rompecabezas críptica:"
   ]
  },
  {
   "cell_type": "code",
   "execution_count": null,
   "metadata": {
    "vscode": {
     "languageId": "plaintext"
    }
   },
   "outputs": [],
   "source": [
    "let puzzleInput = \"great minds think alike\"\n",
    "var puzzleOutput = \"\"\n",
    "let charactersToRemove: [Character] = [\"a\", \"e\", \"i\", \"o\", \"u\", \" \"]\n",
    "for character in puzzleInput {\n",
    "    if charactersToRemove.contains(character) {\n",
    "        continue\n",
    "    }\n",
    "    puzzleOutput.append(character)\n",
    "}\n",
    "print(puzzleOutput)\n",
    "// Prints \"grtmndsthnklk\""
   ]
  },
  {
   "cell_type": "markdown",
   "metadata": {},
   "source": [
    "### Break\n",
    "\n",
    "La breakinstrucción finaliza la ejecución de una instrucción de flujo de control completa de inmediato. La breakinstrucción se puede utilizar dentro de una switchinstrucción de bucle or cuando se desea finalizar la ejecución de la switchinstrucción de bucle or antes de lo que ocurriría de otra manera.\n",
    "\n",
    "#### Sentencia Break in a Loop (Interrupción en un bucle)\n",
    "\n",
    "Cuando se utiliza dentro de una declaración de bucle, breakfinaliza la ejecución del bucle inmediatamente y transfiere el control al código que se encuentra después de la llave de cierre del bucle ( }). No se ejecuta ningún código adicional de la iteración actual del bucle y no se inician más iteraciones del bucle.\n",
    "\n",
    "#### Interrupción en una sentencia Switch\n",
    "\n",
    "Cuando se utiliza dentro de una switchdeclaración, breakhace que la switchdeclaración finalice su ejecución inmediatamente y transfiera el control al código después de la switchllave de cierre de la declaración ( }).\n",
    "\n",
    "Este comportamiento se puede utilizar para hacer coincidir e ignorar uno o más casos en una switchdeclaración. Debido a que switchla declaración de Swift es exhaustiva y no permite casos vacíos, a veces es necesario hacer coincidir e ignorar deliberadamente un caso para que sus intenciones sean explícitas. Para ello, escriba la breakdeclaración como el cuerpo completo del caso que desea ignorar. Cuando la declaración coincide con ese switchcaso, la breakdeclaración dentro del caso finaliza la switchejecución de la declaración inmediatamente.\n",
    "\n",
    "Este ejemplo verifica si se trata de un símbolo latino, árabe, chino o tailandés para los números"
   ]
  },
  {
   "cell_type": "code",
   "execution_count": null,
   "metadata": {
    "vscode": {
     "languageId": "plaintext"
    }
   },
   "outputs": [],
   "source": [
    "let numberSymbol: Character = \"三\"  // Chinese symbol for the number 3\n",
    "var possibleIntegerValue: Int?\n",
    "\n",
    "switch numberSymbol {\n",
    "case \"1\", \"١\", \"一\", \"๑\":\n",
    "    possibleIntegerValue = 1\n",
    "case \"2\", \"٢\", \"二\", \"๒\":\n",
    "    possibleIntegerValue = 2\n",
    "case \"3\", \"٣\", \"三\", \"๓\":\n",
    "    possibleIntegerValue = 3\n",
    "case \"4\", \"٤\", \"四\", \"๔\":\n",
    "    possibleIntegerValue = 4\n",
    "default:\n",
    "    break\n",
    "}\n",
    "if let integerValue = possibleIntegerValue {\n",
    "    print(\"The integer value of \\(numberSymbol) is \\(integerValue).\")\n",
    "} else {\n",
    "    print(\"An integer value couldn't be found for \\(numberSymbol).\")\n",
    "}\n",
    "// Prints \"The integer value of 三 is 3.\""
   ]
  },
  {
   "cell_type": "markdown",
   "metadata": {},
   "source": [
    "<br>\n",
    "\n",
    "---"
   ]
  },
  {
   "cell_type": "markdown",
   "metadata": {},
   "source": [
    "## **Funciones**\n",
    "\n",
    "Las funciones son fragmentos de código independientes que realizan una tarea específica. Se le asigna a una función un nombre que identifica lo que hace y este nombre se utiliza para \"llamar\" a la función para que realice su tarea cuando sea necesario.\n",
    "\n",
    "### Definición y llamada de funciones\n",
    "\n",
    "Cuando define una función, puede definir opcionalmente uno o más valores con nombre y tipo que la función toma como entrada, conocidos como parámetros . También puede definir opcionalmente un tipo de valor que la función devolverá como salida cuando finalice, conocido como su tipo de retorno .\n",
    "\n",
    "Cada función tiene un nombre de función , que describe la tarea que realiza la función. Para utilizar una función, se la “llama” con su nombre y se le pasan valores de entrada (conocidos como argumentos ) que coinciden con los tipos de los parámetros de la función. Los argumentos de una función siempre se deben proporcionar en el mismo orden que la lista de parámetros de la función."
   ]
  },
  {
   "cell_type": "code",
   "execution_count": null,
   "metadata": {
    "vscode": {
     "languageId": "plaintext"
    }
   },
   "outputs": [],
   "source": [
    "func greet(person: String) -> String {\n",
    "    let greeting = \"Hello, \" + person + \"!\"\n",
    "    return greeting\n",
    "}"
   ]
  },
  {
   "cell_type": "markdown",
   "metadata": {},
   "source": [
    "Toda esta información se incluye en la definición de la función , que tiene como prefijo la funcpalabra clave. El tipo de retorno de la función se indica con la flecha de retorno -> (un guion seguido de un corchete angular derecho), seguida del nombre del tipo que se va a devolver.\n",
    "\n",
    "La definición describe lo que hace la función, lo que espera recibir y lo que devuelve cuando termina. La definición facilita que la función se pueda llamar sin ambigüedades desde cualquier otra parte del código:"
   ]
  },
  {
   "cell_type": "code",
   "execution_count": null,
   "metadata": {
    "vscode": {
     "languageId": "plaintext"
    }
   },
   "outputs": [],
   "source": [
    "print(greet(person: \"Anna\"))\n",
    "// Prints \"Hello, Anna!\"\n",
    "print(greet(person: \"Brian\"))\n",
    "// Prints \"Hello, Brian!\""
   ]
  },
  {
   "cell_type": "code",
   "execution_count": null,
   "metadata": {
    "vscode": {
     "languageId": "plaintext"
    }
   },
   "outputs": [],
   "source": [
    "func greetAgain(person: String) -> String {\n",
    "    return \"Hello again, \" + person + \"!\"\n",
    "}\n",
    "print(greetAgain(person: \"Anna\"))\n",
    "// Prints \"Hello again, Anna!\""
   ]
  },
  {
   "cell_type": "markdown",
   "metadata": {},
   "source": [
    "### Parámetros de función y valores de retorno\n",
    "\n",
    "Los parámetros de función y los valores de retorno son extremadamente flexibles en Swift. Puede definir cualquier cosa, desde una función de utilidad simple con un solo parámetro sin nombre hasta una función compleja con nombres de parámetros expresivos y diferentes opciones de parámetros.\n",
    "\n",
    "### Funciones sin parámetros\n",
    "No es necesario que las funciones definan parámetros de entrada. A continuación, se muestra una función sin parámetros de entrada que siempre devuelve el mismo Stringmensaje cuando se la llama:"
   ]
  },
  {
   "cell_type": "code",
   "execution_count": null,
   "metadata": {
    "vscode": {
     "languageId": "plaintext"
    }
   },
   "outputs": [],
   "source": [
    "func sayHelloWorld() -> String {\n",
    "    return \"hello, world\"\n",
    "}\n",
    "print(sayHelloWorld())\n",
    "// Prints \"hello, world\""
   ]
  },
  {
   "cell_type": "markdown",
   "metadata": {},
   "source": [
    "### Funciones con múltiples parámetros\n",
    "\n",
    "Las funciones pueden tener múltiples parámetros de entrada, que se escriben dentro de los paréntesis de la función, separados por comas.\n",
    "\n",
    "Esta función toma el nombre de una persona y si ya ha sido saludada como entrada, y devuelve un saludo apropiado para esa persona:"
   ]
  },
  {
   "cell_type": "code",
   "execution_count": null,
   "metadata": {
    "vscode": {
     "languageId": "plaintext"
    }
   },
   "outputs": [],
   "source": [
    "func greet(person: String, alreadyGreeted: Bool) -> String {\n",
    "    if alreadyGreeted {\n",
    "        return greetAgain(person: person)\n",
    "    } else {\n",
    "        return greet(person: person)\n",
    "    }\n",
    "}\n",
    "print(greet(person: \"Tim\", alreadyGreeted: true))\n",
    "// Prints \"Hello again, Tim!\""
   ]
  },
  {
   "cell_type": "markdown",
   "metadata": {},
   "source": [
    "### Funciones sin valores de retorno\n",
    "\n",
    "No es necesario que las funciones definan un tipo de retorno. A continuación, se muestra una versión de la greet(person:)función que imprime su propio Stringvalor en lugar de devolverlo:"
   ]
  },
  {
   "cell_type": "code",
   "execution_count": null,
   "metadata": {
    "vscode": {
     "languageId": "plaintext"
    }
   },
   "outputs": [],
   "source": [
    "func greet(person: String) {\n",
    "    print(\"Hello, \\(person)!\")\n",
    "}\n",
    "greet(person: \"Dave\")\n",
    "// Prints \"Hello, Dave!\""
   ]
  },
  {
   "cell_type": "markdown",
   "metadata": {},
   "source": [
    "### Funciones con múltiples valores de retorno\n",
    "\n",
    "Puede utilizar un tipo de tupla como tipo de retorno de una función para devolver múltiples valores como parte de un valor de retorno compuesto.\n",
    "\n",
    "El siguiente ejemplo define una función llamada , que encuentra los números más pequeños y más grandes en una matriz de valores:minMax(array:)Int"
   ]
  },
  {
   "cell_type": "code",
   "execution_count": null,
   "metadata": {
    "vscode": {
     "languageId": "plaintext"
    }
   },
   "outputs": [],
   "source": [
    "func minMax(array: [Int]) -> (min: Int, max: Int) {\n",
    "    var currentMin = array[0]\n",
    "    var currentMax = array[0]\n",
    "    for value in array[1..<array.count] {\n",
    "        if value < currentMin {\n",
    "            currentMin = value\n",
    "        } else if value > currentMax {\n",
    "            currentMax = value\n",
    "        }\n",
    "    }\n",
    "    return (currentMin, currentMax)\n",
    "}"
   ]
  },
  {
   "cell_type": "markdown",
   "metadata": {},
   "source": [
    "<br>\n",
    "\n",
    "---"
   ]
  },
  {
   "cell_type": "markdown",
   "metadata": {},
   "source": [
    "<p style=\"display: flex; align-items: center;\">\n",
    "    <img src=\"cr7.webp\" alt=\"CR7\" style=\"margin-right: 40px; margin-left: 40px\">\n",
    "    <span style=\"font-size: 38px; font-weight: bold;\">SIUUUUuuuuuu 😗</span>\n",
    "</p>\n"
   ]
  }
 ],
 "metadata": {
  "language_info": {
   "name": "python"
  }
 },
 "nbformat": 4,
 "nbformat_minor": 2
}
