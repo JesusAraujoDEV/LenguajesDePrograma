{
 "cells": [
  {
   "cell_type": "markdown",
   "metadata": {},
   "source": [
    "<img src=\"./Dash2.png\" alt=\"Dash\" width=\"1000\"/>\n",
    "\n",
    "# **Dart**\n",
    "\n",
    "Es un lenguaje de programación desarrollado por Google, diseñado para crear aplicaciones eficientes y escalables en múltiples plataformas. Sus características principales incluyen:\n",
    "\n",
    "- **Facilidad de aprendizaje**: Sintaxis clara y familiar, similar a Java y JavaScript.\n",
    "- **Programación asíncrona**: Soporte completo para `async` y `await`, facilitando la escritura de código asíncrono.\n",
    "- **Hot Reload**: Permite ver cambios instantáneamente sin reiniciar la aplicación.\n",
    "- **Compilación eficiente**: Compilación a código nativo para un rendimiento óptimo. \n",
    "- **Herramientas integradas**: Conjunto completo de herramientas para facilitar el desarrollo y mantenimiento del código.\n"
   ]
  },
  {
   "cell_type": "markdown",
   "metadata": {},
   "source": [
    "### **Sintaxis Básica:**\n",
    "\n",
    "Similar a Java y JS, tenemos el siguiente ejemplo de una función simple que solo imprime un string."
   ]
  },
  {
   "cell_type": "code",
   "execution_count": null,
   "metadata": {
    "vscode": {
     "languageId": "dart"
    }
   },
   "outputs": [],
   "source": [
    "void main() {\n",
    "  print('Hello, World!'); // Output: Hello, World!\n",
    "}"
   ]
  },
  {
   "cell_type": "markdown",
   "metadata": {},
   "source": [
    "Podemos observar que al igual que Java es necesario encerrar el contenido de las funciones dentro de llaves, se usa `void` para indicar que la función no retorna nada, y se terminan las lineas obligatoriamente con un punto y coma."
   ]
  },
  {
   "cell_type": "markdown",
   "metadata": {
    "vscode": {
     "languageId": "dart"
    }
   },
   "source": [
    "### **Declaración de Variables**\n",
    "\n",
    "En Dart deben inicializarse las variables antes de ser utilizadas, y para eso tenemos varias palabras clave que nos permiten hacer cosas diferentes. La más usada es `var` permitiendo declararlas por inferencia, pero se puede reemplazar por directamente el tipo de variable como en el siguiente ejemplo:"
   ]
  },
  {
   "cell_type": "code",
   "execution_count": null,
   "metadata": {
    "vscode": {
     "languageId": "dart"
    }
   },
   "outputs": [],
   "source": [
    "var nombre = \"Alfredo Monagas\";\n",
    "nombre = 19; // Esto generaría un error, ya que Dart es de tipado estático\n",
    "\n",
    "String nombre = \"Alfredo Monagas\";\n",
    "// O también...\n",
    "String nombre;\n",
    "nombre = \"Alfredo Monagas\";"
   ]
  },
  {
   "cell_type": "markdown",
   "metadata": {},
   "source": [
    "_**Otros ejemplos de palabras clave:**_"
   ]
  },
  {
   "cell_type": "markdown",
   "metadata": {},
   "source": [
    "**Null safety:**"
   ]
  },
  {
   "cell_type": "code",
   "execution_count": null,
   "metadata": {
    "vscode": {
     "languageId": "dart"
    }
   },
   "outputs": [],
   "source": [
    "String? nombre; // Permite que la variable sea un String o null\n",
    "String nombre; // La variable no puede ser null"
   ]
  },
  {
   "cell_type": "markdown",
   "metadata": {},
   "source": [
    "**Variables late:**"
   ]
  },
  {
   "cell_type": "code",
   "execution_count": null,
   "metadata": {
    "vscode": {
     "languageId": "dart"
    }
   },
   "outputs": [],
   "source": [
    "late String apellido; // Permite inicializar la variable después de su declaración\n",
    "apellido = \"Monagas\";\n",
    "\n",
    "// Esto generraría un error, ya que la variable no puede ser null\n",
    "String apellido;\n",
    "apellido = \"Monagas\"; \n",
    "\n",
    "// Esto si sería válido\n",
    "String apellido;\n",
    "apellido = \"Monagas\"; "
   ]
  },
  {
   "cell_type": "markdown",
   "metadata": {},
   "source": [
    "**Variables constantes:**"
   ]
  },
  {
   "cell_type": "code",
   "execution_count": null,
   "metadata": {
    "vscode": {
     "languageId": "dart"
    }
   },
   "outputs": [],
   "source": [
    "const nombres = [\"Manuel\", \"Jesús\"]; // Inmutable\n",
    "nombres = [\"Santiago\", \"Alejandro\"]; // Esto generaría un error\n",
    "nombres.add(\"Alfredo\"); // Esto generaría un error\n",
    "\n",
    "final nombres = [\"Manuel\", \"Jesús\"]; // Si son objetos como listas se pueden modificar los elementos\n",
    "nombres = [\"Santiago\", \"Alejandro\"]; // Error\n",
    "nombres.add(\"Rodrigo\"); // Válido"
   ]
  },
  {
   "cell_type": "markdown",
   "metadata": {},
   "source": [
    "### **Tipos de datos:**"
   ]
  },
  {
   "cell_type": "code",
   "execution_count": null,
   "metadata": {
    "vscode": {
     "languageId": "dart"
    }
   },
   "outputs": [],
   "source": [
    "// Números\n",
    "\n",
    "int age = 25;\n",
    "\n",
    "double price = 19.99;"
   ]
  },
  {
   "cell_type": "code",
   "execution_count": null,
   "metadata": {
    "vscode": {
     "languageId": "dart"
    }
   },
   "outputs": [],
   "source": [
    "// String\n",
    "\n",
    "String greeting = \"Hola, mundo!\";"
   ]
  },
  {
   "cell_type": "code",
   "execution_count": null,
   "metadata": {
    "vscode": {
     "languageId": "dart"
    }
   },
   "outputs": [],
   "source": [
    "// Booleanos\n",
    "\n",
    "bool isActive = true;\n",
    "isActive = false;"
   ]
  },
  {
   "cell_type": "code",
   "execution_count": null,
   "metadata": {
    "vscode": {
     "languageId": "dart"
    }
   },
   "outputs": [],
   "source": [
    "// Record: Un tipo que puede contener múltiples valores agrupados.\n",
    "\n",
    "(var x, var y) point = (10, 20);"
   ]
  },
  {
   "cell_type": "code",
   "execution_count": null,
   "metadata": {
    "vscode": {
     "languageId": "dart"
    }
   },
   "outputs": [],
   "source": [
    "// Arreglos\n",
    "\n",
    "List<int> numbers = [1, 2, 3, 4];"
   ]
  },
  {
   "cell_type": "code",
   "execution_count": null,
   "metadata": {
    "vscode": {
     "languageId": "dart"
    }
   },
   "outputs": [],
   "source": [
    "// Sets\n",
    "\n",
    "Set<String> fruits = {\"manzana\", \"naranja\", \"plátano\"};"
   ]
  },
  {
   "cell_type": "code",
   "execution_count": null,
   "metadata": {
    "vscode": {
     "languageId": "dart"
    }
   },
   "outputs": [],
   "source": [
    "// Maps: Colección de pares clave-valor.\n",
    "\n",
    "Map<String, int> scores = {\"Alice\": 90, \"Bob\": 85};"
   ]
  },
  {
   "cell_type": "code",
   "execution_count": null,
   "metadata": {
    "vscode": {
     "languageId": "dart"
    }
   },
   "outputs": [],
   "source": [
    "// Runes: Representan caracteres Unicode.\n",
    "\n",
    "Runes input = Runes('\\u2764'); \n",
    "print(String.fromCharCodes(input)); // salida: ❤"
   ]
  },
  {
   "cell_type": "code",
   "execution_count": null,
   "metadata": {
    "vscode": {
     "languageId": "dart"
    }
   },
   "outputs": [],
   "source": [
    "// Symbol: Representa un identificador simbólico.\n",
    "\n",
    "Symbol symbolName = #mySymbol;"
   ]
  },
  {
   "cell_type": "markdown",
   "metadata": {},
   "source": [
    "### **Funciones**\n",
    "\n",
    "En Dart aunque no es necesario, se recomienda tipar lo que retorna una función y los parámetros que espera. Además se pueden hacer cosas como asignar funciones a una variable o pasarlas como parámetro a otra función:"
   ]
  },
  {
   "cell_type": "code",
   "execution_count": null,
   "metadata": {
    "vscode": {
     "languageId": "dart"
    }
   },
   "outputs": [],
   "source": [
    "int sumar(int a, int b) {\n",
    "  // Forma recomendada\n",
    "  return a + b;\n",
    "}\n",
    "\n",
    "sumar(a, b) {\n",
    "  // Esto funcionaría, pero no es recomendable\n",
    "  return a + b;\n",
    "}\n",
    "\n",
    "// También se puede hacer de esta forma para funciones de una sola línea\n",
    "int sumar(int a, int b) => a + b;\n",
    "\n",
    "void main(Function sumar) {\n",
    "  print(sumar(1, 2)); // Output: 3\n",
    "}"
   ]
  },
  {
   "cell_type": "markdown",
   "metadata": {},
   "source": [
    "#### **Parámetros**\n",
    "\n",
    "**Posicionales requeridos**: Se deben proporcionar siempre.\n",
    "\n",
    "**Nombrados opcionales**: Se especifican por nombre y pueden tener valores predeterminados.\n",
    "\n",
    "**Posicionales opcionales**: Se colocan entre corchetes y son opcionales"
   ]
  },
  {
   "cell_type": "code",
   "execution_count": null,
   "metadata": {
    "vscode": {
     "languageId": "dart"
    }
   },
   "outputs": [],
   "source": [
    "void greet(String name, int age, {String message = 'Hola', String? location}) {\n",
    "  String greetingMessage = '$message, $name!';\n",
    "\n",
    "  greetingMessage += ' Tienes $age años.';\n",
    "\n",
    "  if (location != null) {\n",
    "    greetingMessage += ' Estás en $location.';\n",
    "  }\n",
    "\n",
    "  print(greetingMessage);\n",
    "}\n",
    "\n",
    "// Solo con los parámetros requeridos\n",
    "greet('Juan', 25); \n",
    "// Salida: Hola, Juan! Tienes 25 años.\n",
    "\n",
    "// Parámetros requeridos y el parámetro opcional message\n",
    "greet('Ana', 30, message: 'Buenos días'); \n",
    "// Salida: Buenos días, Ana! Tienes 30 años.\n",
    "\n",
    "// Incluyendo todos los parámetros\n",
    "greet('María', 28, message: 'Saludos', location: 'Barcelona'); \n",
    "// Salida: Saludos, María! Tienes 28 años. Estás en Barcelona."
   ]
  },
  {
   "cell_type": "markdown",
   "metadata": {},
   "source": [
    "#### **Anónimas**\n",
    "No tienen nombre y normalmente se usan en variables o como parámetro"
   ]
  },
  {
   "cell_type": "code",
   "execution_count": null,
   "metadata": {
    "vscode": {
     "languageId": "dart"
    }
   },
   "outputs": [],
   "source": [
    "int sumar(int a, int b) => a + b;\n",
    "print(sumar(5, 10)); // Resultado: 15"
   ]
  },
  {
   "cell_type": "markdown",
   "metadata": {},
   "source": [
    "### **Control de flujo**\n",
    "#### **Condicionales:**"
   ]
  },
  {
   "cell_type": "code",
   "execution_count": null,
   "metadata": {
    "vscode": {
     "languageId": "dart"
    }
   },
   "outputs": [],
   "source": [
    "var contraseña = \"1234\";\n",
    "\n",
    "if (contraseña == \"1234\") {\n",
    "  print('Contraseña correcta');\n",
    "} else if (contraseña is String) {\n",
    "  print('Contraseña incorrecta');\n",
    "} else {\n",
    "  print('Ingrese una contraseña válida');\n",
    "}"
   ]
  },
  {
   "cell_type": "markdown",
   "metadata": {},
   "source": [
    "#### **Switch:**"
   ]
  },
  {
   "cell_type": "code",
   "execution_count": null,
   "metadata": {
    "vscode": {
     "languageId": "dart"
    }
   },
   "outputs": [],
   "source": [
    "var nota = 'A';\n",
    "\n",
    "switch (nota) {\n",
    "  case 'A':\n",
    "    print(\"Excelente\");\n",
    "    break;\n",
    "  case 'B':\n",
    "    print(\"Bueno\");\n",
    "    break;\n",
    "  case 'C':\n",
    "    print(\"Suficiente\");\n",
    "    break;\n",
    "  default:\n",
    "    print(\"No válido\");\n",
    "}"
   ]
  },
  {
   "cell_type": "markdown",
   "metadata": {},
   "source": [
    "#### **Ciclos:**"
   ]
  },
  {
   "cell_type": "markdown",
   "metadata": {},
   "source": [
    "**For y for in**"
   ]
  },
  {
   "cell_type": "code",
   "execution_count": null,
   "metadata": {
    "vscode": {
     "languageId": "dart"
    }
   },
   "outputs": [],
   "source": [
    "var numeros = [];\n",
    "for (var i = 0; i < 3; i++) {\n",
    "  numeros.add(i);\n",
    "}\n",
    "\n",
    "for (final n in numeros) {\n",
    "  print(n);\n",
    "}\n",
    "// Salida:\n",
    "// 0\n",
    "// 1\n",
    "// 2"
   ]
  },
  {
   "cell_type": "markdown",
   "metadata": {},
   "source": [
    "**While y do-while**\n",
    "\n",
    "El While evalúa una condición antes de ejecutar cada iteración del ciclo, mientras do-while la evalúa _después_ de ejecutar cada iteración. "
   ]
  },
  {
   "cell_type": "code",
   "execution_count": null,
   "metadata": {
    "vscode": {
     "languageId": "dart"
    }
   },
   "outputs": [],
   "source": [
    "while (!listo()) {\n",
    "  hacerAlgo();\n",
    "}\n",
    "\n",
    "do {\n",
    "  print(\"nose\");\n",
    "} while (!listo());"
   ]
  },
  {
   "cell_type": "markdown",
   "metadata": {},
   "source": [
    "**Break y continue**\n",
    "\n",
    "El `break` nos permite detener el ciclo, mientras que el `continue` hace que continuemos a la siguiente iteración sin ejecutar el código restante."
   ]
  },
  {
   "cell_type": "code",
   "execution_count": null,
   "metadata": {
    "vscode": {
     "languageId": "dart"
    }
   },
   "outputs": [],
   "source": [
    "var detenerCiclo = false;\n",
    "while (true) {\n",
    "  print(\"ola\");\n",
    "  if (detenerCiclo) break;\n",
    "  detenerCiclo = true;\n",
    "}\n",
    "// Se imprimirá \"ola\" una vez\n",
    "\n",
    "var siguienteIteracion = false;\n",
    "while (true) {\n",
    "  print(\"ola\");\n",
    "  if (siguienteIteracion) continue;\n",
    "  siguienteIteracion = true;\n",
    "  print(\"mundo\");\n",
    "}\n",
    "// Se imprimirá \"ola\" infinitamente\n",
    "// En la primera iteración se imprimirá \"mundo\""
   ]
  }
 ],
 "metadata": {
  "kernelspec": {
   "display_name": "Dart Kernel",
   "language": "Dart",
   "name": "jupyterdartkernel"
  },
  "language_info": {
   "name": "Dart"
  }
 },
 "nbformat": 4,
 "nbformat_minor": 2
}
