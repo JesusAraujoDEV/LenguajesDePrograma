{
 "cells": [
  {
   "cell_type": "markdown",
   "metadata": {},
   "source": [
    "\n",
    "---\n",
    "\n",
    "<p style=\"display: flex; align-items: center;\">\n",
    "    <img src=\"icon-kotlin-1024.png\" alt=\"Logo Kotlin\" width=\"100\" style=\"margin-right: 10px;\">\n",
    "    <span style=\"font-size: 38px; font-weight: bold;\">Documentación de Kotlin</span>\n",
    "</p>\n",
    "\n",
    "---\n",
    "\n",
    "# **1. ¿Qué es Kotlin y por qué usarlo?**\n",
    "\n",
    "**Kotlin** es un lenguaje de programación moderno, conciso y seguro, desarrollado por JetBrains.  \n",
    "Se ejecuta en la Máquina Virtual de Java (JVM), lo que lo hace compatible con todas las librerías y frameworks del ecosistema Java. Además, puede compilarse a JavaScript o código nativo, permitiendo desarrollar aplicaciones multiplataforma, desde móviles hasta aplicaciones de escritorio y backend.\n",
    "\n",
    "### Razones para usar Kotlin:\n",
    "- **Sintaxis concisa:** Permite escribir menos código sin sacrificar claridad.\n",
    "- **Seguridad en tipos:** Minimiza errores comunes en tiempo de ejecución, especialmente con el manejo de nulos.\n",
    "- **Interoperabilidad con Java:** Facilita la integración en proyectos existentes escritos en Java.\n",
    "- **Características modernas:** Soporta funciones de extensión, lambdas, inmutabilidad, programación funcional y orientada a objetos, entre otras.\n",
    "\n",
    "---\n",
    "\n",
    "# **2. Instalación**\n",
    "\n",
    "### A. Usando un IDE (IntelliJ IDEA / Android Studio)\n",
    "1. **Descarga e instalación:**  \n",
    "   Visita [IntelliJ IDEA](https://www.jetbrains.com/idea/) o [Android Studio](https://developer.android.com/studio) y sigue las instrucciones para la instalación.\n",
    "2. **Creación de un proyecto:**  \n",
    "   Al iniciar un nuevo proyecto, selecciona **Kotlin** como lenguaje principal. El IDE configurará automáticamente el entorno de desarrollo.\n",
    "\n",
    "### B. Usando la línea de comandos\n",
    "1. **Descarga el compilador:**  \n",
    "   Accede a la [página oficial de Kotlin](https://kotlinlang.org/) y descarga el compilador.\n",
    "2. **Compilación y ejecución:**  \n",
    "   Crea un archivo `main.kt` y compílalo con:\n",
    "   ```bash\n",
    "   kotlinc main.kt -include-runtime -d main.jar\n",
    "   java -jar main.jar\n",
    "   ```\n",
    "\n",
    "### C. Playground en línea\n",
    "Si deseas probar Kotlin sin instalación, utiliza el [Playground de Kotlin](https://play.kotlinlang.org/).\n",
    "\n",
    "### D. Uso de herramientas de construcción\n",
    "Kotlin se integra fácilmente con sistemas de construcción como Gradle y Maven, facilitando la gestión de dependencias y la automatización de tareas.\n",
    "\n",
    "---\n",
    "\n",
    "# **3. Constantes y Variables**\n",
    "\n",
    "Kotlin utiliza dos palabras clave para definir valores:\n",
    "\n",
    "### a) Inmutables\n",
    "- **`val`:** Una vez asignado, su valor no puede cambiar."
   ]
  },
  {
   "cell_type": "code",
   "execution_count": null,
   "metadata": {
    "vscode": {
     "languageId": "plaintext"
    }
   },
   "outputs": [],
   "source": [
    "val nombre: String = \"Juan\""
   ]
  },
  {
   "cell_type": "markdown",
   "metadata": {},
   "source": [
    "### b) Mutables\n",
    "- **`var`:** Permite modificar el valor después de la asignación.\n"
   ]
  },
  {
   "cell_type": "code",
   "execution_count": null,
   "metadata": {
    "vscode": {
     "languageId": "plaintext"
    }
   },
   "outputs": [],
   "source": [
    "var edad: Int = 30\n",
    "edad = 31"
   ]
  },
  {
   "cell_type": "markdown",
   "metadata": {},
   "source": [
    "\n",
    "---\n",
    "\n",
    "# **4. Comentarios y Tipos de Datos**\n",
    "\n",
    "### Comentarios\n",
    "- **Comentario de una línea:**\n"
   ]
  },
  {
   "cell_type": "code",
   "execution_count": null,
   "metadata": {
    "vscode": {
     "languageId": "plaintext"
    }
   },
   "outputs": [],
   "source": [
    "// Este es un comentario de una línea"
   ]
  },
  {
   "cell_type": "markdown",
   "metadata": {},
   "source": [
    "- **Comentario de múltiples líneas:**"
   ]
  },
  {
   "cell_type": "code",
   "execution_count": null,
   "metadata": {
    "vscode": {
     "languageId": "plaintext"
    }
   },
   "outputs": [],
   "source": [
    "/*\n",
    "    Este es un comentario\n",
    "    que abarca varias líneas.\n",
    "*/"
   ]
  },
  {
   "cell_type": "markdown",
   "metadata": {},
   "source": [
    "\n",
    "\n",
    "### Tipos de Datos\n",
    "Kotlin ofrece varios tipos básicos:\n",
    "- **Numéricos:** `Int`, `Long`, `Short`, `Byte`\n",
    "- **Decimales:** `Float`, `Double`\n",
    "- **Booleanos:** `Boolean` (true o false)\n",
    "- **Caracteres:** `Char`\n",
    "- **Cadenas:** `String`\n",
    "- **Colecciones:** `Array`, `List`, `Set`, `Map`\n",
    "\n",
    "Además, Kotlin cuenta con un sistema de **null safety** para evitar excepciones de valor nulo.\n",
    "\n",
    "---\n",
    "\n",
    "# **5. Operadores Básicos**\n",
    "\n",
    "### Operadores Aritméticos\n",
    "- **Suma:** `+`\n",
    "- **Resta:** `-`\n",
    "- **Multiplicación:** `*`\n",
    "- **División:** `/`\n",
    "- **Módulo:** `%`\n",
    "\n",
    "### Operadores de Asignación\n",
    "- **Asignación simple:** `=`\n",
    "- **Suma y asignación:** `+=`\n",
    "- **Resta y asignación:** `-=`\n",
    "- **Multiplicación y asignación:** `*=`\n",
    "- **División y asignación:** `/=`\n",
    "\n",
    "### Operadores Relacionales y Lógicos\n",
    "- **Igualdad:** `==`\n",
    "- **Desigualdad:** `!=`\n",
    "- **Mayor que:** `>`\n",
    "- **Menor que:** `<`\n",
    "- **Mayor o igual:** `>=`\n",
    "- **Menor o igual:** `<=`\n",
    "- **Lógicos:** `&&` (AND), `||` (OR), `!` (NOT)\n",
    "\n",
    "---\n",
    "\n",
    "# **6. Matrices, Listas y Otras Colecciones**\n",
    "\n",
    "### Arrays\n",
    "Los **arrays** son estructuras de datos de tamaño fijo:\n"
   ]
  },
  {
   "cell_type": "code",
   "execution_count": null,
   "metadata": {
    "vscode": {
     "languageId": "plaintext"
    }
   },
   "outputs": [],
   "source": [
    "val numeros: Array<Int> = arrayOf(1, 2, 3, 4, 5)"
   ]
  },
  {
   "cell_type": "markdown",
   "metadata": {},
   "source": [
    "### Listas\n",
    "- **Lista inmutable:**"
   ]
  },
  {
   "cell_type": "code",
   "execution_count": null,
   "metadata": {
    "vscode": {
     "languageId": "plaintext"
    }
   },
   "outputs": [],
   "source": [
    "val frutas: List<String> = listOf(\"Manzana\", \"Banana\", \"Naranja\")"
   ]
  },
  {
   "cell_type": "markdown",
   "metadata": {},
   "source": [
    "- **Lista mutable:**"
   ]
  },
  {
   "cell_type": "code",
   "execution_count": null,
   "metadata": {
    "vscode": {
     "languageId": "plaintext"
    }
   },
   "outputs": [],
   "source": [
    "val vegetales: MutableList<String> = mutableListOf(\"Zanahoria\", \"Lechuga\", \"Tomate\")"
   ]
  },
  {
   "cell_type": "markdown",
   "metadata": {},
   "source": [
    "\n",
    "### Otros Tipos de Colecciones\n",
    "- **Sets:** Colecciones que no permiten elementos duplicados."
   ]
  },
  {
   "cell_type": "code",
   "execution_count": null,
   "metadata": {
    "vscode": {
     "languageId": "plaintext"
    }
   },
   "outputs": [],
   "source": [
    "val numerosUnicos: Set<Int> = setOf(1, 2, 3, 4, 5)"
   ]
  },
  {
   "cell_type": "markdown",
   "metadata": {},
   "source": [
    "- **Mapas:** Colecciones de pares clave-valor."
   ]
  },
  {
   "cell_type": "code",
   "execution_count": null,
   "metadata": {
    "vscode": {
     "languageId": "plaintext"
    }
   },
   "outputs": [],
   "source": [
    "val persona: Map<String, Any> = mapOf(\"nombre\" to \"Juan\", \"edad\" to 30)"
   ]
  },
  {
   "cell_type": "markdown",
   "metadata": {},
   "source": [
    "\n",
    "---\n",
    "\n",
    "# **7. Flujo de Control**\n",
    "\n",
    "### Condicionales\n",
    "- **if-else:**"
   ]
  },
  {
   "cell_type": "code",
   "execution_count": null,
   "metadata": {
    "vscode": {
     "languageId": "plaintext"
    }
   },
   "outputs": [],
   "source": [
    "val numero = 10\n",
    "  if (numero > 0) {\n",
    "      println(\"Número positivo\")\n",
    "  } else {\n",
    "      println(\"Número negativo o cero\")\n",
    "}"
   ]
  },
  {
   "cell_type": "markdown",
   "metadata": {},
   "source": [
    "- **when:**  \n",
    "  Funciona de forma similar a `switch`."
   ]
  },
  {
   "cell_type": "code",
   "execution_count": null,
   "metadata": {
    "vscode": {
     "languageId": "plaintext"
    }
   },
   "outputs": [],
   "source": [
    "val dia = 3\n",
    "  when (dia) {\n",
    "      1 -> println(\"Lunes\")\n",
    "      2 -> println(\"Martes\")\n",
    "      3 -> println(\"Miércoles\")\n",
    "      else -> println(\"Otro día\")\n",
    "}"
   ]
  },
  {
   "cell_type": "markdown",
   "metadata": {},
   "source": [
    "### Bucles\n",
    "- **for:**"
   ]
  },
  {
   "cell_type": "code",
   "execution_count": null,
   "metadata": {
    "vscode": {
     "languageId": "plaintext"
    }
   },
   "outputs": [],
   "source": [
    "for (i in 1..5) {\n",
    "      println(i)\n",
    "}"
   ]
  },
  {
   "cell_type": "markdown",
   "metadata": {},
   "source": [
    "- **while:**"
   ]
  },
  {
   "cell_type": "code",
   "execution_count": null,
   "metadata": {
    "vscode": {
     "languageId": "plaintext"
    }
   },
   "outputs": [],
   "source": [
    "var i = 1\n",
    "  while (i <= 5) {\n",
    "      println(i)\n",
    "      i++\n",
    "}"
   ]
  },
  {
   "cell_type": "markdown",
   "metadata": {},
   "source": [
    "\n",
    "- **do-while:**"
   ]
  },
  {
   "cell_type": "code",
   "execution_count": null,
   "metadata": {
    "vscode": {
     "languageId": "plaintext"
    }
   },
   "outputs": [],
   "source": [
    "var j = 1\n",
    "  do {\n",
    "      println(j)\n",
    "      j++\n",
    "  } while (j <= 5)"
   ]
  },
  {
   "cell_type": "markdown",
   "metadata": {},
   "source": [
    "\n",
    "---\n",
    "\n",
    "# **8. Funciones**\n",
    "\n",
    "### Función Básica\n",
    "Se definen con la palabra clave `fun`:"
   ]
  },
  {
   "cell_type": "code",
   "execution_count": null,
   "metadata": {
    "vscode": {
     "languageId": "plaintext"
    }
   },
   "outputs": [],
   "source": [
    "fun saludar(nombre: String): String {\n",
    "    return \"Hola, $nombre\"\n",
    "}"
   ]
  },
  {
   "cell_type": "markdown",
   "metadata": {},
   "source": [
    "### Función de una sola línea\n",
    "Para funciones simples, se puede simplificar la sintaxis:"
   ]
  },
  {
   "cell_type": "code",
   "execution_count": null,
   "metadata": {
    "vscode": {
     "languageId": "plaintext"
    }
   },
   "outputs": [],
   "source": [
    "fun sumar(a: Int, b: Int) = a + b"
   ]
  },
  {
   "cell_type": "markdown",
   "metadata": {},
   "source": [
    "\n",
    "### Funciones Lambda y de Orden Superior\n",
    "Las **expresiones lambda** permiten definir funciones anónimas:"
   ]
  },
  {
   "cell_type": "code",
   "execution_count": null,
   "metadata": {
    "vscode": {
     "languageId": "plaintext"
    }
   },
   "outputs": [],
   "source": [
    "val multiplicar: (Int, Int) -> Int = { x, y -> x * y }"
   ]
  },
  {
   "cell_type": "markdown",
   "metadata": {},
   "source": [
    "Además, las **funciones de orden superior** pueden recibir otras funciones como parámetros o retornarlas:"
   ]
  },
  {
   "cell_type": "code",
   "execution_count": null,
   "metadata": {
    "vscode": {
     "languageId": "plaintext"
    }
   },
   "outputs": [],
   "source": [
    "fun operar(a: Int, b: Int, operacion: (Int, Int) -> Int): Int {\n",
    "    return operacion(a, b)\n",
    "}\n",
    "\n",
    "val resultado = operar(4, 2) { x, y -> x + y }"
   ]
  },
  {
   "cell_type": "markdown",
   "metadata": {},
   "source": [
    "\n",
    "---\n",
    "\n",
    "# **9. Programación Orientada a Objetos**\n",
    "\n",
    "Kotlin combina paradigmas funcionales y orientados a objetos.\n",
    "\n",
    "### Clases y Objetos\n",
    "Definir una clase:"
   ]
  },
  {
   "cell_type": "code",
   "execution_count": null,
   "metadata": {
    "vscode": {
     "languageId": "plaintext"
    }
   },
   "outputs": [],
   "source": [
    "class Persona(val nombre: String, var edad: Int) {\n",
    "    fun presentarse() {\n",
    "        println(\"Hola, soy $nombre y tengo $edad años.\")\n",
    "    }\n",
    "}"
   ]
  },
  {
   "cell_type": "markdown",
   "metadata": {},
   "source": [
    "Crear una instancia:"
   ]
  },
  {
   "cell_type": "code",
   "execution_count": null,
   "metadata": {
    "vscode": {
     "languageId": "plaintext"
    }
   },
   "outputs": [],
   "source": [
    "val persona = Persona(\"Ana\", 25)\n",
    "persona.presentarse()"
   ]
  },
  {
   "cell_type": "markdown",
   "metadata": {},
   "source": [
    "\n",
    "---\n",
    "\n",
    "# **10. Manejo de Excepciones**\n",
    "\n",
    "Kotlin utiliza bloques `try-catch-finally` para el manejo de excepciones:\n"
   ]
  },
  {
   "cell_type": "code",
   "execution_count": null,
   "metadata": {
    "vscode": {
     "languageId": "plaintext"
    }
   },
   "outputs": [],
   "source": [
    "try {\n",
    "    val resultado = 10 / 0\n",
    "} catch (e: ArithmeticException) {\n",
    "    println(\"Error: División por cero\")\n",
    "} finally {\n",
    "    println(\"Bloque finally: se ejecuta siempre\")\n",
    "}"
   ]
  },
  {
   "cell_type": "markdown",
   "metadata": {},
   "source": [
    "\n",
    "También es posible lanzar excepciones utilizando `throw`:"
   ]
  },
  {
   "cell_type": "code",
   "execution_count": null,
   "metadata": {
    "vscode": {
     "languageId": "plaintext"
    }
   },
   "outputs": [],
   "source": [
    "fun validarEdad(edad: Int) {\n",
    "    if (edad < 0) {\n",
    "        throw IllegalArgumentException(\"La edad no puede ser negativa\")\n",
    "    }\n",
    "}"
   ]
  },
  {
   "cell_type": "markdown",
   "metadata": {},
   "source": [
    "\n",
    "---"
   ]
  },
  {
   "cell_type": "markdown",
   "metadata": {},
   "source": [
    "<p style=\"display: flex; align-items: center;\">\n",
    "    <img src=\"dog.gif\" alt=\"dog side eye\" style=\"margin-right: 40px; margin-left: 40px\">\n",
    "    <span style=\"font-size: 38px; font-weight: bold;\">Gracias por llegar hasta acá</span>\n",
    "</p>\n"
   ]
  },
  {
   "cell_type": "code",
   "execution_count": 1,
   "metadata": {
    "vscode": {
     "languageId": "python"
    }
   },
   "outputs": [
    {
     "name": "stdout",
     "output_type": "stream",
     "text": [
      "Hola mundo\n"
     ]
    }
   ],
   "source": [
    "print(\"Hola mundo\")"
   ]
  }
 ],
 "metadata": {
  "kernelspec": {
   "display_name": "Kotlin",
   "language": "kotlin",
   "name": "kotlin"
  },
  "language_info": {
   "codemirror_mode": {
    "name": "ipython",
    "version": 3
   },
   "file_extension": ".py",
   "mimetype": "text/x-python",
   "name": "kotlin",
   "nbconvert_exporter": "python",
   "pygments_lexer": "ipython3",
   "version": "3.13.1"
  }
 },
 "nbformat": 4,
 "nbformat_minor": 2
}
