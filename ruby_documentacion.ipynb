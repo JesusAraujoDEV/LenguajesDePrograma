{
 "cells": [
  {
   "cell_type": "markdown",
   "metadata": {},
   "source": [
    "\n",
    "---\n",
    "\n",
    "# **¿Qué es Ruby?**  \n",
    "Ruby es un **lenguaje de programación interpretado, reflexivo y orientado a objetos**, creado por el programador japonés **Yukihiro \"Matz\" Matsumoto**, quien comenzó a trabajar en Ruby en **1993** y lo presentó públicamente en **1995**.  \n",
    "\n",
    "Ruby combina una **sintaxis elegante e inspirada en Python y Perl** con características avanzadas de **programación orientada a objetos**, similares a Smalltalk. Además, comparte funcionalidades con otros lenguajes como Lisp, Lua, Dylan y CLU.  \n",
    "\n",
    "Una de sus principales características es que Ruby es un lenguaje de programación **interpretado en una sola pasada**, y su implementación oficial es distribuida bajo una **licencia de software libre**.\n",
    "\n",
    "---\n",
    "\n",
    "# **¿Para qué puede ser usado?**  \n",
    "Ruby es un lenguaje **generalista y altamente portátil**, diseñado para múltiples propósitos. Entre sus aplicaciones más comunes se encuentran:  \n",
    "\n",
    "- **Aplicaciones de escritorio**  \n",
    "- **Sitios web estáticos**  \n",
    "- **Procesamiento de datos**  \n",
    "- **Herramientas de automatización**  \n",
    "\n",
    "Además, Ruby es ampliamente utilizado en áreas como:  \n",
    "- **Servidores web**  \n",
    "- **DevOps**  \n",
    "- **Web scraping** (extracción y rastreo de información en páginas web).  \n",
    "\n",
    "---"
   ]
  },
  {
   "cell_type": "markdown",
   "metadata": {},
   "source": [
    "---\n",
    "\n",
    "# **Instalación**  \n",
    "\n",
    "Ruby se puede instalar y gestionar fácilmente utilizando **gestores de paquetes** o **herramientas de terceros**.  \n",
    "\n",
    "Antes de instalarlo, verifica si ya tienes Ruby en tu computadora. Abre una terminal y ejecuta el siguiente comando:  "
   ]
  },
  {
   "cell_type": "code",
   "execution_count": 8,
   "metadata": {},
   "outputs": [
    {
     "name": "stdout",
     "output_type": "stream",
     "text": [
      "ruby 3.3.7 (2025-01-15 revision be31f993d7) [x64-mingw-ucrt]\n"
     ]
    }
   ],
   "source": [
    "puts `ruby -v`\n"
   ]
  },
  {
   "cell_type": "markdown",
   "metadata": {},
   "source": [
    "---\n",
    "\n",
    "## **Verificando la instalación**  \n",
    "\n",
    "Al ejecutar el comando se debería obtener información sobre la versión de Ruby instalada.  \n",
    "\n",
    "En este notebook, como se puede observar, **Ruby ya está instalado**.  "
   ]
  },
  {
   "cell_type": "markdown",
   "metadata": {},
   "source": [
    "---\n",
    "\n",
    "## **Escoge un método de instalación**  \n",
    "\n",
    "Ruby puede instalarse de diversas maneras, dependiendo del sistema operativo que uses:  \n",
    "\n",
    "1. **Gestores de paquetes en sistemas UNIX**:  \n",
    "   La forma más sencilla de instalar Ruby en sistemas UNIX es utilizando el gestor de paquetes de la distribución. Sin embargo, puede que la versión provista no sea la más reciente.  \n",
    "\n",
    "2. **Instaladores específicos**:  \n",
    "   Existen instaladores para una o varias versiones de Ruby, incluyendo opciones específicas para Windows.  \n",
    "\n",
    "3. **Gestores de versiones**:  \n",
    "   Los gestores permiten cambiar fácilmente entre múltiples versiones de Ruby en el mismo sistema.  \n",
    "\n",
    "4. **Compilación desde código fuente**:  \n",
    "   Puedes descargar el código fuente y compilar Ruby manualmente.  \n",
    "\n",
    "5. **Windows Subsystem for Linux (WSL)**:  \n",
    "   En Windows 10 y posteriores, puedes usar WSL para instalar una distribución de Linux soportada y emplear cualquier método de instalación disponible en ese sistema.  \n",
    "\n",
    "---\n",
    "\n",
    "### **Métodos por sistema operativo**  \n",
    "\n",
    "#### **Windows**  \n",
    "Para instalar Ruby en Windows:  \n",
    "- Visita [Ruby Installer](https://rubyinstaller.org/downloads/) y descarga la versión recomendada.  \n",
    "- En este notebook se utilizó el instalador disponible en:  \n",
    "  [Ruby Installer DevKit 3.3.7-1](https://github.com/oneclick/rubyinstaller2/releases/download/RubyInstaller-3.3.7-1/rubyinstaller-devkit-3.3.7-1-x64.exe).  \n",
    "\n",
    "#### **Linux**  \n",
    "Para instalar Ruby en Linux:  \n",
    "- Consulta la documentación en [ruby-lang.org](https://www.ruby-lang.org/es/documentation/installation/) para seguir las instrucciones específicas del subsistema que elegiste.  \n",
    "\n",
    "#### **MacOS**  \n",
    "Ruby 2.0 y versiones superiores están incluidas en macOS desde El Capitan (10.11).  \n",
    "Sin embargo, para instalar la última versión de Ruby, puedes usar **Homebrew**, el gestor de paquetes más común en macOS:  \n",
    "\n",
    "```bash\n",
    "brew install ruby\n",
    "```  \n",
    "\n",
    "Este comando instalará automáticamente la versión más reciente de Ruby.  \n",
    "\n",
    "---"
   ]
  },
  {
   "cell_type": "markdown",
   "metadata": {},
   "source": []
  }
 ],
 "metadata": {
  "kernelspec": {
   "display_name": "Ruby 3 (iruby kernel)",
   "language": "ruby",
   "name": "ruby3"
  },
  "language_info": {
   "file_extension": ".rb",
   "mimetype": "application/x-ruby",
   "name": "ruby",
   "version": "3.3.7"
  }
 },
 "nbformat": 4,
 "nbformat_minor": 2
}
