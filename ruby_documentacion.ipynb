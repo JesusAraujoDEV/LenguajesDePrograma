{
 "cells": [
  {
   "cell_type": "markdown",
   "metadata": {},
   "source": [
    "\n",
    "---\n",
    "\n",
    "# **¿Qué es Ruby?**  \n",
    "Ruby es un **lenguaje de programación interpretado, reflexivo y orientado a objetos**, creado por el programador japonés **Yukihiro \"Matz\" Matsumoto**, quien comenzó a trabajar en Ruby en **1993** y lo presentó públicamente en **1995**.  \n",
    "\n",
    "Ruby combina una **sintaxis elegante e inspirada en Python y Perl** con características avanzadas de **programación orientada a objetos**, similares a Smalltalk. Además, comparte funcionalidades con otros lenguajes como Lisp, Lua, Dylan y CLU.  \n",
    "\n",
    "Una de sus principales características es que Ruby es un lenguaje de programación **interpretado en una sola pasada**, y su implementación oficial es distribuida bajo una **licencia de software libre**.\n",
    "\n",
    "---\n",
    "\n",
    "# **¿Para qué puede ser usado?**  \n",
    "Ruby es un lenguaje **generalista y altamente portátil**, diseñado para múltiples propósitos. Entre sus aplicaciones más comunes se encuentran:  \n",
    "\n",
    "- **Aplicaciones de escritorio**  \n",
    "- **Sitios web estáticos**  \n",
    "- **Procesamiento de datos**  \n",
    "- **Herramientas de automatización**  \n",
    "\n",
    "Además, Ruby es ampliamente utilizado en áreas como:  \n",
    "- **Servidores web**  \n",
    "- **DevOps**  \n",
    "- **Web scraping** (extracción y rastreo de información en páginas web).  \n",
    "\n",
    "---"
   ]
  },
  {
   "cell_type": "markdown",
   "metadata": {},
   "source": [
    "---\n",
    "\n",
    "# **Instalación**  \n",
    "\n",
    "Ruby se puede instalar y gestionar fácilmente utilizando **gestores de paquetes** o **herramientas de terceros**.  \n",
    "\n",
    "Antes de instalarlo, verifica si ya tienes Ruby en tu computadora. Abre una terminal y ejecuta el siguiente comando:  "
   ]
  },
  {
   "cell_type": "code",
   "execution_count": 8,
   "metadata": {},
   "outputs": [
    {
     "name": "stdout",
     "output_type": "stream",
     "text": [
      "ruby 3.3.7 (2025-01-15 revision be31f993d7) [x64-mingw-ucrt]\n"
     ]
    }
   ],
   "source": [
    "puts `ruby -v`\n"
   ]
  },
  {
   "cell_type": "markdown",
   "metadata": {},
   "source": [
    "---\n",
    "\n",
    "## **Verificando la instalación**  \n",
    "\n",
    "Al ejecutar el comando se debería obtener información sobre la versión de Ruby instalada.  \n",
    "\n",
    "En este notebook, como se puede observar, **Ruby ya está instalado**.  "
   ]
  },
  {
   "cell_type": "markdown",
   "metadata": {},
   "source": [
    "---\n",
    "\n",
    "## **Escoge un método de instalación**  \n",
    "\n",
    "Ruby puede instalarse de diversas maneras, dependiendo del sistema operativo que uses:  \n",
    "\n",
    "1. **Gestores de paquetes en sistemas UNIX**:  \n",
    "   La forma más sencilla de instalar Ruby en sistemas UNIX es utilizando el gestor de paquetes de la distribución. Sin embargo, puede que la versión provista no sea la más reciente.  \n",
    "\n",
    "2. **Instaladores específicos**:  \n",
    "   Existen instaladores para una o varias versiones de Ruby, incluyendo opciones específicas para Windows.  \n",
    "\n",
    "3. **Gestores de versiones**:  \n",
    "   Los gestores permiten cambiar fácilmente entre múltiples versiones de Ruby en el mismo sistema.  \n",
    "\n",
    "4. **Compilación desde código fuente**:  \n",
    "   Puedes descargar el código fuente y compilar Ruby manualmente.  \n",
    "\n",
    "5. **Windows Subsystem for Linux (WSL)**:  \n",
    "   En Windows 10 y posteriores, puedes usar WSL para instalar una distribución de Linux soportada y emplear cualquier método de instalación disponible en ese sistema.  \n",
    "\n",
    "---\n",
    "\n",
    "### **Métodos por sistema operativo**  \n",
    "\n",
    "#### **Windows**  \n",
    "Para instalar Ruby en Windows:  \n",
    "- Visita [Ruby Installer](https://rubyinstaller.org/downloads/) y descarga la versión recomendada.  \n",
    "- En este notebook se utilizó el instalador disponible en:  \n",
    "  [Ruby Installer DevKit 3.3.7-1](https://github.com/oneclick/rubyinstaller2/releases/download/RubyInstaller-3.3.7-1/rubyinstaller-devkit-3.3.7-1-x64.exe).  \n",
    "\n",
    "#### **Linux**  \n",
    "Para instalar Ruby en Linux:  \n",
    "- Consulta la documentación en [ruby-lang.org](https://www.ruby-lang.org/es/documentation/installation/) para seguir las instrucciones específicas del subsistema que elegiste.  \n",
    "\n",
    "#### **MacOS**  \n",
    "Ruby 2.0 y versiones superiores están incluidas en macOS desde El Capitan (10.11).  \n",
    "Sin embargo, para instalar la última versión de Ruby, puedes usar **Homebrew**, el gestor de paquetes más común en macOS:  \n",
    "\n",
    "```bash\n",
    "brew install ruby\n",
    "```  \n",
    "\n",
    "Este comando instalará automáticamente la versión más reciente de Ruby.  \n",
    "\n",
    "---"
   ]
  },
  {
   "cell_type": "markdown",
   "metadata": {},
   "source": [
    "\n",
    "\n",
    "\n",
    "\n",
    "---\n",
    "\n",
    "## **Ejecutar código Ruby**  \n",
    "\n",
    "Ruby permite ejecutar código de dos formas principales. Una de las más comunes es a través del **interpretador interactivo** llamado **IRB** (*Interactive Ruby*).  \n",
    "\n",
    "### **Abrir el interpretador IRB**  \n",
    "Para iniciar el interpretador, simplemente ejecuta el siguiente comando en la terminal:  \n",
    "\n",
    "```bash\n",
    "irb\n",
    "```  \n",
    "\n",
    "El prompt del interpretador aparecerá indicando la versión de Ruby instalada:  \n",
    "\n",
    "```bash\n",
    "2.3.0 :001 >\n",
    "```  \n",
    "\n",
    "### **Probar expresiones en IRB**  \n",
    "Dentro del interpretador, puedes escribir cualquier expresión válida de Ruby, presionar Enter y el interpretador evaluará la expresión mostrando el resultado:  \n",
    "\n",
    "```bash\n",
    "2.3.0 :001 > 1 + 2  \n",
    "  => 3  \n",
    "2.3.0 :002 >\n",
    "```  \n",
    "\n",
    "Puedes repetir este proceso cuantas veces necesites, haciendo de IRB una herramienta rápida y conveniente para probar código Ruby.  \n",
    "\n",
    "### **Salir del interpretador**  \n",
    "Cuando termines, simplemente escribe `exit` y presiona Enter para cerrar el interpretador:  \n",
    "\n",
    "```bash\n",
    "2.3.0 :003 > exit  \n",
    "```  \n",
    "\n",
    "---"
   ]
  },
  {
   "cell_type": "markdown",
   "metadata": {},
   "source": [
    "\n",
    "---\n",
    "\n",
    "## **Nuestro primer programa en Ruby**  \n",
    "\n",
    "Otra manera de ejecutar código Ruby es creando un archivo con extensión `.rb` en el que escribimos nuestro código.  \n",
    "\n",
    "Aunque normalmente se necesitaría crear una carpeta en la máquina, abrirla con tu editor favorito y escribir el código en un archivo, en este notebook simplemente se mostrará el contenido del archivo para facilitar el aprendizaje.  \n",
    "\n",
    "### **Código de ejemplo: `hello_world.rb`**  :"
   ]
  },
  {
   "cell_type": "code",
   "execution_count": 3,
   "metadata": {},
   "outputs": [
    {
     "name": "stdout",
     "output_type": "stream",
     "text": [
      "Hola mundo\n"
     ]
    }
   ],
   "source": [
    "puts \"Hola mundo\""
   ]
  },
  {
   "cell_type": "markdown",
   "metadata": {},
   "source": [
    "\n",
    "## **Ejecución del programa:**\n",
    "\n",
    "Guarde el archivo. Para ejecutarlo, escriba lo siguiente en la consola, asegurándose de estar en la carpeta donde se encuentra el archivo:\n",
    "\n",
    "```bash\n",
    "ruby hello_world.rb\n",
    "```\n",
    "\n",
    "**Resultado esperado:**\n",
    "\n",
    "```text\n",
    "Hola mundo\n",
    "```\n",
    "\n",
    "El texto `\"Hola mundo\"` debería mostrarse en la consola. Cambie el texto por cualquier otro y vuelva a ejecutar el archivo.\n",
    "\n",
    "--- "
   ]
  },
  {
   "cell_type": "markdown",
   "metadata": {},
   "source": [
    "\n",
    "---\n",
    "\n",
    "## **Variables y entrada de usuario**  \n",
    "\n",
    "Las variables permiten almacenar información temporal que se puede utilizar más adelante en los programas.  \n",
    "\n",
    "### **Ejemplo básico de variables:**  "
   ]
  },
  {
   "cell_type": "code",
   "execution_count": 5,
   "metadata": {},
   "outputs": [
    {
     "name": "stdout",
     "output_type": "stream",
     "text": [
      "Hola Jesus\n"
     ]
    }
   ],
   "source": [
    "name = \"Jesus\"\n",
    "puts \"Hola #{name}\""
   ]
  },
  {
   "cell_type": "markdown",
   "metadata": {},
   "source": [
    "\n",
    "\n",
    "En este ejemplo, se define una variable llamada `name` y se le asigna el valor `\"Jesus\"`. Posteriormente, se utiliza interpolación para mostrar la cadena de texto `\"Hola \"` seguida del valor almacenado en la variable `name`.  \n",
    "\n",
    "---\n",
    "\n",
    "### **Reglas para nombres de variables:**  \n",
    "\n",
    "- **Inicio válido:** El nombre de una variable debe comenzar con `$`, `_` o una letra.  \n",
    "- **Caracteres permitidos:** Después del primer carácter, puede incluir letras, dígitos, `_` y `$`.  \n",
    "- **Ejemplos válidos:**  \n",
    "  - `name`  \n",
    "  - `$element`  \n",
    "  - `_trains`  \n",
    "- **Ejemplos no válidos:**  \n",
    "  - `443jesus` (no puede comenzar con un número).  \n",
    "  - `element&123` (el carácter `&` no es permitido).  \n",
    "\n",
    "### **Restricciones adicionales:**  \n",
    "\n",
    "- Las palabras reservadas de Ruby no se pueden usar como nombres de variables.  \n",
    "- Como buena práctica, se recomienda:  \n",
    "  1. Iniciar las variables con una letra minúscula.  \n",
    "  2. Usar guiones bajos (`_`) para separar palabras en nombres compuestos.  \n",
    "     - Ejemplo: `video_transcoder`, `first_name`.  \n",
    "\n",
    "--- \n",
    "\n",
    "### **Ejemplo de error con variables**  \n",
    "\n",
    "A continuación, se muestra un ejemplo de lo que ocurre al usar un nombre de variable no válido:"
   ]
  },
  {
   "cell_type": "code",
   "execution_count": 1,
   "metadata": {},
   "outputs": [
    {
     "ename": "SyntaxError",
     "evalue": "(irb): syntax error, unexpected local variable or method, expecting end-of-input\n2name = \"Error\"\n ^~~~\n",
     "output_type": "error",
     "traceback": [
      "\u001b[31mSyntaxError\u001b[0m: (irb): syntax error, unexpected local variable or method, expecting end-of-input\n2name = \"Error\"\n ^~~~\n"
     ]
    }
   ],
   "source": [
    "2name = \"Error\"\n",
    "puts 2name"
   ]
  },
  {
   "cell_type": "markdown",
   "metadata": {},
   "source": [
    "En este caso, el error ocurre porque el nombre de la variable comienza con un número (`2name`), lo cual no es válido en Ruby.  \n",
    "\n",
    "---"
   ]
  },
  {
   "cell_type": "markdown",
   "metadata": {},
   "source": [
    "\n",
    "\n",
    "## **Tipos de variables en Ruby**  \n",
    "\n",
    "En Ruby, existen 5 tipos de variables, cada una con un propósito específico:  \n",
    "\n",
    "1. **Globales**  \n",
    "2. **De clase**  \n",
    "3. **De instancia**  \n",
    "4. **Locales**  \n",
    "5. **Constantes**  \n",
    "\n",
    "---\n"
   ]
  },
  {
   "cell_type": "markdown",
   "metadata": {},
   "source": [
    "### **1. Variables globales**  \n",
    "\n",
    "- Su nombre comienza con el símbolo `$`.  \n",
    "- Tienen alcance y acceso global en toda la aplicación o proyecto.  \n",
    "- **Nota:** No se recomienda su uso ya que complican el mantenimiento y la depuración de los programas.  \n",
    "\n",
    "#### **Ejemplo de variable global:**  "
   ]
  },
  {
   "cell_type": "code",
   "execution_count": 1,
   "metadata": {},
   "outputs": [
    {
     "name": "stdout",
     "output_type": "stream",
     "text": [
      "This is a global variable value\n",
      "Hi!\n"
     ]
    }
   ],
   "source": [
    "$global_variable = 'This is a global variable value'\n",
    "\n",
    "class Person\n",
    "  def talk\n",
    "    puts $global_variable\n",
    "    puts 'Hi!'\n",
    "  end\n",
    "end\n",
    "\n",
    "Person.new.talk\n",
    "# Output:\n",
    "# This is a global variable value\n",
    "# Hi!"
   ]
  },
  {
   "cell_type": "markdown",
   "metadata": {},
   "source": [
    "\n",
    "---\n",
    "\n",
    "### **2. Variables de clase**  \n",
    "\n",
    "- Comienzan con `@@`.  \n",
    "- Son compartidas entre todas las instancias de una clase.  \n",
    "- Si se modifica su valor en una instancia, el cambio afecta a todas las demás instancias.  \n",
    "\n",
    "#### **Ejemplo de variable de clase:**  "
   ]
  },
  {
   "cell_type": "code",
   "execution_count": 2,
   "metadata": {},
   "outputs": [
    {
     "name": "stdout",
     "output_type": "stream",
     "text": [
      "This is a class variable value\n",
      "Hi!\n"
     ]
    }
   ],
   "source": [
    "class Person\n",
    "  @@class_variable = 'This is a class variable value'\n",
    "\n",
    "  def talk\n",
    "    puts @@class_variable\n",
    "    puts 'Hi!'\n",
    "  end\n",
    "end\n",
    "\n",
    "Person.new.talk\n",
    "# Output:\n",
    "# This is a class variable value\n",
    "# Hi!"
   ]
  },
  {
   "cell_type": "markdown",
   "metadata": {},
   "source": [
    "\n",
    "---\n",
    "\n",
    "### **3. Variables de instancia**  \n",
    "\n",
    "- Comienzan con `@`.  \n",
    "- Pertenecen a una instancia específica de una clase.  \n",
    "- Si no se inicializan, su valor por defecto es `nil`.  \n",
    "- Son ideales para definir atributos de objetos.  \n",
    "\n",
    "#### **Ejemplo básico de variable de instancia:**  \n"
   ]
  },
  {
   "cell_type": "code",
   "execution_count": 3,
   "metadata": {},
   "outputs": [
    {
     "name": "stdout",
     "output_type": "stream",
     "text": [
      "Hi!\n"
     ]
    }
   ],
   "source": [
    "class Person\n",
    "  def talk\n",
    "    puts 'Hi!'\n",
    "  end\n",
    "end\n",
    "\n",
    "@person = Person.new # This is an instance variable\n",
    "@person.talk\n",
    "# Output:\n",
    "# Hi!"
   ]
  },
  {
   "cell_type": "markdown",
   "metadata": {},
   "source": [
    "\n",
    "#### **Ejemplo con constructor (`initialize`):**  "
   ]
  },
  {
   "cell_type": "code",
   "execution_count": 4,
   "metadata": {},
   "outputs": [
    {
     "name": "stdout",
     "output_type": "stream",
     "text": [
      "Hi!, my name is Jesus\n"
     ]
    }
   ],
   "source": [
    "class Person\n",
    "  def initialize(name:)\n",
    "    @name = name # This is an instance variable\n",
    "  end\n",
    "\n",
    "  def talk\n",
    "    puts \"Hi!, my name is #{@name}\" # Using the instance variable @name\n",
    "  end\n",
    "end\n",
    "\n",
    "@person = Person.new(name: 'Jesus') # This is an instance variable\n",
    "@person.talk\n",
    "# Output:\n",
    "# Hi!, my name is Jesus"
   ]
  },
  {
   "cell_type": "markdown",
   "metadata": {},
   "source": [
    "\n",
    "---\n",
    "\n",
    "### **4. Variables locales**  \n",
    "\n",
    "- No comienzan con símbolos especiales.  \n",
    "- Su alcance está limitado al bloque o método en el que se definen.  \n",
    "- Se utilizan para operaciones temporales y tienen un ciclo de vida corto.  \n",
    "\n",
    "#### **Ejemplo de variable local:**  "
   ]
  },
  {
   "cell_type": "code",
   "execution_count": 5,
   "metadata": {},
   "outputs": [
    {
     "name": "stdout",
     "output_type": "stream",
     "text": [
      "Hello!\n"
     ]
    }
   ],
   "source": [
    "def greet\n",
    "  local_variable = 'Hello!' # This is a local variable\n",
    "  puts local_variable\n",
    "end\n",
    "\n",
    "greet\n",
    "# Output:\n",
    "# Hello!"
   ]
  },
  {
   "cell_type": "markdown",
   "metadata": {},
   "source": [
    "\n",
    "---\n",
    "\n",
    "### **5. Constantes**  \n",
    "\n",
    "- Su nombre debe comenzar con una letra mayúscula.  \n",
    "- Representan valores que no deben cambiar, aunque técnicamente pueden ser modificados con una advertencia.  \n",
    "- Se utilizan para definir valores fijos o configuraciones.  \n",
    "\n",
    "#### **Ejemplo de constante:**  \n",
    "\n",
    "\n"
   ]
  },
  {
   "cell_type": "code",
   "execution_count": 6,
   "metadata": {},
   "outputs": [
    {
     "name": "stdout",
     "output_type": "stream",
     "text": [
      "This is a constant variable value\n"
     ]
    }
   ],
   "source": [
    "CONSTANT_VARIABLE = 'This is a constant variable value'\n",
    "\n",
    "puts CONSTANT_VARIABLE\n",
    "# Output:\n",
    "# This is a constant variable value"
   ]
  },
  {
   "cell_type": "markdown",
   "metadata": {},
   "source": [
    "\n",
    "---  \n",
    "\n",
    "## **Tipos de datos en Ruby**  \n",
    "\n",
    "Ruby utiliza un sistema de **tipos dinámicos**, lo que significa que no es necesario declarar explícitamente el tipo de dato de una variable. El tipo está determinado por el valor que se asigna.  \n",
    "\n",
    "### **Tipos de datos comunes:**  \n",
    "\n",
    "#### **1. Enteros (`Integer`)**  \n",
    "Representan números enteros.  "
   ]
  },
  {
   "cell_type": "code",
   "execution_count": 7,
   "metadata": {},
   "outputs": [
    {
     "name": "stdout",
     "output_type": "stream",
     "text": [
      "La edad es 25\n",
      "Integer\n"
     ]
    }
   ],
   "source": [
    "edad = 25\n",
    "puts \"La edad es #{edad}\" # Output: La edad es 25\n",
    "puts edad.class           # Output: Integer"
   ]
  },
  {
   "cell_type": "markdown",
   "metadata": {},
   "source": [
    "\n",
    "#### **2. Flotantes (`Float`)**  \n",
    "Representan números decimales.  "
   ]
  },
  {
   "cell_type": "code",
   "execution_count": 8,
   "metadata": {},
   "outputs": [
    {
     "name": "stdout",
     "output_type": "stream",
     "text": [
      "La altura es 1.75\n",
      "Float\n"
     ]
    }
   ],
   "source": [
    "altura = 1.75\n",
    "puts \"La altura es #{altura}\" # Output: La altura es 1.75\n",
    "puts altura.class             # Output: Float"
   ]
  },
  {
   "cell_type": "markdown",
   "metadata": {},
   "source": [
    "\n",
    "#### **3. Cadenas (`String`)**  \n",
    "Representan texto.  "
   ]
  },
  {
   "cell_type": "code",
   "execution_count": null,
   "metadata": {},
   "outputs": [],
   "source": [
    "nombre = \"Jesús\"\n",
    "puts \"Hola #{nombre}\" # Output: Hola Jesús\n",
    "puts nombre.class     # Output: String"
   ]
  },
  {
   "cell_type": "markdown",
   "metadata": {},
   "source": [
    "#### **4. Booleanos (`TrueClass` y `FalseClass`)**  \n",
    "Representan valores verdaderos o falsos.  "
   ]
  },
  {
   "cell_type": "code",
   "execution_count": 9,
   "metadata": {},
   "outputs": [
    {
     "name": "stdout",
     "output_type": "stream",
     "text": [
      "true\n",
      "TrueClass\n"
     ]
    }
   ],
   "source": [
    "es_ruby_genial = true\n",
    "puts es_ruby_genial       # Output: true\n",
    "puts es_ruby_genial.class # Output: TrueClass"
   ]
  },
  {
   "cell_type": "markdown",
   "metadata": {},
   "source": [
    "#### **5. Arreglos (`Array`)**  \n",
    "Son colecciones ordenadas de elementos.  \n"
   ]
  },
  {
   "cell_type": "code",
   "execution_count": 10,
   "metadata": {},
   "outputs": [
    {
     "name": "stdout",
     "output_type": "stream",
     "text": [
      "[1, 2, 3]\n",
      "Array\n"
     ]
    }
   ],
   "source": [
    "numeros = [1, 2, 3]\n",
    "puts numeros.inspect  # Output: [1, 2, 3]\n",
    "puts numeros.class    # Output: Array"
   ]
  },
  {
   "cell_type": "markdown",
   "metadata": {},
   "source": [
    "#### **6. Hashes (`Hash`)**  \n",
    "Son colecciones de pares clave-valor.  "
   ]
  },
  {
   "cell_type": "code",
   "execution_count": 12,
   "metadata": {},
   "outputs": [
    {
     "name": "stdout",
     "output_type": "stream",
     "text": [
      "{:nombre=>\"Jesus\", :edad=>25}\n",
      "Hash\n"
     ]
    }
   ],
   "source": [
    "persona = { nombre: \"Jesus\", edad: 25 }\n",
    "puts persona.inspect  # Output: {:nombre=>\"Jesús\", :edad=>25}\n",
    "puts persona.class    # Output: Hash"
   ]
  },
  {
   "cell_type": "markdown",
   "metadata": {},
   "source": [
    "#### **7. Nil (`NilClass`)**  \n",
    "Representa la ausencia de un valor.  "
   ]
  },
  {
   "cell_type": "code",
   "execution_count": 13,
   "metadata": {},
   "outputs": [
    {
     "name": "stdout",
     "output_type": "stream",
     "text": [
      "\n",
      "NilClass\n"
     ]
    }
   ],
   "source": [
    "vacio = nil\n",
    "puts vacio            # Output: \n",
    "puts vacio.class      # Output: NilClass"
   ]
  },
  {
   "cell_type": "markdown",
   "metadata": {},
   "source": [
    "\n",
    "---  \n",
    "\n",
    "### **¿Cómo comprobar el tipo de una variable?**  \n",
    "\n",
    "Ruby ofrece el método `.class` para verificar el tipo de dato de una variable:  "
   ]
  },
  {
   "cell_type": "code",
   "execution_count": 14,
   "metadata": {},
   "outputs": [
    {
     "name": "stdout",
     "output_type": "stream",
     "text": [
      "String\n"
     ]
    }
   ],
   "source": [
    "dato = \"Hola mundo\"\n",
    "puts dato.class # Output: String"
   ]
  },
  {
   "cell_type": "markdown",
   "metadata": {},
   "source": [
    "---  "
   ]
  }
 ],
 "metadata": {
  "kernelspec": {
   "display_name": "Ruby 3 (iruby kernel)",
   "language": "ruby",
   "name": "ruby3"
  },
  "language_info": {
   "file_extension": ".rb",
   "mimetype": "application/x-ruby",
   "name": "ruby",
   "version": "3.3.7"
  }
 },
 "nbformat": 4,
 "nbformat_minor": 2
}
