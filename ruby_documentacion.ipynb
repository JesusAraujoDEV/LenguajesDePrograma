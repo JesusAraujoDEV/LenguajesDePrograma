{
 "cells": [
  {
   "cell_type": "markdown",
   "metadata": {},
   "source": [
    "\n",
    "---\n",
    "\n",
    "# **¿Qué es Ruby?**  \n",
    "Ruby es un **lenguaje de programación interpretado, reflexivo y orientado a objetos**, creado por el programador japonés **Yukihiro \"Matz\" Matsumoto**, quien comenzó a trabajar en Ruby en **1993** y lo presentó públicamente en **1995**.  \n",
    "\n",
    "Ruby combina una **sintaxis elegante e inspirada en Python y Perl** con características avanzadas de **programación orientada a objetos**, similares a Smalltalk. Además, comparte funcionalidades con otros lenguajes como Lisp, Lua, Dylan y CLU.  \n",
    "\n",
    "Una de sus principales características es que Ruby es un lenguaje de programación **interpretado en una sola pasada**, y su implementación oficial es distribuida bajo una **licencia de software libre**.\n",
    "\n",
    "---\n",
    "\n",
    "# **¿Para qué puede ser usado?**  \n",
    "Ruby es un lenguaje **generalista y altamente portátil**, diseñado para múltiples propósitos. Entre sus aplicaciones más comunes se encuentran:  \n",
    "\n",
    "- **Aplicaciones de escritorio**  \n",
    "- **Sitios web estáticos**  \n",
    "- **Procesamiento de datos**  \n",
    "- **Herramientas de automatización**  \n",
    "\n",
    "Además, Ruby es ampliamente utilizado en áreas como:  \n",
    "- **Servidores web**  \n",
    "- **DevOps**  \n",
    "- **Web scraping** (extracción y rastreo de información en páginas web).  \n",
    "\n",
    "---"
   ]
  },
  {
   "cell_type": "markdown",
   "metadata": {},
   "source": []
  },
  {
   "cell_type": "code",
   "execution_count": 8,
   "metadata": {},
   "outputs": [
    {
     "name": "stdout",
     "output_type": "stream",
     "text": [
      "ruby 3.3.7 (2025-01-15 revision be31f993d7) [x64-mingw-ucrt]\n"
     ]
    }
   ],
   "source": [
    "puts `ruby -v`\n"
   ]
  },
  {
   "cell_type": "code",
   "execution_count": null,
   "metadata": {},
   "outputs": [],
   "source": []
  }
 ],
 "metadata": {
  "kernelspec": {
   "display_name": "Ruby 3 (iruby kernel)",
   "language": "ruby",
   "name": "ruby3"
  },
  "language_info": {
   "file_extension": ".rb",
   "mimetype": "application/x-ruby",
   "name": "ruby",
   "version": "3.3.7"
  }
 },
 "nbformat": 4,
 "nbformat_minor": 2
}
