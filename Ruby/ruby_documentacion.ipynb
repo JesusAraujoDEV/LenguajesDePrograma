{
 "cells": [
  {
   "cell_type": "markdown",
   "metadata": {},
   "source": [
    "\n",
    "---\n",
    "\n",
    "# **¿Qué es Ruby?**  \n",
    "Ruby es un **lenguaje de programación interpretado, reflexivo y orientado a objetos**, creado por el programador japonés **Yukihiro \"Matz\" Matsumoto**, quien comenzó a trabajar en Ruby en **1993** y lo presentó públicamente en **1995**.  \n",
    "\n",
    "Ruby combina una **sintaxis elegante e inspirada en Python y Perl** con características avanzadas de **programación orientada a objetos**, similares a Smalltalk. Además, comparte funcionalidades con otros lenguajes como Lisp, Lua, Dylan y CLU.  \n",
    "\n",
    "Una de sus principales características es que Ruby es un lenguaje de programación **interpretado en una sola pasada**, y su implementación oficial es distribuida bajo una **licencia de software libre**.\n",
    "\n",
    "---\n",
    "\n",
    "# **¿Para qué puede ser usado?**  \n",
    "Ruby es un lenguaje **generalista y altamente portátil**, diseñado para múltiples propósitos. Entre sus aplicaciones más comunes se encuentran:  \n",
    "\n",
    "- **Aplicaciones de escritorio**  \n",
    "- **Sitios web estáticos**  \n",
    "- **Procesamiento de datos**  \n",
    "- **Herramientas de automatización**  \n",
    "\n",
    "Además, Ruby es ampliamente utilizado en áreas como:  \n",
    "- **Servidores web**  \n",
    "- **DevOps**  \n",
    "- **Web scraping** (extracción y rastreo de información en páginas web).  \n",
    "\n",
    "---"
   ]
  },
  {
   "cell_type": "markdown",
   "metadata": {},
   "source": [
    "---\n",
    "\n",
    "# **Instalación**  \n",
    "\n",
    "Ruby se puede instalar y gestionar fácilmente utilizando **gestores de paquetes** o **herramientas de terceros**.  \n",
    "\n",
    "Antes de instalarlo, verifica si ya tienes Ruby en tu computadora. Abre una terminal y ejecuta el siguiente comando:  "
   ]
  },
  {
   "cell_type": "code",
   "execution_count": 8,
   "metadata": {},
   "outputs": [
    {
     "name": "stdout",
     "output_type": "stream",
     "text": [
      "ruby 3.3.7 (2025-01-15 revision be31f993d7) [x64-mingw-ucrt]\n"
     ]
    }
   ],
   "source": [
    "puts `ruby -v`\n"
   ]
  },
  {
   "cell_type": "markdown",
   "metadata": {},
   "source": [
    "---\n",
    "\n",
    "## **Verificando la instalación**  \n",
    "\n",
    "Al ejecutar el comando se debería obtener información sobre la versión de Ruby instalada.  \n",
    "\n",
    "En este notebook, como se puede observar, **Ruby ya está instalado**.  "
   ]
  },
  {
   "cell_type": "markdown",
   "metadata": {},
   "source": [
    "\n",
    "---\n",
    "\n",
    "## **Escoge un método de instalación**  \n",
    "\n",
    "Ruby puede instalarse de diversas maneras, dependiendo del sistema operativo que se use:  \n",
    "\n",
    "1. **Gestores de paquetes en sistemas UNIX**:  \n",
    "   La forma más sencilla de instalar Ruby en sistemas UNIX es utilizando el gestor de paquetes de la distribución. Sin embargo, puede que la versión provista no sea la más reciente.  \n",
    "\n",
    "2. **Instaladores específicos**:  \n",
    "   Existen instaladores para una o varias versiones de Ruby, incluyendo opciones específicas para Windows.  \n",
    "\n",
    "3. **Gestores de versiones**:  \n",
    "   Los gestores permiten cambiar fácilmente entre múltiples versiones de Ruby en el mismo sistema.  \n",
    "\n",
    "4. **Compilación desde código fuente**:  \n",
    "   Puedes descargar el código fuente y compilar Ruby manualmente.  \n",
    "\n",
    "5. **Windows Subsystem for Linux (WSL)**:  \n",
    "   En Windows 10 y posteriores, puedes usar WSL para instalar una distribución de Linux soportada y emplear cualquier método de instalación disponible en ese sistema.  \n",
    "\n",
    "---\n",
    "\n",
    "### **Métodos por sistema operativo**  \n",
    "\n",
    "#### **Windows**  \n",
    "Para instalar Ruby en Windows:  \n",
    "- Visita [Ruby Installer](https://rubyinstaller.org/downloads/) y descarga la versión recomendada.  \n",
    "- En este notebook se utilizó el instalador disponible en:  \n",
    "  [Ruby Installer DevKit 3.3.7-1](https://github.com/oneclick/rubyinstaller2/releases/download/RubyInstaller-3.3.7-1/rubyinstaller-devkit-3.3.7-1-x64.exe).  \n",
    "\n",
    "#### **Linux**  \n",
    "Para instalar Ruby en Linux:  \n",
    "- Consulta la documentación en [ruby-lang.org](https://www.ruby-lang.org/es/documentation/installation/) para seguir las instrucciones específicas del subsistema que elegiste.  \n",
    "\n",
    "#### **MacOS**  \n",
    "Ruby 2.0 y versiones superiores están incluidas en macOS desde El Capitan (10.11).  \n",
    "Sin embargo, para instalar la última versión de Ruby, puedes usar **Homebrew**, el gestor de paquetes más común en macOS:  \n",
    "\n",
    "```bash\n",
    "brew install ruby\n",
    "```  \n",
    "\n",
    "Este comando instalará automáticamente la versión más reciente de Ruby.  \n",
    "\n",
    "---"
   ]
  },
  {
   "cell_type": "markdown",
   "metadata": {},
   "source": [
    "\n",
    "\n",
    "\n",
    "\n",
    "---\n",
    "\n",
    "## **Ejecutar código Ruby**  \n",
    "\n",
    "Ruby permite ejecutar código de dos formas principales. Una de las más comunes es a través del **interpretador interactivo** llamado **IRB** (*Interactive Ruby*).  \n",
    "\n",
    "### **Abrir el interpretador IRB**  \n",
    "Para iniciar el interpretador, simplemente ejecuta el siguiente comando en la terminal:  \n",
    "\n",
    "```bash\n",
    "irb\n",
    "```  \n",
    "\n",
    "El prompt del interpretador aparecerá indicando la versión de Ruby instalada:  \n",
    "\n",
    "```bash\n",
    "2.3.0 :001 >\n",
    "```  \n",
    "\n",
    "### **Probar expresiones en IRB**  \n",
    "Dentro del interpretador, puedes escribir cualquier expresión válida de Ruby, presionar Enter y el interpretador evaluará la expresión mostrando el resultado:  \n",
    "\n",
    "```bash\n",
    "2.3.0 :001 > 1 + 2  \n",
    "  => 3  \n",
    "2.3.0 :002 >\n",
    "```  \n",
    "\n",
    "Puedes repetir este proceso cuantas veces necesites, haciendo de IRB una herramienta rápida y conveniente para probar código Ruby.  \n",
    "\n",
    "### **Salir del interpretador**  \n",
    "Cuando termines, simplemente escribe `exit` y presiona Enter para cerrar el interpretador:  \n",
    "\n",
    "```bash\n",
    "2.3.0 :003 > exit  \n",
    "```  \n",
    "\n",
    "---"
   ]
  },
  {
   "cell_type": "markdown",
   "metadata": {},
   "source": [
    "\n",
    "---\n",
    "\n",
    "## **Nuestro primer programa en Ruby**  \n",
    "\n",
    "Otra manera de ejecutar código Ruby es creando un archivo con extensión `.rb` en el que escribimos nuestro código.  \n",
    "\n",
    "Aunque normalmente se necesitaría crear una carpeta en la máquina, abrirla con tu editor favorito y escribir el código en un archivo, en este notebook simplemente se mostrará el contenido del archivo para facilitar el aprendizaje.  \n",
    "\n",
    "### **Código de ejemplo: `hello_world.rb`**  :"
   ]
  },
  {
   "cell_type": "code",
   "execution_count": 3,
   "metadata": {},
   "outputs": [
    {
     "name": "stdout",
     "output_type": "stream",
     "text": [
      "Hola mundo\n"
     ]
    }
   ],
   "source": [
    "puts \"Hola mundo\""
   ]
  },
  {
   "cell_type": "markdown",
   "metadata": {},
   "source": [
    "\n",
    "## **Ejecución del programa:**\n",
    "\n",
    "Guarde el archivo. Para ejecutarlo, escriba lo siguiente en la consola, asegurándose de estar en la carpeta donde se encuentra el archivo:\n",
    "\n",
    "```bash\n",
    "ruby hello_world.rb\n",
    "```\n",
    "\n",
    "**Resultado esperado:**\n",
    "\n",
    "```text\n",
    "Hola mundo\n",
    "```\n",
    "\n",
    "El texto `\"Hola mundo\"` debería mostrarse en la consola. Cambie el texto por cualquier otro y vuelva a ejecutar el archivo.\n",
    "\n",
    "--- "
   ]
  },
  {
   "cell_type": "markdown",
   "metadata": {},
   "source": [
    "\n",
    "---\n",
    "\n",
    "## **Variables y entrada de usuario**  \n",
    "\n",
    "Las variables permiten almacenar información temporal que se puede utilizar más adelante en los programas.  \n",
    "\n",
    "### **Ejemplo básico de variables:**  "
   ]
  },
  {
   "cell_type": "code",
   "execution_count": 5,
   "metadata": {},
   "outputs": [
    {
     "name": "stdout",
     "output_type": "stream",
     "text": [
      "Hola Jesus\n"
     ]
    }
   ],
   "source": [
    "name = \"Jesus\"\n",
    "puts \"Hola #{name}\""
   ]
  },
  {
   "cell_type": "markdown",
   "metadata": {},
   "source": [
    "\n",
    "\n",
    "En este ejemplo, se define una variable llamada `name` y se le asigna el valor `\"Jesus\"`. Posteriormente, se utiliza interpolación para mostrar la cadena de texto `\"Hola \"` seguida del valor almacenado en la variable `name`.  \n",
    "\n",
    "---\n",
    "\n",
    "### **Reglas para nombres de variables:**  \n",
    "\n",
    "- **Inicio válido:** El nombre de una variable debe comenzar con `$`, `_` o una letra.  \n",
    "- **Caracteres permitidos:** Después del primer carácter, puede incluir letras, dígitos, `_` y `$`.  \n",
    "- **Ejemplos válidos:**  \n",
    "  - `name`  \n",
    "  - `$element`  \n",
    "  - `_trains`  \n",
    "- **Ejemplos no válidos:**  \n",
    "  - `443jesus` (no puede comenzar con un número).  \n",
    "  - `element&123` (el carácter `&` no es permitido).  \n",
    "\n",
    "### **Restricciones adicionales:**  \n",
    "\n",
    "- Las palabras reservadas de Ruby no se pueden usar como nombres de variables.  \n",
    "- Como buena práctica, se recomienda:  \n",
    "  1. Iniciar las variables con una letra minúscula.  \n",
    "  2. Usar guiones bajos (`_`) para separar palabras en nombres compuestos.  \n",
    "     - Ejemplo: `video_transcoder`, `first_name`.  \n",
    "\n",
    "--- \n",
    "\n",
    "### **Ejemplo de error con variables**  \n",
    "\n",
    "A continuación, se muestra un ejemplo de lo que ocurre al usar un nombre de variable no válido:"
   ]
  },
  {
   "cell_type": "code",
   "execution_count": 1,
   "metadata": {},
   "outputs": [
    {
     "ename": "SyntaxError",
     "evalue": "(irb): syntax error, unexpected local variable or method, expecting end-of-input\n2name = \"Error\"\n ^~~~\n",
     "output_type": "error",
     "traceback": [
      "\u001b[31mSyntaxError\u001b[0m: (irb): syntax error, unexpected local variable or method, expecting end-of-input\n2name = \"Error\"\n ^~~~\n"
     ]
    }
   ],
   "source": [
    "2name = \"Error\"\n",
    "puts 2name"
   ]
  },
  {
   "cell_type": "markdown",
   "metadata": {},
   "source": [
    "En este caso, el error ocurre porque el nombre de la variable comienza con un número (`2name`), lo cual no es válido en Ruby.  \n",
    "\n",
    "---"
   ]
  },
  {
   "cell_type": "markdown",
   "metadata": {},
   "source": [
    "\n",
    "\n",
    "## **Tipos de variables en Ruby**  \n",
    "\n",
    "En Ruby, existen 5 tipos de variables, cada una con un propósito específico:  \n",
    "\n",
    "1. **Globales**  \n",
    "2. **De clase**  \n",
    "3. **De instancia**  \n",
    "4. **Locales**  \n",
    "5. **Constantes**  \n",
    "\n",
    "---\n"
   ]
  },
  {
   "cell_type": "markdown",
   "metadata": {},
   "source": [
    "### **1. Variables globales**  \n",
    "\n",
    "- Su nombre comienza con el símbolo `$`.  \n",
    "- Tienen alcance y acceso global en toda la aplicación o proyecto.  \n",
    "- **Nota:** No se recomienda su uso ya que complican el mantenimiento y la depuración de los programas.  \n",
    "\n",
    "#### **Ejemplo de variable global:**  "
   ]
  },
  {
   "cell_type": "code",
   "execution_count": 1,
   "metadata": {},
   "outputs": [
    {
     "name": "stdout",
     "output_type": "stream",
     "text": [
      "This is a global variable value\n",
      "Hi!\n"
     ]
    }
   ],
   "source": [
    "$global_variable = 'This is a global variable value'\n",
    "\n",
    "class Person\n",
    "  def talk\n",
    "    puts $global_variable\n",
    "    puts 'Hi!'\n",
    "  end\n",
    "end\n",
    "\n",
    "Person.new.talk\n",
    "# Output:\n",
    "# This is a global variable value\n",
    "# Hi!"
   ]
  },
  {
   "cell_type": "markdown",
   "metadata": {},
   "source": [
    "\n",
    "---\n",
    "\n",
    "### **2. Variables de clase**  \n",
    "\n",
    "- Comienzan con `@@`.  \n",
    "- Son compartidas entre todas las instancias de una clase.  \n",
    "- Si se modifica su valor en una instancia, el cambio afecta a todas las demás instancias.  \n",
    "\n",
    "#### **Ejemplo de variable de clase:**  "
   ]
  },
  {
   "cell_type": "code",
   "execution_count": 2,
   "metadata": {},
   "outputs": [
    {
     "name": "stdout",
     "output_type": "stream",
     "text": [
      "This is a class variable value\n",
      "Hi!\n"
     ]
    }
   ],
   "source": [
    "class Person\n",
    "  @@class_variable = 'This is a class variable value'\n",
    "\n",
    "  def talk\n",
    "    puts @@class_variable\n",
    "    puts 'Hi!'\n",
    "  end\n",
    "end\n",
    "\n",
    "Person.new.talk\n",
    "# Output:\n",
    "# This is a class variable value\n",
    "# Hi!"
   ]
  },
  {
   "cell_type": "markdown",
   "metadata": {},
   "source": [
    "\n",
    "---\n",
    "\n",
    "### **3. Variables de instancia**  \n",
    "\n",
    "- Comienzan con `@`.  \n",
    "- Pertenecen a una instancia específica de una clase.  \n",
    "- Si no se inicializan, su valor por defecto es `nil`.  \n",
    "- Son ideales para definir atributos de objetos.  \n",
    "\n",
    "#### **Ejemplo básico de variable de instancia:**  \n"
   ]
  },
  {
   "cell_type": "code",
   "execution_count": 3,
   "metadata": {},
   "outputs": [
    {
     "name": "stdout",
     "output_type": "stream",
     "text": [
      "Hi!\n"
     ]
    }
   ],
   "source": [
    "class Person\n",
    "  def talk\n",
    "    puts 'Hi!'\n",
    "  end\n",
    "end\n",
    "\n",
    "@person = Person.new # This is an instance variable\n",
    "@person.talk\n",
    "# Output:\n",
    "# Hi!"
   ]
  },
  {
   "cell_type": "markdown",
   "metadata": {},
   "source": [
    "\n",
    "#### **Ejemplo con constructor (`initialize`):**  "
   ]
  },
  {
   "cell_type": "code",
   "execution_count": 4,
   "metadata": {},
   "outputs": [
    {
     "name": "stdout",
     "output_type": "stream",
     "text": [
      "Hi!, my name is Jesus\n"
     ]
    }
   ],
   "source": [
    "class Person\n",
    "  def initialize(name:)\n",
    "    @name = name # This is an instance variable\n",
    "  end\n",
    "\n",
    "  def talk\n",
    "    puts \"Hi!, my name is #{@name}\" # Using the instance variable @name\n",
    "  end\n",
    "end\n",
    "\n",
    "@person = Person.new(name: 'Jesus') # This is an instance variable\n",
    "@person.talk\n",
    "# Output:\n",
    "# Hi!, my name is Jesus"
   ]
  },
  {
   "cell_type": "markdown",
   "metadata": {},
   "source": [
    "\n",
    "---\n",
    "\n",
    "### **4. Variables locales**  \n",
    "\n",
    "- No comienzan con símbolos especiales.  \n",
    "- Su alcance está limitado al bloque o método en el que se definen.  \n",
    "- Se utilizan para operaciones temporales y tienen un ciclo de vida corto.  \n",
    "\n",
    "#### **Ejemplo de variable local:**  "
   ]
  },
  {
   "cell_type": "code",
   "execution_count": 5,
   "metadata": {},
   "outputs": [
    {
     "name": "stdout",
     "output_type": "stream",
     "text": [
      "Hello!\n"
     ]
    }
   ],
   "source": [
    "def greet\n",
    "  local_variable = 'Hello!' # This is a local variable\n",
    "  puts local_variable\n",
    "end\n",
    "\n",
    "greet\n",
    "# Output:\n",
    "# Hello!"
   ]
  },
  {
   "cell_type": "markdown",
   "metadata": {},
   "source": [
    "\n",
    "---\n",
    "\n",
    "### **5. Constantes**  \n",
    "\n",
    "- Su nombre debe comenzar con una letra mayúscula.  \n",
    "- Representan valores que no deben cambiar, aunque técnicamente pueden ser modificados con una advertencia.  \n",
    "- Se utilizan para definir valores fijos o configuraciones.  \n",
    "\n",
    "#### **Ejemplo de constante:**  \n",
    "\n",
    "\n"
   ]
  },
  {
   "cell_type": "code",
   "execution_count": 6,
   "metadata": {},
   "outputs": [
    {
     "name": "stdout",
     "output_type": "stream",
     "text": [
      "This is a constant variable value\n"
     ]
    }
   ],
   "source": [
    "CONSTANT_VARIABLE = 'This is a constant variable value'\n",
    "\n",
    "puts CONSTANT_VARIABLE\n",
    "# Output:\n",
    "# This is a constant variable value"
   ]
  },
  {
   "cell_type": "markdown",
   "metadata": {},
   "source": [
    "\n",
    "---  \n",
    "\n",
    "## **Tipos de datos en Ruby**  \n",
    "\n",
    "Ruby utiliza un sistema de **tipos dinámicos**, lo que significa que no es necesario declarar explícitamente el tipo de dato de una variable. El tipo está determinado por el valor que se asigna.  \n",
    "\n",
    "### **Tipos de datos comunes:**  \n",
    "\n",
    "#### **1. Enteros (`Integer`)**  \n",
    "Representan números enteros.  "
   ]
  },
  {
   "cell_type": "code",
   "execution_count": 7,
   "metadata": {},
   "outputs": [
    {
     "name": "stdout",
     "output_type": "stream",
     "text": [
      "La edad es 25\n",
      "Integer\n"
     ]
    }
   ],
   "source": [
    "edad = 25\n",
    "puts \"La edad es #{edad}\" # Output: La edad es 25\n",
    "puts edad.class           # Output: Integer"
   ]
  },
  {
   "cell_type": "markdown",
   "metadata": {},
   "source": [
    "\n",
    "#### **2. Flotantes (`Float`)**  \n",
    "Representan números decimales.  "
   ]
  },
  {
   "cell_type": "code",
   "execution_count": 8,
   "metadata": {},
   "outputs": [
    {
     "name": "stdout",
     "output_type": "stream",
     "text": [
      "La altura es 1.75\n",
      "Float\n"
     ]
    }
   ],
   "source": [
    "altura = 1.75\n",
    "puts \"La altura es #{altura}\" # Output: La altura es 1.75\n",
    "puts altura.class             # Output: Float"
   ]
  },
  {
   "cell_type": "markdown",
   "metadata": {},
   "source": [
    "\n",
    "#### **3. Cadenas (`String`)**  \n",
    "Representan texto.  "
   ]
  },
  {
   "cell_type": "code",
   "execution_count": null,
   "metadata": {},
   "outputs": [],
   "source": [
    "nombre = \"Jesús\"\n",
    "puts \"Hola #{nombre}\" # Output: Hola Jesús\n",
    "puts nombre.class     # Output: String"
   ]
  },
  {
   "cell_type": "markdown",
   "metadata": {},
   "source": [
    "#### **4. Booleanos (`TrueClass` y `FalseClass`)**  \n",
    "Representan valores verdaderos o falsos.  "
   ]
  },
  {
   "cell_type": "code",
   "execution_count": 9,
   "metadata": {},
   "outputs": [
    {
     "name": "stdout",
     "output_type": "stream",
     "text": [
      "true\n",
      "TrueClass\n"
     ]
    }
   ],
   "source": [
    "es_ruby_genial = true\n",
    "puts es_ruby_genial       # Output: true\n",
    "puts es_ruby_genial.class # Output: TrueClass"
   ]
  },
  {
   "cell_type": "markdown",
   "metadata": {},
   "source": [
    "#### **5. Arreglos (`Array`)**  \n",
    "Son colecciones ordenadas de elementos.  \n"
   ]
  },
  {
   "cell_type": "code",
   "execution_count": 10,
   "metadata": {},
   "outputs": [
    {
     "name": "stdout",
     "output_type": "stream",
     "text": [
      "[1, 2, 3]\n",
      "Array\n"
     ]
    }
   ],
   "source": [
    "numeros = [1, 2, 3]\n",
    "puts numeros.inspect  # Output: [1, 2, 3]\n",
    "puts numeros.class    # Output: Array"
   ]
  },
  {
   "cell_type": "markdown",
   "metadata": {},
   "source": [
    "#### **6. Hashes (`Hash`)**  \n",
    "Son colecciones de pares clave-valor.  "
   ]
  },
  {
   "cell_type": "code",
   "execution_count": 12,
   "metadata": {},
   "outputs": [
    {
     "name": "stdout",
     "output_type": "stream",
     "text": [
      "{:nombre=>\"Jesus\", :edad=>25}\n",
      "Hash\n"
     ]
    }
   ],
   "source": [
    "persona = { nombre: \"Jesus\", edad: 25 }\n",
    "puts persona.inspect  # Output: {:nombre=>\"Jesús\", :edad=>25}\n",
    "puts persona.class    # Output: Hash"
   ]
  },
  {
   "cell_type": "markdown",
   "metadata": {},
   "source": [
    "#### **7. Nil (`NilClass`)**  \n",
    "Representa la ausencia de un valor.  "
   ]
  },
  {
   "cell_type": "code",
   "execution_count": 13,
   "metadata": {},
   "outputs": [
    {
     "name": "stdout",
     "output_type": "stream",
     "text": [
      "\n",
      "NilClass\n"
     ]
    }
   ],
   "source": [
    "vacio = nil\n",
    "puts vacio            # Output: \n",
    "puts vacio.class      # Output: NilClass"
   ]
  },
  {
   "cell_type": "markdown",
   "metadata": {},
   "source": [
    "\n",
    "---  \n",
    "\n",
    "### **¿Cómo comprobar el tipo de una variable?**  \n",
    "\n",
    "Ruby ofrece el método `.class` para verificar el tipo de dato de una variable:  "
   ]
  },
  {
   "cell_type": "code",
   "execution_count": 14,
   "metadata": {},
   "outputs": [
    {
     "name": "stdout",
     "output_type": "stream",
     "text": [
      "String\n"
     ]
    }
   ],
   "source": [
    "dato = \"Hola mundo\"\n",
    "puts dato.class # Output: String"
   ]
  },
  {
   "cell_type": "markdown",
   "metadata": {},
   "source": [
    "---  "
   ]
  },
  {
   "cell_type": "markdown",
   "metadata": {},
   "source": [
    "\n",
    "---  \n",
    "\n",
    "## **Tipos de Operadores en Ruby**  \n",
    "\n",
    "En esta sección se hablará sobre algunos de los tipos de datos básicos en Ruby:  \n",
    "- **Cadenas de texto**  \n",
    "- **Números**  \n",
    "- **Booleanos**  \n",
    "\n",
    "También se explorará cómo realizar operaciones básicas con ellos.  \n",
    "\n",
    "---\n",
    "\n",
    "### **Cadenas de texto**  \n",
    "\n",
    "Una **cadena de texto** es un conjunto de caracteres encerrados entre comillas simples (`'`) o dobles (`\"`).  \n",
    "\n",
    "#### **Ejemplo de cadenas de texto:**  \n",
    "\n"
   ]
  },
  {
   "cell_type": "code",
   "execution_count": 15,
   "metadata": {},
   "outputs": [
    {
     "data": {
      "text/plain": [
       "\"Texto entre comillas simples\""
      ]
     },
     "execution_count": 15,
     "metadata": {},
     "output_type": "execute_result"
    }
   ],
   "source": [
    "\"Texto entre comillas dobles\"\n",
    "'Texto entre comillas simples'"
   ]
  },
  {
   "cell_type": "markdown",
   "metadata": {},
   "source": [
    "\n",
    "---\n",
    "\n",
    "### **Números**  \n",
    "\n",
    "En Ruby, los números funcionan de manera similar a otros lenguajes de programación. Puedes realizar operaciones aritméticas como suma, resta, multiplicación y división.  \n",
    "\n",
    "#### **Ejemplo de operaciones numéricas:**  \n",
    "\n"
   ]
  },
  {
   "cell_type": "code",
   "execution_count": 16,
   "metadata": {},
   "outputs": [
    {
     "name": "stdout",
     "output_type": "stream",
     "text": [
      "3\n",
      "17\n",
      "4\n"
     ]
    }
   ],
   "source": [
    "puts 1 + 2       # Suma\n",
    "puts 3 * 4 + 5   # Multiplicación y suma\n",
    "puts 8 / 2       # División"
   ]
  },
  {
   "cell_type": "markdown",
   "metadata": {},
   "source": [
    "\n",
    "---\n",
    "\n",
    "### **Expresiones booleanas**  \n",
    "\n",
    "Ruby utiliza las expresiones `true` y `false` para representar **verdadero** y **falso**, respectivamente.  \n",
    "\n",
    "Los operadores lógicos (`<`, `>`, `<=`, `>=`, `==`, `!=`) permiten crear expresiones que evalúan a un valor booleano (`true` o `false`).  \n",
    "\n",
    "#### **Ejemplos de expresiones booleanas:**  "
   ]
  },
  {
   "cell_type": "code",
   "execution_count": 17,
   "metadata": {},
   "outputs": [
    {
     "data": {
      "text/plain": [
       "true"
      ]
     },
     "execution_count": 17,
     "metadata": {},
     "output_type": "execute_result"
    }
   ],
   "source": [
    "5 > 3     # => true\n",
    "5 >= 3    # => true\n",
    "4 < 4     # => false\n",
    "4 <= 4    # => true\n",
    "2 == 2    # => true\n",
    "2 != 2    # => false\n",
    "\"ruby\" == \"javascript\" # => false\n",
    "\"ruby\" != \"javascript\" # => true"
   ]
  },
  {
   "cell_type": "markdown",
   "metadata": {},
   "source": [
    "\n",
    "---\n",
    "\n",
    "### **Concatenando cadenas**  \n",
    "\n",
    "Puedes unir cadenas de texto utilizando el operador `+`.  \n",
    "\n",
    "#### **Ejemplo básico:**  \n",
    "\n"
   ]
  },
  {
   "cell_type": "code",
   "execution_count": 19,
   "metadata": {},
   "outputs": [
    {
     "data": {
      "text/plain": [
       "\"HolaMundoComoEstas\""
      ]
     },
     "execution_count": 19,
     "metadata": {},
     "output_type": "execute_result"
    }
   ],
   "source": [
    "\"Hola\" + \"Mundo\" + \"Como\" + \"Estas\"  \n",
    "# => \"HolaMundoCómoEstás\""
   ]
  },
  {
   "cell_type": "markdown",
   "metadata": {},
   "source": [
    "\n",
    "\n",
    "#### **Nota:**  \n",
    "Las palabras no se separan automáticamente. Debes agregar los espacios explícitamente:  \n",
    "\n"
   ]
  },
  {
   "cell_type": "code",
   "execution_count": 21,
   "metadata": {},
   "outputs": [
    {
     "data": {
      "text/plain": [
       "\"Hola Mundo Como Estas\""
      ]
     },
     "execution_count": 21,
     "metadata": {},
     "output_type": "execute_result"
    }
   ],
   "source": [
    "\n",
    "\"Hola \" + \"Mundo \" + \"Como \" + \"Estas\"  \n",
    "# => \"Hola Mundo Cómo Estás\"\n"
   ]
  },
  {
   "cell_type": "markdown",
   "metadata": {},
   "source": [
    "\n",
    "---\n",
    "\n",
    "### **Concatenando valores de diferentes tipos**  \n",
    "\n",
    "Si intentas concatenar una cadena con un número, obtendrás un error:  \n"
   ]
  },
  {
   "cell_type": "code",
   "execution_count": 22,
   "metadata": {},
   "outputs": [
    {
     "ename": "TypeError",
     "evalue": "no implicit conversion of Integer into String",
     "output_type": "error",
     "traceback": [
      "\u001b[31mTypeError\u001b[0m: no implicit conversion of Integer into String",
      "(irb):in `+'",
      "(irb):in `<top (required)>'"
     ]
    }
   ],
   "source": [
    "\"Hola\" + 3\n",
    "# TypeError: no implicit conversion of Fixnum into String"
   ]
  },
  {
   "cell_type": "markdown",
   "metadata": {},
   "source": [
    "\n",
    "\n",
    "#### **Solución:**  \n",
    "Convierte el número a cadena utilizando `.to_s`:  \n"
   ]
  },
  {
   "cell_type": "code",
   "execution_count": 23,
   "metadata": {},
   "outputs": [
    {
     "data": {
      "text/plain": [
       "\"Hola3\""
      ]
     },
     "execution_count": 23,
     "metadata": {},
     "output_type": "execute_result"
    }
   ],
   "source": [
    "\"Hola\" + 3.to_s  \n",
    "# => \"Hola3\""
   ]
  },
  {
   "cell_type": "markdown",
   "metadata": {},
   "source": [
    "\n",
    "---\n",
    "\n",
    "### **Problema con operaciones y concatenación**  \n",
    "\n",
    "Imagina que deseas imprimir `\"2 + 3 es 5\"`. Si intentas lo siguiente, obtendrás un error:  \n"
   ]
  },
  {
   "cell_type": "code",
   "execution_count": 24,
   "metadata": {},
   "outputs": [
    {
     "ename": "TypeError",
     "evalue": "no implicit conversion of Integer into String",
     "output_type": "error",
     "traceback": [
      "\u001b[31mTypeError\u001b[0m: no implicit conversion of Integer into String",
      "(irb):in `+'",
      "(irb):in `<top (required)>'"
     ]
    }
   ],
   "source": [
    "\"2 + 3 es \" + 2 + 3\n",
    "# TypeError: no implicit conversion of Fixnum into String"
   ]
  },
  {
   "cell_type": "markdown",
   "metadata": {},
   "source": [
    "\n",
    "\n",
    "Incluso si conviertes los números a cadenas:  \n",
    "\n"
   ]
  },
  {
   "cell_type": "code",
   "execution_count": 25,
   "metadata": {},
   "outputs": [
    {
     "data": {
      "text/plain": [
       "\"2 + 3 es 23\""
      ]
     },
     "execution_count": 25,
     "metadata": {},
     "output_type": "execute_result"
    }
   ],
   "source": [
    "\"2 + 3 es \" + 2.to_s + 3.to_s  \n",
    "# => \"2 + 3 es 23\""
   ]
  },
  {
   "cell_type": "markdown",
   "metadata": {},
   "source": [
    "\n",
    "\n",
    "El resultado no es el esperado porque Ruby está concatenando las cadenas.  \n",
    "\n",
    "#### **Solución:**  \n",
    "Envuélvelo en paréntesis y usa `.to_s`:  "
   ]
  },
  {
   "cell_type": "code",
   "execution_count": 26,
   "metadata": {},
   "outputs": [
    {
     "data": {
      "text/plain": [
       "\"2 + 3 es 5\""
      ]
     },
     "execution_count": 26,
     "metadata": {},
     "output_type": "execute_result"
    }
   ],
   "source": [
    "\"2 + 3 es \" + (2 + 3).to_s  \n",
    "# => \"2 + 3 es 5\""
   ]
  },
  {
   "cell_type": "markdown",
   "metadata": {},
   "source": [
    "\n",
    "\n",
    "Pero esto puede ser tedioso. Por suerte, Ruby tiene una mejor solución: **la interpolación**.  \n",
    "\n",
    "---\n",
    "\n",
    "### **Interpolación de cadenas**  \n",
    "\n",
    "La interpolación es la forma recomendada de combinar cadenas y valores en Ruby.  \n",
    "\n",
    "#### **Ejemplo básico de interpolación:**  \n",
    "\n"
   ]
  },
  {
   "cell_type": "code",
   "execution_count": 27,
   "metadata": {},
   "outputs": [
    {
     "data": {
      "text/plain": [
       "\"Hola 4\""
      ]
     },
     "execution_count": 27,
     "metadata": {},
     "output_type": "execute_result"
    }
   ],
   "source": [
    "\"Hola #{4}\"  \n",
    "# => \"Hola 4\""
   ]
  },
  {
   "cell_type": "markdown",
   "metadata": {},
   "source": [
    "\n",
    "\n",
    "#### **Ejemplo con operaciones:**  \n"
   ]
  },
  {
   "cell_type": "code",
   "execution_count": 28,
   "metadata": {},
   "outputs": [
    {
     "data": {
      "text/plain": [
       "\"2 + 3 es 5\""
      ]
     },
     "execution_count": 28,
     "metadata": {},
     "output_type": "execute_result"
    }
   ],
   "source": [
    "\"2 + 3 es #{2 + 3}\"  \n",
    "# => \"2 + 3 es 5\""
   ]
  },
  {
   "cell_type": "markdown",
   "metadata": {},
   "source": [
    "\n",
    "\n",
    "#### **Notas importantes sobre la interpolación:**  \n",
    "1. **Usa comillas dobles (`\"`)**: La interpolación no funciona con comillas simples (`'`).  \n"
   ]
  },
  {
   "cell_type": "code",
   "execution_count": 29,
   "metadata": {},
   "outputs": [
    {
     "data": {
      "text/plain": [
       "\"2 + 3 es \\#{2 + 3}\""
      ]
     },
     "execution_count": 29,
     "metadata": {},
     "output_type": "execute_result"
    }
   ],
   "source": [
    "'2 + 3 es #{2 + 3}'  \n",
    "# => \"2 + 3 es #{2 + 3}\""
   ]
  },
  {
   "cell_type": "markdown",
   "metadata": {},
   "source": [
    "\n",
    "\n",
    "2. **Sintaxis:** Usa `#{}` para incluir código Ruby dentro de una cadena. Ruby evalúa el contenido y lo convierte automáticamente a texto.  \n",
    "\n",
    "3. Puedes usar `#{}` tantas veces como necesites en una cadena.  \n",
    "\n",
    "---  "
   ]
  },
  {
   "cell_type": "markdown",
   "metadata": {},
   "source": [
    "\n",
    "---\n",
    "\n",
    "## **Estructuras de Control en Ruby**\n",
    "\n",
    "Ruby ofrece diversas estructuras de control que permiten modificar el flujo de ejecución de un programa. Estas son esenciales en el desarrollo de aplicaciones, ya que permiten tomar decisiones lógicas en función de las condiciones del programa.  \n",
    "\n",
    "Las principales estructuras de control son:  \n",
    "- **`if`**\n",
    "- **`unless`**\n",
    "- **`case`**\n",
    "\n",
    "A continuación, exploraremos cómo utilizar estas estructuras con ejemplos prácticos.\n",
    "\n",
    "---\n",
    "\n",
    "### **1. La estructura `if`**\n",
    "\n",
    "La estructura `if` permite ejecutar un bloque de código si una condición evalúa a `true`. Es especialmente útil para manejar diferentes escenarios en el flujo del programa.\n",
    "\n",
    "#### **Ejemplo:**\n",
    "En un juego RPG, si el personaje pierde toda su vida, realizaremos ciertas acciones, como descontar un \"continue\" y revivir al personaje.\n"
   ]
  },
  {
   "cell_type": "code",
   "execution_count": 41,
   "metadata": {},
   "outputs": [
    {
     "name": "stdout",
     "output_type": "stream",
     "text": [
      "El juego continua con normalidad\n"
     ]
    }
   ],
   "source": [
    "vida = 100\n",
    "continues = 3\n",
    "# pasan cosas que nos quitan vida\n",
    "\n",
    "if vida == 0\n",
    "    puts \"El Personaje ha muerto\"\n",
    "    puts \"Tu personaje va a revivir\"\n",
    "    continues = continues - 1\n",
    "else\n",
    "    puts \"El juego continua con normalidad\"\n",
    "end"
   ]
  },
  {
   "cell_type": "markdown",
   "metadata": {},
   "source": [
    "\n",
    "\n",
    "#### **`elsif`:**\n",
    "Si se requiere evaluar múltiples condiciones, se puede usar `elsif`:\n",
    "\n"
   ]
  },
  {
   "cell_type": "code",
   "execution_count": 42,
   "metadata": {},
   "outputs": [
    {
     "name": "stdout",
     "output_type": "stream",
     "text": [
      "3 es igual a 3\n"
     ]
    }
   ],
   "source": [
    "numero = 3\n",
    "\n",
    "if numero > 5\n",
    "    puts \"#{numero} es mayor que 5\"\n",
    "elsif numero == 3\n",
    "    puts \"#{numero} es igual a 3\"\n",
    "else\n",
    "    puts \"#{numero} es menor que 5 pero no es igual a 3\"\n",
    "end"
   ]
  },
  {
   "cell_type": "markdown",
   "metadata": {},
   "source": [
    "\n",
    "---\n",
    "\n",
    "### **2. La estructura `unless`**\n",
    "\n",
    "La estructura `unless` ejecuta un bloque de código si la condición **no se cumple** (`false`). Es el opuesto del `if`.\n",
    "\n",
    "#### **Ejemplo:**\n"
   ]
  },
  {
   "cell_type": "code",
   "execution_count": 44,
   "metadata": {},
   "outputs": [
    {
     "name": "stdout",
     "output_type": "stream",
     "text": [
      "El numero es el 1\n"
     ]
    }
   ],
   "source": [
    "numero = 1\n",
    "unless numero == 1\n",
    "    puts \"El numero no es el 1\"\n",
    "else\n",
    "    puts \"El numero es el 1\"\n",
    "end"
   ]
  },
  {
   "cell_type": "markdown",
   "metadata": {},
   "source": [
    "\n",
    "---\n",
    "\n",
    "### **3. La estructura `case`**\n",
    "\n",
    "Cuando se necesita comprobar una variable con múltiples valores posibles, el uso de `case` resulta más claro y eficiente que múltiples bloques `if` y `elsif`.\n",
    "\n",
    "#### **Sintaxis básica:**\n",
    "```ruby\n",
    "case variable\n",
    "when [condición]\n",
    "    # código\n",
    "when [condición]\n",
    "    # código\n",
    "else\n",
    "    # código\n",
    "end\n",
    "```"
   ]
  },
  {
   "cell_type": "markdown",
   "metadata": {},
   "source": [
    "\n",
    "\n",
    "#### **Ejemplo:**\n",
    "\n",
    "Determinar la etapa de vida de una persona según su edad.\n"
   ]
  },
  {
   "cell_type": "code",
   "execution_count": 45,
   "metadata": {},
   "outputs": [
    {
     "name": "stdout",
     "output_type": "stream",
     "text": [
      "Ni├▒o\n"
     ]
    }
   ],
   "source": [
    "\n",
    "edad = 5\n",
    "case edad\n",
    "when 0..2\n",
    "    puts \"Bebé\"\n",
    "when 3..12\n",
    "    puts \"Niño\"\n",
    "when 13..18\n",
    "    puts \"Adolescente\"\n",
    "else\n",
    "    puts \"Adulto\"\n",
    "end\n"
   ]
  },
  {
   "cell_type": "markdown",
   "metadata": {},
   "source": [
    "\n",
    "---\n",
    "\n",
    "## **Ciclos en Ruby**\n",
    "\n",
    "Los ciclos permiten ejecutar un bloque de código repetidamente, lo que es útil cuando necesitamos realizar tareas repetitivas.\n",
    "\n",
    "En Ruby, existen varias formas de crear ciclos. A continuación, veremos algunas de ellas:\n",
    "\n",
    "---\n",
    "\n",
    "### **1. El ciclo `while`**\n",
    "\n",
    "El ciclo `while` ejecuta un bloque de código mientras una condición sea verdadera. Es una forma básica de repetir la ejecución de un bloque.\n",
    "\n",
    "#### **Sintaxis:**\n",
    "```ruby\n",
    "while <condición>\n",
    "  # código que se va a repetir mientras la condición sea verdadera\n",
    "end\n",
    "```\n",
    "\n",
    "#### **Ejemplo:**"
   ]
  },
  {
   "cell_type": "code",
   "execution_count": 48,
   "metadata": {},
   "outputs": [
    {
     "name": "stdout",
     "output_type": "stream",
     "text": [
      "Repeticion numero 1\n",
      "Repeticion numero 2\n",
      "Repeticion numero 3\n",
      "Repeticion numero 4\n",
      "Repeticion numero 5\n"
     ]
    }
   ],
   "source": [
    "contador = 1\n",
    "while contador <= 5\n",
    "  puts \"Repeticion numero #{contador}\"\n",
    "  contador += 1\n",
    "end"
   ]
  },
  {
   "cell_type": "markdown",
   "metadata": {},
   "source": [
    "\n",
    "---\n",
    "\n",
    "### **2. El método `times` (iterando N veces)**\n",
    "\n",
    "El método `times` se utiliza para ejecutar un bloque de código un número específico de veces. Es especialmente útil cuando sabemos cuántas veces queremos repetir una acción.\n",
    "\n",
    "#### **Sintaxis:**\n",
    "```ruby\n",
    "N.times do |i|\n",
    "  # código que se ejecutará N veces\n",
    "end\n",
    "```\n",
    "\n",
    "#### **Ejemplo:**"
   ]
  },
  {
   "cell_type": "code",
   "execution_count": 50,
   "metadata": {},
   "outputs": [
    {
     "name": "stdout",
     "output_type": "stream",
     "text": [
      "Repetici├│n n├║mero 0\n",
      "Repetici├│n n├║mero 1\n",
      "Repetici├│n n├║mero 2\n",
      "Repetici├│n n├║mero 3\n",
      "Repetici├│n n├║mero 4\n",
      "Repetici├│n n├║mero 5\n",
      "Repetici├│n n├║mero 6\n",
      "Repetici├│n n├║mero 7\n",
      "Repetici├│n n├║mero 8\n",
      "Repetici├│n n├║mero 9\n",
      "Repetici├│n n├║mero 10\n",
      "Repetici├│n n├║mero 11\n",
      "Repetici├│n n├║mero 12\n",
      "Repetici├│n n├║mero 13\n",
      "Repetici├│n n├║mero 14\n",
      "Repetici├│n n├║mero 15\n",
      "Repetici├│n n├║mero 16\n",
      "Repetici├│n n├║mero 17\n",
      "Repetici├│n n├║mero 18\n",
      "Repetici├│n n├║mero 19\n",
      "Repetici├│n n├║mero 20\n",
      "Repetici├│n n├║mero 21\n",
      "Repetici├│n n├║mero 22\n",
      "Repetici├│n n├║mero 23\n",
      "Repetici├│n n├║mero 24\n",
      "Repetici├│n n├║mero 25\n",
      "Repetici├│n n├║mero 26\n",
      "Repetici├│n n├║mero 27\n",
      "Repetici├│n n├║mero 28\n",
      "Repetici├│n n├║mero 29\n",
      "Repetici├│n n├║mero 30\n",
      "Repetici├│n n├║mero 31\n",
      "Repetici├│n n├║mero 32\n",
      "Repetici├│n n├║mero 33\n",
      "Repetici├│n n├║mero 34\n",
      "Repetici├│n n├║mero 35\n",
      "Repetici├│n n├║mero 36\n",
      "Repetici├│n n├║mero 37\n",
      "Repetici├│n n├║mero 38\n",
      "Repetici├│n n├║mero 39\n",
      "Repetici├│n n├║mero 40\n",
      "Repetici├│n n├║mero 41\n",
      "Repetici├│n n├║mero 42\n",
      "Repetici├│n n├║mero 43\n",
      "Repetici├│n n├║mero 44\n",
      "Repetici├│n n├║mero 45\n",
      "Repetici├│n n├║mero 46\n",
      "Repetici├│n n├║mero 47\n",
      "Repetici├│n n├║mero 48\n",
      "Repetici├│n n├║mero 49\n",
      "Repetici├│n n├║mero 50\n",
      "Repetici├│n n├║mero 51\n",
      "Repetici├│n n├║mero 52\n",
      "Repetici├│n n├║mero 53\n",
      "Repetici├│n n├║mero 54\n",
      "Repetici├│n n├║mero 55\n",
      "Repetici├│n n├║mero 56\n",
      "Repetici├│n n├║mero 57\n",
      "Repetici├│n n├║mero 58\n",
      "Repetici├│n n├║mero 59\n",
      "Repetici├│n n├║mero 60\n",
      "Repetici├│n n├║mero 61\n",
      "Repetici├│n n├║mero 62\n",
      "Repetici├│n n├║mero 63\n",
      "Repetici├│n n├║mero 64\n",
      "Repetici├│n n├║mero 65\n",
      "Repetici├│n n├║mero 66\n",
      "Repetici├│n n├║mero 67\n",
      "Repetici├│n n├║mero 68\n",
      "Repetici├│n n├║mero 69\n",
      "Repetici├│n n├║mero 70\n",
      "Repetici├│n n├║mero 71\n",
      "Repetici├│n n├║mero 72\n",
      "Repetici├│n n├║mero 73\n",
      "Repetici├│n n├║mero 74\n",
      "Repetici├│n n├║mero 75\n",
      "Repetici├│n n├║mero 76\n",
      "Repetici├│n n├║mero 77\n",
      "Repetici├│n n├║mero 78\n",
      "Repetici├│n n├║mero 79\n",
      "Repetici├│n n├║mero 80\n",
      "Repetici├│n n├║mero 81\n",
      "Repetici├│n n├║mero 82\n",
      "Repetici├│n n├║mero 83\n",
      "Repetici├│n n├║mero 84\n",
      "Repetici├│n n├║mero 85\n",
      "Repetici├│n n├║mero 86\n",
      "Repetici├│n n├║mero 87\n",
      "Repetici├│n n├║mero 88\n",
      "Repetici├│n n├║mero 89\n",
      "Repetici├│n n├║mero 90\n",
      "Repetici├│n n├║mero 91\n",
      "Repetici├│n n├║mero 92\n",
      "Repetici├│n n├║mero 93\n",
      "Repetici├│n n├║mero 94\n",
      "Repetici├│n n├║mero 95\n",
      "Repetici├│n n├║mero 96\n",
      "Repetici├│n n├║mero 97\n",
      "Repetici├│n n├║mero 98\n",
      "Repetici├│n n├║mero 99\n"
     ]
    },
    {
     "data": {
      "text/plain": [
       "100"
      ]
     },
     "execution_count": 50,
     "metadata": {},
     "output_type": "execute_result"
    }
   ],
   "source": [
    "100.times do |i|\n",
    "    # código que se quiere ejecutar 100 veces\n",
    "    puts \"Repetición número #{i}\"\n",
    "  end"
   ]
  },
  {
   "cell_type": "markdown",
   "metadata": {},
   "source": [
    "\n",
    "\n",
    "#### **Sintaxis de una sola línea:**\n",
    "\n",
    "Ruby también permite escribir esta misma operación en una sola línea, lo que lo hace aún más conciso:"
   ]
  },
  {
   "cell_type": "code",
   "execution_count": 52,
   "metadata": {},
   "outputs": [
    {
     "name": "stdout",
     "output_type": "stream",
     "text": [
      "Hola 0\n",
      "Hola 1\n",
      "Hola 2\n",
      "Hola 3\n",
      "Hola 4\n",
      "Hola 5\n",
      "Hola 6\n",
      "Hola 7\n",
      "Hola 8\n",
      "Hola 9\n",
      "Hola 10\n",
      "Hola 11\n",
      "Hola 12\n",
      "Hola 13\n",
      "Hola 14\n",
      "Hola 15\n",
      "Hola 16\n",
      "Hola 17\n",
      "Hola 18\n",
      "Hola 19\n",
      "Hola 20\n",
      "Hola 21\n",
      "Hola 22\n",
      "Hola 23\n",
      "Hola 24\n",
      "Hola 25\n",
      "Hola 26\n",
      "Hola 27\n",
      "Hola 28\n",
      "Hola 29\n",
      "Hola 30\n",
      "Hola 31\n",
      "Hola 32\n",
      "Hola 33\n",
      "Hola 34\n",
      "Hola 35\n",
      "Hola 36\n",
      "Hola 37\n",
      "Hola 38\n",
      "Hola 39\n",
      "Hola 40\n",
      "Hola 41\n",
      "Hola 42\n",
      "Hola 43\n",
      "Hola 44\n",
      "Hola 45\n",
      "Hola 46\n",
      "Hola 47\n",
      "Hola 48\n",
      "Hola 49\n",
      "Hola 50\n",
      "Hola 51\n",
      "Hola 52\n",
      "Hola 53\n",
      "Hola 54\n",
      "Hola 55\n",
      "Hola 56\n",
      "Hola 57\n",
      "Hola 58\n",
      "Hola 59\n",
      "Hola 60\n",
      "Hola 61\n",
      "Hola 62\n",
      "Hola 63\n",
      "Hola 64\n",
      "Hola 65\n",
      "Hola 66\n",
      "Hola 67\n",
      "Hola 68\n",
      "Hola 69\n",
      "Hola 70\n",
      "Hola 71\n",
      "Hola 72\n",
      "Hola 73\n",
      "Hola 74\n",
      "Hola 75\n",
      "Hola 76\n",
      "Hola 77\n",
      "Hola 78\n",
      "Hola 79\n",
      "Hola 80\n",
      "Hola 81\n",
      "Hola 82\n",
      "Hola 83\n",
      "Hola 84\n",
      "Hola 85\n",
      "Hola 86\n",
      "Hola 87\n",
      "Hola 88\n",
      "Hola 89\n",
      "Hola 90\n",
      "Hola 91\n",
      "Hola 92\n",
      "Hola 93\n",
      "Hola 94\n",
      "Hola 95\n",
      "Hola 96\n",
      "Hola 97\n",
      "Hola 98\n",
      "Hola 99\n"
     ]
    },
    {
     "data": {
      "text/plain": [
       "100"
      ]
     },
     "execution_count": 52,
     "metadata": {},
     "output_type": "execute_result"
    }
   ],
   "source": [
    "100.times { |i| puts \"Hola #{i}\" }\n"
   ]
  },
  {
   "cell_type": "markdown",
   "metadata": {},
   "source": [
    "\n",
    "\n",
    "---\n",
    "\n",
    "### **3. El método `each`**\n",
    "\n",
    "El método `each` es una forma de iterar sobre los elementos de una colección (como un rango o un array). Es una opción muy común cuando se quiere recorrer una secuencia de elementos.\n",
    "\n",
    "#### **Sintaxis:**\n",
    "```ruby\n",
    "<colección>.each do |elemento|\n",
    "  # código que se ejecuta para cada elemento\n",
    "end\n",
    "```\n",
    "\n",
    "#### **Ejemplo:**\n"
   ]
  },
  {
   "cell_type": "code",
   "execution_count": 53,
   "metadata": {},
   "outputs": [
    {
     "name": "stdout",
     "output_type": "stream",
     "text": [
      "10 Hola mundo\n",
      "11 Hola mundo\n",
      "12 Hola mundo\n",
      "13 Hola mundo\n",
      "14 Hola mundo\n",
      "15 Hola mundo\n"
     ]
    },
    {
     "data": {
      "text/plain": [
       "10..15"
      ]
     },
     "execution_count": 53,
     "metadata": {},
     "output_type": "execute_result"
    }
   ],
   "source": [
    "(10..15).each do |i|\n",
    "    puts \"#{i} Hola mundo\"\n",
    "  end"
   ]
  },
  {
   "cell_type": "markdown",
   "metadata": {},
   "source": [
    "\n",
    "---\n",
    "\n",
    "### **Rangos en Ruby**\n",
    "\n",
    "En Ruby, podemos crear rangos utilizando dos o tres puntos entre dos números:\n",
    "\n",
    "- **`..`** (dos puntos) incluye el valor final del rango.\n",
    "- **`...`** (tres puntos) excluye el valor final del rango.\n",
    "\n",
    "#### **Ejemplo con `..` (incluye el valor final):**\n",
    "\n"
   ]
  },
  {
   "cell_type": "code",
   "execution_count": 57,
   "metadata": {},
   "outputs": [
    {
     "name": "stdout",
     "output_type": "stream",
     "text": [
      "1\n",
      "2\n",
      "3\n",
      "4\n",
      "5\n"
     ]
    },
    {
     "data": {
      "text/plain": [
       "1..5"
      ]
     },
     "execution_count": 57,
     "metadata": {},
     "output_type": "execute_result"
    }
   ],
   "source": [
    "(1..5).each { |i| puts i }  # Imprime 1, 2, 3, 4, 5\n"
   ]
  },
  {
   "cell_type": "markdown",
   "metadata": {},
   "source": [
    "#### **Ejemplo con `...` (excluye el valor final):**\n"
   ]
  },
  {
   "cell_type": "code",
   "execution_count": 58,
   "metadata": {},
   "outputs": [
    {
     "name": "stdout",
     "output_type": "stream",
     "text": [
      "1\n",
      "2\n",
      "3\n",
      "4\n"
     ]
    },
    {
     "data": {
      "text/plain": [
       "1...5"
      ]
     },
     "execution_count": 58,
     "metadata": {},
     "output_type": "execute_result"
    }
   ],
   "source": [
    "(1...5).each { |i| puts i }  # Imprime 1, 2, 3, 4"
   ]
  },
  {
   "cell_type": "markdown",
   "metadata": {},
   "source": [
    "---"
   ]
  },
  {
   "cell_type": "markdown",
   "metadata": {},
   "source": [
    "\n",
    "---\n",
    "\n",
    "## **Métodos en Ruby**\n",
    "\n",
    "Los métodos (también conocidos como funciones o procedimientos en otros lenguajes) nos permiten reutilizar código, lo que facilita la organización y mejora la legibilidad de nuestros programas.\n",
    "\n",
    "---\n",
    "\n",
    "### **1. Creando un Método Básico**\n",
    "\n",
    "La sintaxis básica para crear un método en Ruby es la siguiente:\n",
    "\n",
    "#### **Sintaxis:**\n",
    "```ruby\n",
    "def nombre_del_metodo\n",
    "  # código que el método ejecutará\n",
    "end\n",
    "```\n",
    "\n",
    "#### **Ejemplo:**"
   ]
  },
  {
   "cell_type": "code",
   "execution_count": 60,
   "metadata": {},
   "outputs": [
    {
     "data": {
      "text/plain": [
       ":hello"
      ]
     },
     "execution_count": 60,
     "metadata": {},
     "output_type": "execute_result"
    }
   ],
   "source": [
    "def hello\n",
    "    puts \"Hola mundo\"\n",
    "end"
   ]
  },
  {
   "cell_type": "markdown",
   "metadata": {},
   "source": [
    "\n",
    "\n",
    "---\n",
    "\n",
    "### **2. Invocando un Método**\n",
    "\n",
    "Para invocar (o llamar) un método, simplemente utilizamos su nombre. Los paréntesis son opcionales, pero se pueden usar si lo deseas:\n",
    "\n",
    "#### **Sintaxis:**\n",
    "```ruby\n",
    "hello()  # los paréntesis son opcionales\n",
    "```\n"
   ]
  },
  {
   "cell_type": "markdown",
   "metadata": {},
   "source": [
    "\n",
    "---\n",
    "\n",
    "### **3. Métodos con Parámetros**\n",
    "\n",
    "Los métodos pueden aceptar **parámetros** (también llamados argumentos) que se utilizan dentro del método para personalizar su comportamiento. Modifiquemos el ejemplo anterior para que el método reciba un nombre y lo use en el saludo:\n",
    "\n",
    "#### **Sintaxis:**"
   ]
  },
  {
   "cell_type": "code",
   "execution_count": 61,
   "metadata": {},
   "outputs": [
    {
     "data": {
      "text/plain": [
       ":hello"
      ]
     },
     "execution_count": 61,
     "metadata": {},
     "output_type": "execute_result"
    }
   ],
   "source": [
    "\n",
    "def hello(name)\n",
    "  puts \"Hola #{name}\"\n",
    "end\n",
    "\n"
   ]
  },
  {
   "cell_type": "markdown",
   "metadata": {},
   "source": [
    "\n",
    "\n",
    "#### **Ejemplo:**\n"
   ]
  },
  {
   "cell_type": "code",
   "execution_count": 62,
   "metadata": {},
   "outputs": [
    {
     "name": "stdout",
     "output_type": "stream",
     "text": [
      "Hola Jesus\n",
      "Hola Kennedy\n"
     ]
    }
   ],
   "source": [
    "hello(\"Jesus\")\n",
    "hello(\"Kennedy\")"
   ]
  },
  {
   "cell_type": "markdown",
   "metadata": {},
   "source": [
    "\n",
    "---\n",
    "\n",
    "### **4. Retornando un Valor**\n",
    "\n",
    "En Ruby, todos los métodos retornan un valor. Si no se especifica explícitamente un valor de retorno, Ruby retorna por defecto el valor de la última expresión evaluada en el método.\n",
    "\n",
    "#### **Ejemplo de retorno implícito:**"
   ]
  },
  {
   "cell_type": "code",
   "execution_count": 66,
   "metadata": {},
   "outputs": [
    {
     "name": "stdout",
     "output_type": "stream",
     "text": [
      "Hola Jesus\n",
      "Hola Kennedy\n"
     ]
    }
   ],
   "source": [
    "def hello(name)\n",
    "    \"Hola #{name}\"\n",
    "end\n",
    "\n",
    "puts hello(\"Jesus\")\n",
    "puts hello \"Kennedy\"  # los paréntesis son opcionales"
   ]
  },
  {
   "cell_type": "markdown",
   "metadata": {},
   "source": [
    "\n",
    "---\n",
    "\n",
    "### **5. Retorno Explícito con `return`**\n",
    "\n",
    "También es posible retornar un valor explícitamente utilizando la palabra clave `return`:\n",
    "\n",
    "#### **Sintaxis con `return`:**\n"
   ]
  },
  {
   "cell_type": "code",
   "execution_count": 68,
   "metadata": {},
   "outputs": [
    {
     "data": {
      "text/plain": [
       ":hello"
      ]
     },
     "execution_count": 68,
     "metadata": {},
     "output_type": "execute_result"
    }
   ],
   "source": [
    "def hello(name)\n",
    "    return \"Hola #{name}\"\n",
    "end"
   ]
  },
  {
   "cell_type": "markdown",
   "metadata": {},
   "source": [
    "\n",
    "\n",
    "#### **Ejemplo:**\n",
    "\n",
    "\n"
   ]
  },
  {
   "cell_type": "code",
   "execution_count": 71,
   "metadata": {},
   "outputs": [
    {
     "name": "stdout",
     "output_type": "stream",
     "text": [
      "Hola Jesus\n",
      "Hola Kennedy\n"
     ]
    }
   ],
   "source": [
    "puts hello(\"Jesus\")\n",
    "puts hello \"Kennedy\"  # los paréntesis son opcionales\n"
   ]
  },
  {
   "cell_type": "markdown",
   "metadata": {},
   "source": [
    "El uso de `return` hace explícito el valor que se está retornando desde el método.\n",
    "\n",
    "---"
   ]
  }
 ],
 "metadata": {
  "kernelspec": {
   "display_name": "Ruby 3 (iruby kernel)",
   "language": "ruby",
   "name": "ruby3"
  },
  "language_info": {
   "file_extension": ".rb",
   "mimetype": "application/x-ruby",
   "name": "ruby",
   "version": "3.3.7"
  }
 },
 "nbformat": 4,
 "nbformat_minor": 2
}
