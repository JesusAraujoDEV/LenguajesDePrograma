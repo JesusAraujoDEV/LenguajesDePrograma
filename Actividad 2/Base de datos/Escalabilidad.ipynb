{
 "cells": [
  {
   "cell_type": "markdown",
   "metadata": {},
   "source": [
    "# **Bases de Datos Escalables: Documentación y Guía**\n",
    "---\n",
    "\n",
    "## **1. Introducción**\n",
    "\n",
    "En el mundo actual, las aplicaciones y servicios deben gestionar grandes cantidades de datos y un creciente número de usuarios concurrentes. Una **base de datos escalable** es aquella diseñada para crecer y adaptarse a la demanda, manteniendo un rendimiento óptimo y alta disponibilidad, incluso cuando la carga de trabajo aumenta significativamente.\n",
    "\n",
    "---\n",
    "\n",
    "## **2. ¿Qué es una Base de Datos Escalable?**\n",
    "\n",
    "Una base de datos escalable es aquella que permite aumentar su capacidad de manejo de datos y de transacciones sin degradar su rendimiento. Esto se logra mediante dos enfoques principales:\n",
    "\n",
    "- **Escalabilidad Vertical:** Consiste en mejorar la capacidad del servidor (más memoria, CPU, disco, etc.). Es sencillo de implementar, pero tiene límites físicos y puede resultar costoso a medida que se requieren recursos más potentes.\n",
    "\n",
    "- **Escalabilidad Horizontal:** Implica agregar más nodos o servidores a la infraestructura para distribuir la carga de trabajo. Es más compleja de implementar, pero ofrece una mayor capacidad de crecimiento y tolerancia a fallos.\n",
    "\n",
    "---\n",
    "\n",
    "## **3. Características de una Base de Datos Escalable**\n",
    "\n",
    "Para que una base de datos sea considerada escalable, debe presentar las siguientes características:\n",
    "\n",
    "- **Capacidad de Crecimiento:** Posibilidad de manejar un incremento en la cantidad de datos y en el número de solicitudes.\n",
    "- **Alta Disponibilidad:** Implementación de mecanismos de replicación y tolerancia a fallos para garantizar que el sistema siga funcionando ante fallos de hardware o software.\n",
    "- **Distribución de la Carga:** Soporte para técnicas de particionado (sharding) y replicación, que permiten distribuir datos y solicitudes en múltiples servidores.\n",
    "- **Consistencia y Rendimiento:** Balance entre mantener la consistencia de los datos y alcanzar un alto rendimiento en consultas y transacciones.\n",
    "- **Flexibilidad y Modularidad:** Facilidad para integrar nuevos nodos o recursos sin afectar el funcionamiento general del sistema.\n",
    "\n",
    "---\n",
    "\n",
    "## **4. Estrategias de Escalabilidad**\n",
    "\n",
    "Existen varias estrategias y técnicas para lograr la escalabilidad en una base de datos:\n",
    "\n",
    "### **4.1. Escalabilidad Vertical**\n",
    "\n",
    "- **Descripción:** Mejorar la capacidad de un único servidor aumentando sus recursos (CPU, memoria, almacenamiento).\n",
    "- **Ventajas:** Menor complejidad en la configuración inicial.\n",
    "- **Desventajas:** Limitaciones físicas y potenciales cuellos de botella; el costo crece exponencialmente conforme se agregan más recursos.\n",
    "\n",
    "### **4.2. Escalabilidad Horizontal**\n",
    "\n",
    "- **Descripción:** Distribuir la carga entre varios servidores o nodos. Se implementa mediante:\n",
    "  - **Replicación:** Copiar datos en varios servidores para mejorar la disponibilidad y balancear la carga de lectura.\n",
    "  - **Particionado (Sharding):** Dividir la base de datos en fragmentos (shards) que se distribuyen en diferentes nodos, lo que permite gestionar grandes volúmenes de datos y transacciones.\n",
    "- **Ventajas:** Mayor capacidad de crecimiento y tolerancia a fallos; se pueden agregar nodos según la demanda.\n",
    "- **Desventajas:** Complejidad en la implementación, configuración y mantenimiento; puede requerir cambios en la aplicación para gestionar la distribución de datos.\n",
    "\n",
    "---\n",
    "\n",
    "## **5. Tecnologías y Ejemplos de Bases de Datos Escalables**\n",
    "\n",
    "Existen diversas soluciones en el mercado diseñadas para ofrecer escalabilidad horizontal y alta disponibilidad. Algunos ejemplos son:\n",
    "\n",
    "- **NoSQL:**\n",
    "  - **MongoDB:** Base de datos orientada a documentos que permite la replicación y el particionado.\n",
    "  - **Cassandra:** Diseñada para manejar grandes volúmenes de datos en múltiples nodos, con alta tolerancia a fallos.\n",
    "  - **Couchbase:** Ofrece escalabilidad horizontal y capacidades de cacheo en memoria.\n",
    "\n",
    "- **SQL Distribuidas:**\n",
    "  - **Google Cloud Spanner:** Base de datos relacional global, escalable horizontalmente y con consistencia transaccional.\n",
    "  - **CockroachDB:** Motor de base de datos SQL distribuido, resiliente y escalable.\n",
    "  - **Amazon Aurora:** Solución relacional en la nube, compatible con MySQL y PostgreSQL, diseñada para escalar y ofrecer alta disponibilidad.\n",
    "\n",
    "Cada una de estas soluciones está pensada para entornos con altas demandas de rendimiento y disponibilidad, y se utilizan en aplicaciones críticas y de misión crítica en la industria.\n",
    "\n",
    "---\n",
    "\n",
    "## **6. Consideraciones Clave**\n",
    "\n",
    "Al diseñar o seleccionar una base de datos escalable, es importante tener en cuenta los siguientes aspectos:\n",
    "\n",
    "- **Teorema CAP:** En entornos distribuidos, existe un trade-off entre consistencia, disponibilidad y tolerancia a particiones. Es esencial definir qué factor es prioritario según las necesidades de la aplicación.\n",
    "- **Latencia y Rendimiento:** La distribución geográfica de nodos puede afectar la latencia de las consultas. Es vital optimizar la distribución y la replicación de datos.\n",
    "- **Complejidad Operacional:** Las soluciones escalables, especialmente las distribuidas horizontalmente, pueden requerir mayor complejidad en la configuración, monitoreo y mantenimiento.\n",
    "- **Costos:** La escalabilidad horizontal puede implicar costos adicionales en infraestructura, mientras que la escalabilidad vertical tiene un límite físico y puede resultar cara conforme se avanza en recursos.\n",
    "\n",
    "---\n",
    "\n",
    "## **7. Caso de Uso**\n",
    "\n",
    "Imagina que tienes una aplicación de comercio electrónico que experimenta un crecimiento acelerado en el número de usuarios y transacciones. Una base de datos escalable te permitirá:\n",
    "\n",
    "- Distribuir la carga de trabajo entre múltiples servidores para evitar cuellos de botella.\n",
    "- Garantizar alta disponibilidad y continuidad del negocio, incluso en caso de fallos en uno o varios nodos.\n",
    "- Mantener un rendimiento óptimo en consultas y transacciones, proporcionando una mejor experiencia al usuario.\n",
    "\n",
    "---"
   ]
  },
  {
   "cell_type": "markdown",
   "metadata": {},
   "source": [
    "# **8. Ejemplo Sencillo**\n",
    "\n",
    "Un ejemplo sencillo para ilustrar cómo podrías implementar un mecanismo de *sharding* (una técnica de escalabilidad horizontal) utilizando dos bases de datos SQLite. En un escenario real, distribuirías la carga entre múltiples nodos, pero aquí simularemos el proceso asignando registros a una u otra base de datos en función de una regla simple (por ejemplo, que el ID del usuario sea par o impar)."
   ]
  },
  {
   "cell_type": "code",
   "execution_count": 1,
   "metadata": {},
   "outputs": [],
   "source": [
    "import sqlite3\n",
    "\n",
    "# Función para inicializar (crear) una base de datos SQLite y una tabla 'usuarios'\n",
    "def init_db(db_name):\n",
    "    conn = sqlite3.connect(db_name)\n",
    "    cursor = conn.cursor()\n",
    "    cursor.execute(\"\"\"\n",
    "        CREATE TABLE IF NOT EXISTS usuarios (\n",
    "            id INTEGER PRIMARY KEY,\n",
    "            nombre TEXT NOT NULL\n",
    "        )\n",
    "    \"\"\")\n",
    "    conn.commit()\n",
    "    return conn"
   ]
  },
  {
   "cell_type": "markdown",
   "metadata": {},
   "source": [
    "\n",
    "\n",
    "### Inicializamos dos bases de datos que simularán nuestros shards\n"
   ]
  },
  {
   "cell_type": "code",
   "execution_count": 2,
   "metadata": {},
   "outputs": [],
   "source": [
    "conn_db1 = init_db(\"db1.db\")  # Por ejemplo, para usuarios con ID par\n",
    "conn_db2 = init_db(\"db2.db\")  # Por ejemplo, para usuarios con ID impar"
   ]
  },
  {
   "cell_type": "markdown",
   "metadata": {},
   "source": [
    "\n",
    "\n",
    "### Función para decidir a qué base de datos enviar un registro según el ID del usuario\n"
   ]
  },
  {
   "cell_type": "code",
   "execution_count": 4,
   "metadata": {},
   "outputs": [],
   "source": [
    "def get_connection_for_user(user_id):\n",
    "    return conn_db1 if user_id % 2 == 0 else conn_db2"
   ]
  },
  {
   "cell_type": "markdown",
   "metadata": {},
   "source": [
    "\n",
    "\n",
    "### Función para insertar un usuario en el shard correspondiente\n"
   ]
  },
  {
   "cell_type": "code",
   "execution_count": 5,
   "metadata": {},
   "outputs": [],
   "source": [
    "def add_user(user_id, nombre):\n",
    "    conn = get_connection_for_user(user_id)\n",
    "    cursor = conn.cursor()\n",
    "    cursor.execute(\"INSERT INTO usuarios (id, nombre) VALUES (?, ?)\", (user_id, nombre))\n",
    "    conn.commit()"
   ]
  },
  {
   "cell_type": "markdown",
   "metadata": {},
   "source": [
    "\n",
    "### Simulamos la inserción de algunos usuarios\n"
   ]
  },
  {
   "cell_type": "code",
   "execution_count": 6,
   "metadata": {},
   "outputs": [],
   "source": [
    "for user_id in range(1, 11):\n",
    "    add_user(user_id, f\"Usuario_{user_id}\")"
   ]
  },
  {
   "cell_type": "markdown",
   "metadata": {},
   "source": [
    "\n",
    "\n",
    "### Función para imprimir el contenido de una base de datos\n"
   ]
  },
  {
   "cell_type": "code",
   "execution_count": 7,
   "metadata": {},
   "outputs": [],
   "source": [
    "def print_db_contents(conn, db_name):\n",
    "    cursor = conn.cursor()\n",
    "    cursor.execute(\"SELECT * FROM usuarios\")\n",
    "    data = cursor.fetchall()\n",
    "    print(f\"Contenido de {db_name}:\")\n",
    "    for row in data:\n",
    "        print(row)\n",
    "    print(\"\\n\")"
   ]
  },
  {
   "cell_type": "markdown",
   "metadata": {},
   "source": [
    "\n",
    "\n",
    "### Mostramos el contenido de cada shard\n"
   ]
  },
  {
   "cell_type": "code",
   "execution_count": 8,
   "metadata": {},
   "outputs": [
    {
     "name": "stdout",
     "output_type": "stream",
     "text": [
      "Contenido de db1.db:\n",
      "(2, 'Usuario_2')\n",
      "(4, 'Usuario_4')\n",
      "(6, 'Usuario_6')\n",
      "(8, 'Usuario_8')\n",
      "(10, 'Usuario_10')\n",
      "\n",
      "\n",
      "Contenido de db2.db:\n",
      "(1, 'Usuario_1')\n",
      "(3, 'Usuario_3')\n",
      "(5, 'Usuario_5')\n",
      "(7, 'Usuario_7')\n",
      "(9, 'Usuario_9')\n",
      "\n",
      "\n"
     ]
    }
   ],
   "source": [
    "print_db_contents(conn_db1, \"db1.db\")\n",
    "print_db_contents(conn_db2, \"db2.db\")"
   ]
  },
  {
   "cell_type": "markdown",
   "metadata": {},
   "source": [
    "\n",
    "\n",
    "### Segmentación paso a paso\n",
    "\n",
    "1. **Inicialización de Bases de Datos:**\n",
    "   - Se crean dos archivos de base de datos (`db1.db` y `db2.db`) y en cada uno se crea la tabla `usuarios` si aún no existe.\n",
    "\n",
    "2. **Regla de Sharding:**\n",
    "   - La función `get_connection_for_user(user_id)` decide a cuál base de datos dirigir cada inserción. En este ejemplo, si el `user_id` es par, se guarda en `db1.db`; si es impar, en `db2.db`.\n",
    "\n",
    "3. **Inserción de Datos:**\n",
    "   - Con `add_user(user_id, nombre)`, se inserta cada usuario en el shard correspondiente según la regla definida.\n",
    "\n",
    "4. **Visualización de Datos:**\n",
    "   - Finalmente, se imprime el contenido de cada base de datos para ver cómo se han distribuido los registros.\n",
    "\n",
    "### Conclusión\n",
    "\n",
    "Este ejemplo simula un escenario básico de escalabilidad horizontal mediante sharding. En entornos reales, podrías tener reglas más complejas, múltiples shards y mecanismos adicionales para la replicación y balanceo de carga, pero esta demostración te ayuda a entender el concepto fundamental de distribuir los datos entre varios nodos para mejorar la escalabilidad y el rendimiento."
   ]
  }
 ],
 "metadata": {
  "kernelspec": {
   "display_name": "Python 3",
   "language": "python",
   "name": "python3"
  },
  "language_info": {
   "codemirror_mode": {
    "name": "ipython",
    "version": 3
   },
   "file_extension": ".py",
   "mimetype": "text/x-python",
   "name": "python",
   "nbconvert_exporter": "python",
   "pygments_lexer": "ipython3",
   "version": "3.13.1"
  }
 },
 "nbformat": 4,
 "nbformat_minor": 2
}
