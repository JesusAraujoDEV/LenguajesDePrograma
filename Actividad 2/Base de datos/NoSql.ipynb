{
 "cells": [
  {
   "cell_type": "markdown",
   "metadata": {},
   "source": [
    "### Documentación de Base de Datos NoSQL (MongoDB)\n",
    "\n",
    "---\n",
    "\n",
    "# **1. Introducción a MongoDB**\n",
    "\n",
    "MongoDB es una base de datos NoSQL orientada a documentos. A diferencia de las bases de datos relacionales (SQL), MongoDB almacena los datos en documentos BSON (similar a JSON), lo que permite mayor flexibilidad y escalabilidad. Es ideal para aplicaciones que requieren almacenamiento dinámico y estructuras de datos complejas.\n",
    "\n",
    "### **¿Por qué NoSQL?**\n",
    "- **Flexibilidad en el esquema**: No requiere una estructura fija de tablas y columnas.\n",
    "- **Escalabilidad horizontal**: Se adapta mejor a grandes volúmenes de datos distribuidos.\n",
    "- **Alto rendimiento**: Operaciones de lectura y escritura rápidas gracias a su almacenamiento en documentos.\n",
    "- **Fácil integración con aplicaciones modernas**: Ideal para desarrollo ágil y microservicios.\n",
    "\n",
    "---\n",
    "\n",
    "## **2. Versiones y Entornos de Ejecución de MongoDB**\n",
    "\n",
    "MongoDB se puede ejecutar en distintos entornos:\n",
    "\n",
    "- **MongoDB Atlas**: Servicio completamente administrado en la nube.\n",
    "- **MongoDB Enterprise**: Versión con suscripción, autogestionada, con características avanzadas.\n",
    "- **MongoDB Community**: Versión gratuita y de código abierto, autogestionada.\n",
    "\n",
    "---\n",
    "\n",
    "## **3. Instalación y Conexión a MongoDB**\n",
    "\n",
    "Para utilizar MongoDB en local, puedes instalar MongoDB Community desde su sitio web oficial.\n",
    "\n",
    "### **Conexión con Python**"
   ]
  },
  {
   "cell_type": "code",
   "execution_count": 4,
   "metadata": {},
   "outputs": [
    {
     "name": "stdout",
     "output_type": "stream",
     "text": [
      "Defaulting to user installation because normal site-packages is not writeable\n",
      "Requirement already satisfied: pymongo in c:\\users\\j2a0a\\appdata\\roaming\\python\\python313\\site-packages (4.11)\n",
      "Requirement already satisfied: dnspython<3.0.0,>=1.16.0 in c:\\users\\j2a0a\\appdata\\roaming\\python\\python313\\site-packages (from pymongo) (2.7.0)\n",
      "Note: you may need to restart the kernel to use updated packages.\n"
     ]
    },
    {
     "name": "stderr",
     "output_type": "stream",
     "text": [
      "\n",
      "[notice] A new release of pip is available: 24.3.1 -> 25.0\n",
      "[notice] To update, run: python.exe -m pip install --upgrade pip\n"
     ]
    }
   ],
   "source": [
    "pip install pymongo"
   ]
  },
  {
   "cell_type": "code",
   "execution_count": 3,
   "metadata": {},
   "outputs": [],
   "source": [
    "from pymongo import MongoClient\n",
    "\n",
    "# Conectar a MongoDB (Asegúrate de que el servidor de MongoDB esté en ejecución)\n",
    "client = MongoClient(\"mongodb://localhost:27017/\")\n",
    "\n",
    "# Crear o seleccionar una base de datos\n",
    "db = client[\"mi_base_de_datos\"]"
   ]
  },
  {
   "cell_type": "markdown",
   "metadata": {},
   "source": [
    "\n",
    "---\n",
    "\n",
    "## **4. Definición de Colecciones y Documentos**\n",
    "\n",
    "MongoDB almacena datos en colecciones de documentos."
   ]
  },
  {
   "cell_type": "code",
   "execution_count": 5,
   "metadata": {},
   "outputs": [
    {
     "data": {
      "text/plain": [
       "InsertOneResult(ObjectId('67a25d166979a95deed4abd7'), acknowledged=True)"
      ]
     },
     "execution_count": 5,
     "metadata": {},
     "output_type": "execute_result"
    }
   ],
   "source": [
    "# Crear una colección\n",
    "coleccion = db[\"usuarios\"]\n",
    "\n",
    "# Insertar un documento en la colección\n",
    "usuario = {\n",
    "    \"nombre\": \"Juan Pérez\",\n",
    "    \"edad\": 30,\n",
    "    \"email\": \"juan.perez@example.com\",\n",
    "    \"direccion\": {\n",
    "        \"calle\": \"Av. Siempre Viva\",\n",
    "        \"numero\": 123,\n",
    "        \"ciudad\": \"Springfield\"\n",
    "    }\n",
    "}\n",
    "\n",
    "coleccion.insert_one(usuario)"
   ]
  },
  {
   "cell_type": "markdown",
   "metadata": {},
   "source": [
    "\n",
    "---\n",
    "\n",
    "## **5. Consultas Básicas**"
   ]
  },
  {
   "cell_type": "code",
   "execution_count": 6,
   "metadata": {},
   "outputs": [
    {
     "name": "stdout",
     "output_type": "stream",
     "text": [
      "{'_id': ObjectId('67a25d166979a95deed4abd7'), 'nombre': 'Juan Pérez', 'edad': 30, 'email': 'juan.perez@example.com', 'direccion': {'calle': 'Av. Siempre Viva', 'numero': 123, 'ciudad': 'Springfield'}}\n",
      "{'_id': ObjectId('67a25d166979a95deed4abd7'), 'nombre': 'Juan Pérez', 'edad': 30, 'email': 'juan.perez@example.com', 'direccion': {'calle': 'Av. Siempre Viva', 'numero': 123, 'ciudad': 'Springfield'}}\n"
     ]
    }
   ],
   "source": [
    "# Obtener todos los documentos de la colección\n",
    "for doc in coleccion.find():\n",
    "    print(doc)\n",
    "\n",
    "# Consultar un documento específico\n",
    "usuario = coleccion.find_one({\"nombre\": \"Juan Pérez\"})\n",
    "print(usuario)"
   ]
  },
  {
   "cell_type": "markdown",
   "metadata": {},
   "source": [
    "\n",
    "---\n",
    "\n",
    "## **6. Actualización de Documentos**\n"
   ]
  },
  {
   "cell_type": "code",
   "execution_count": 7,
   "metadata": {},
   "outputs": [
    {
     "data": {
      "text/plain": [
       "UpdateResult({'n': 1, 'nModified': 1, 'ok': 1.0, 'updatedExisting': True}, acknowledged=True)"
      ]
     },
     "execution_count": 7,
     "metadata": {},
     "output_type": "execute_result"
    }
   ],
   "source": [
    "# Actualizar la edad del usuario\n",
    "coleccion.update_one({\"nombre\": \"Juan Pérez\"}, {\"$set\": {\"edad\": 31}})"
   ]
  },
  {
   "cell_type": "markdown",
   "metadata": {},
   "source": [
    "\n",
    "---\n",
    "\n",
    "## **7. Eliminación de Documentos**"
   ]
  },
  {
   "cell_type": "code",
   "execution_count": 8,
   "metadata": {},
   "outputs": [
    {
     "data": {
      "text/plain": [
       "DeleteResult({'n': 1, 'ok': 1.0}, acknowledged=True)"
      ]
     },
     "execution_count": 8,
     "metadata": {},
     "output_type": "execute_result"
    }
   ],
   "source": [
    "# Eliminar un usuario\n",
    "coleccion.delete_one({\"nombre\": \"Juan Pérez\"})"
   ]
  },
  {
   "cell_type": "markdown",
   "metadata": {},
   "source": [
    "\n",
    "---\n",
    "\n",
    "## **8. Índices y Optimización**\n",
    "\n",
    "Los índices mejoran la velocidad de búsqueda en grandes volúmenes de datos.\n"
   ]
  },
  {
   "cell_type": "code",
   "execution_count": 9,
   "metadata": {},
   "outputs": [
    {
     "data": {
      "text/plain": [
       "'email_1'"
      ]
     },
     "execution_count": 9,
     "metadata": {},
     "output_type": "execute_result"
    }
   ],
   "source": [
    "# Crear un índice en el campo \"email\" para mejorar la búsqueda\n",
    "coleccion.create_index(\"email\", unique=True)"
   ]
  },
  {
   "cell_type": "markdown",
   "metadata": {},
   "source": [
    "\n",
    "---\n",
    "\n",
    "## **9. Casos de Uso de MongoDB**\n",
    "\n",
    "MongoDB es utilizado en diversas aplicaciones, como:\n",
    "- **Big Data y análisis en tiempo real**: Manejo eficiente de grandes volúmenes de datos.\n",
    "- **Sistemas de gestión de contenido**: CMS dinámicos y personalizables.\n",
    "- **Internet de las cosas (IoT)**: Almacenamiento de datos de sensores en estructuras flexibles.\n",
    "- **Aplicaciones móviles y web**: Backend ágil para aplicaciones modernas."
   ]
  },
  {
   "cell_type": "markdown",
   "metadata": {},
   "source": [
    "\n",
    "---\n",
    "\n",
    "## **10. Cierre de la Conexión**\n"
   ]
  },
  {
   "cell_type": "code",
   "execution_count": null,
   "metadata": {},
   "outputs": [],
   "source": [
    "client.close()"
   ]
  }
 ],
 "metadata": {
  "kernelspec": {
   "display_name": "Python 3",
   "language": "python",
   "name": "python3"
  },
  "language_info": {
   "codemirror_mode": {
    "name": "ipython",
    "version": 3
   },
   "file_extension": ".py",
   "mimetype": "text/x-python",
   "name": "python",
   "nbconvert_exporter": "python",
   "pygments_lexer": "ipython3",
   "version": "3.13.1"
  }
 },
 "nbformat": 4,
 "nbformat_minor": 2
}
