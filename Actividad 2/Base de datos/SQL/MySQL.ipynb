{
 "cells": [
  {
   "cell_type": "markdown",
   "metadata": {},
   "source": [
    "### Documentación de Base de Datos Relacional (MySQL)\n",
    "\n",
    "# **1. Introducción a MySQL**\n",
    "\n",
    "MySQL es un sistema de gestión de bases de datos relacional (RDBMS) de código abierto ampliamente utilizado. Organiza los datos en tablas con filas y columnas, utilizando SQL (Structured Query Language) para gestionar y manipular la información.\n",
    "\n",
    "### **¿Por qué SQL?**\n",
    "- **Estructura definida**: Uso de esquemas rígidos que garantizan la integridad de los datos.\n",
    "- **Consistencia y seguridad**: Cumple con ACID (Atomicidad, Consistencia, Aislamiento, Durabilidad).\n",
    "- **Escalabilidad vertical**: Adecuado para aplicaciones empresariales con grandes volúmenes de datos.\n",
    "- **Amplia compatibilidad**: Integración con múltiples lenguajes de programación y plataformas.\n",
    "\n",
    "## **2. Versiones y Entornos de Ejecución de MySQL**\n",
    "\n",
    "MySQL está disponible en diferentes versiones y entornos:\n",
    "\n",
    "- **MySQL Community Edition**: Versión gratuita y de código abierto.\n",
    "- **MySQL Enterprise Edition**: Incluye características avanzadas como auditoría, encriptación y respaldo.\n",
    "- **MySQL Cloud Services**: Disponible en servicios en la nube como AWS RDS, Google Cloud SQL y Azure Database.\n",
    "\n",
    "## **3. Instalación y Configuración de MySQL**\n",
    "\n",
    "### **Instalación en Windows**\n",
    "1. Descarga MySQL desde el sitio oficial: [MySQL Downloads](https://dev.mysql.com/downloads/).\n",
    "2. Ejecuta el instalador y selecciona \"MySQL Server\" y \"MySQL Workbench\".\n",
    "3. Configura la autenticación y crea un usuario root.\n",
    "4. Finaliza la instalación y verifica con:\n",
    "   ```sh\n",
    "   mysql --version\n",
    "   ```\n",
    "\n",
    "### **Instalación en Linux (Ubuntu/Debian)**\n",
    "```sh\n",
    "sudo apt update\n",
    "sudo apt install mysql-server\n",
    "sudo systemctl start mysql\n",
    "sudo mysql_secure_installation\n",
    "```\n",
    "\n",
    "### **Instalación en MacOS (Homebrew)**\n",
    "```sh\n",
    "brew install mysql\n",
    "brew services start mysql\n",
    "```\n",
    "\n",
    "## **4. Conexión a MySQL desde Python**"
   ]
  },
  {
   "cell_type": "code",
   "execution_count": 4,
   "metadata": {},
   "outputs": [
    {
     "name": "stdout",
     "output_type": "stream",
     "text": [
      "Note: you may need to restart the kernel to use updated packages.Defaulting to user installation because normal site-packages is not writeable\n",
      "Collecting mysql.connector\n",
      "  Downloading mysql-connector-2.2.9.tar.gz (11.9 MB)\n",
      "     ---------------------------------------- 0.0/11.9 MB ? eta -:--:--\n",
      "     -- ------------------------------------- 0.8/11.9 MB 9.4 MB/s eta 0:00:02\n",
      "     --------------------------------------  11.8/11.9 MB 42.4 MB/s eta 0:00:01\n",
      "     --------------------------------------- 11.9/11.9 MB 39.8 MB/s eta 0:00:00\n",
      "  Installing build dependencies: started\n",
      "  Installing build dependencies: finished with status 'done'\n",
      "  Getting requirements to build wheel: started\n",
      "  Getting requirements to build wheel: finished with status 'done'\n",
      "  Preparing metadata (pyproject.toml): started\n",
      "  Preparing metadata (pyproject.toml): finished with status 'done'\n",
      "Building wheels for collected packages: mysql.connector\n",
      "  Building wheel for mysql.connector (pyproject.toml): started\n",
      "  Building wheel for mysql.connector (pyproject.toml): finished with status 'done'\n",
      "  Created wheel for mysql.connector: filename=mysql_connector-2.2.9-cp313-cp313-win_amd64.whl size=248023 sha256=3e7ce8d92d29d2396bff79fe40f4ca77754986fc2e4105e298676f31df87e643\n",
      "  Stored in directory: c:\\users\\j2a0a\\appdata\\local\\pip\\cache\\wheels\\4e\\c1\\23\\9423c444a75266a05275c80ebf5c6efe2368388e976b690a0f\n",
      "Successfully built mysql.connector\n",
      "Installing collected packages: mysql.connector\n",
      "Successfully installed mysql.connector-2.2.9\n",
      "\n"
     ]
    },
    {
     "name": "stderr",
     "output_type": "stream",
     "text": [
      "\n",
      "[notice] A new release of pip is available: 24.3.1 -> 25.0\n",
      "[notice] To update, run: python.exe -m pip install --upgrade pip\n"
     ]
    }
   ],
   "source": [
    "pip install mysql.connector"
   ]
  },
  {
   "cell_type": "code",
   "execution_count": 5,
   "metadata": {},
   "outputs": [],
   "source": [
    "import pymysql\n",
    "\n",
    "# Conectar a MySQL\n",
    "conexion = pymysql.connect(\n",
    "    host=\"localhost\",\n",
    "    user=\"root\",\n",
    "    password=\"root\",\n",
    "    charset=\"utf8mb4\",\n",
    "    cursorclass=pymysql.cursors.DictCursor  # Permite devolver resultados como diccionario\n",
    ")\n",
    "\n",
    "cursor = conexion.cursor()\n"
   ]
  },
  {
   "cell_type": "markdown",
   "metadata": {},
   "source": [
    "\n",
    "\n",
    "## **5. Creación de Base de Datos y Tablas**"
   ]
  },
  {
   "cell_type": "code",
   "execution_count": 6,
   "metadata": {},
   "outputs": [
    {
     "data": {
      "text/plain": [
       "0"
      ]
     },
     "execution_count": 6,
     "metadata": {},
     "output_type": "execute_result"
    }
   ],
   "source": [
    "cursor.execute(\"CREATE DATABASE PruebaSQL\")\n",
    "cursor.execute(\"USE PruebaSQL\")\n",
    "cursor.execute(\"\"\"\n",
    "CREATE TABLE usuarios (\n",
    "    id INT AUTO_INCREMENT PRIMARY KEY,\n",
    "    nombre VARCHAR(100),\n",
    "    email VARCHAR(100) UNIQUE,\n",
    "    edad INT\n",
    ")\n",
    "\"\"\")"
   ]
  },
  {
   "cell_type": "markdown",
   "metadata": {},
   "source": [
    "\n",
    "\n",
    "## **6. Operaciones CRUD (Crear, Leer, Actualizar, Eliminar)**\n"
   ]
  },
  {
   "cell_type": "code",
   "execution_count": 7,
   "metadata": {},
   "outputs": [
    {
     "name": "stdout",
     "output_type": "stream",
     "text": [
      "{'id': 1, 'nombre': 'Juan Pérez', 'email': 'juan.perez@example.com', 'edad': 30}\n"
     ]
    }
   ],
   "source": [
    "cursor.execute(\"\"\"\n",
    "INSERT INTO usuarios (nombre, email, edad)\n",
    "VALUES ('Juan Pérez', 'juan.perez@example.com', 30)\n",
    "\"\"\")\n",
    "conexion.commit()\n",
    "\n",
    "### Consultar Datos\n",
    "cursor.execute(\"SELECT * FROM usuarios\")\n",
    "for usuario in cursor.fetchall():\n",
    "    print(usuario)\n",
    "\n",
    "### Actualizar Datos\n",
    "cursor.execute(\"UPDATE usuarios SET edad = 31 WHERE nombre = 'Juan Pérez'\")\n",
    "conexion.commit()\n",
    "\n",
    "### Eliminar Datos\n",
    "cursor.execute(\"DELETE FROM usuarios WHERE nombre = 'Juan Pérez'\")\n",
    "conexion.commit()\n"
   ]
  },
  {
   "cell_type": "markdown",
   "metadata": {},
   "source": [
    "\n",
    "\n",
    "## **7. Índices y Optimización**"
   ]
  },
  {
   "cell_type": "code",
   "execution_count": 8,
   "metadata": {},
   "outputs": [
    {
     "data": {
      "text/plain": [
       "0"
      ]
     },
     "execution_count": 8,
     "metadata": {},
     "output_type": "execute_result"
    }
   ],
   "source": [
    "cursor.execute(\"CREATE INDEX idx_email ON usuarios(email)\")\n"
   ]
  },
  {
   "cell_type": "markdown",
   "metadata": {},
   "source": [
    "\n",
    "## **8. Casos de Uso de MySQL**\n",
    "- **Aplicaciones web y móviles**: Backend estructurado para gestión de usuarios y contenido.\n",
    "- **Sistemas financieros**: Manejo de transacciones seguras y consistentes.\n",
    "- **E-commerce**: Gestión de productos, clientes y pedidos.\n",
    "- **Análisis de datos**: Integración con herramientas de BI para reportes y métricas.\n",
    "\n",
    "## **9. Cierre de la Conexión**\n",
    "\n"
   ]
  },
  {
   "cell_type": "code",
   "execution_count": 9,
   "metadata": {},
   "outputs": [],
   "source": [
    "cursor.close()\n",
    "conexion.close()"
   ]
  }
 ],
 "metadata": {
  "kernelspec": {
   "display_name": "Python 3",
   "language": "python",
   "name": "python3"
  },
  "language_info": {
   "codemirror_mode": {
    "name": "ipython",
    "version": 3
   },
   "file_extension": ".py",
   "mimetype": "text/x-python",
   "name": "python",
   "nbconvert_exporter": "python",
   "pygments_lexer": "ipython3",
   "version": "3.13.1"
  }
 },
 "nbformat": 4,
 "nbformat_minor": 2
}
