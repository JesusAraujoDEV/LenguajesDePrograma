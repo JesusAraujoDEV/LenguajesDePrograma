{
 "cells": [
  {
   "cell_type": "markdown",
   "metadata": {},
   "source": [
    "### Documentación de Base de Datos Relacional (SQLite)\n",
    "\n",
    "---\n",
    "# **SQLite: Documentación Completa**\n",
    "\n",
    "\n",
    "## **1. ¿Qué es SQLite?**\n",
    "\n",
    "SQLite es una biblioteca en lenguaje C que implementa un motor de bases de datos SQL pequeño, rápido, autónomo, de alta fiabilidad y con todas las funcionalidades. Es el motor de bases de datos más utilizado en el mundo, ya que se integra en todos los teléfonos móviles, la mayoría de las computadoras y en innumerables aplicaciones que usamos a diario.\n",
    "\n",
    "El formato de archivo de SQLite es estable, multiplataforma y compatible hacia atrás. Los desarrolladores se han comprometido a mantener esta estabilidad hasta el año 2050, lo que la hace ideal para transferir contenido entre sistemas y para el archivo a largo plazo de datos. Se estima que existen más de 1 billón de bases de datos SQLite en uso activo.\n",
    "\n",
    "Además, el código fuente de SQLite está en dominio público, por lo que es completamente gratuito para cualquier propósito.\n",
    "\n",
    "\n",
    "SQLite ofrece diversas ventajas, entre las cuales destacan:\n",
    "\n",
    "- **Ligereza y ausencia de servidor:**  \n",
    "  No requiere la configuración de un servidor separado, ya que toda la base de datos se gestiona mediante un único archivo.\n",
    "\n",
    "- **Portabilidad:**  \n",
    "  El hecho de que la base de datos se almacene en un único archivo facilita su traslado, copia y respaldo entre diferentes sistemas.\n",
    "\n",
    "- **Estabilidad y compatibilidad:**  \n",
    "  Su formato es estable, multiplataforma y compatible con versiones anteriores. Los desarrolladores han garantizado esta estabilidad hasta al menos el año 2050.\n",
    "\n",
    "- **Alto rendimiento:**  \n",
    "  A pesar de su ligereza, SQLite ofrece un rendimiento excelente, siendo ideal para aplicaciones de escritorio, móviles y para la creación rápida de prototipos.\n",
    "\n",
    "- **Dominio público:**  \n",
    "  Al estar en dominio público, no existen restricciones de licencia, lo que permite su uso en cualquier tipo de proyecto sin costo adicional.\n",
    "\n",
    "- **Uso extendido:**  \n",
    "  Con más de 1 billón de bases de datos en uso en el mundo, su adopción masiva respalda su fiabilidad y robustez, además de contar con una amplia comunidad de soporte.\n",
    "\n",
    "\n",
    "---\n",
    "\n",
    "## **2. Instalación de SQLite**\n",
    "\n",
    "### En Windows\n",
    "\n",
    "1. **Descarga:**\n",
    "   - Visita la [página de descargas de SQLite](https://www.sqlite.org/download.html) y descarga el archivo ZIP que contenga los ejecutables precompilados (por ejemplo, `sqlite-tools-win32-x86-*.zip`).\n",
    "\n",
    "2. **Instalación:**\n",
    "   - Descomprime el archivo en una carpeta, por ejemplo: `C:\\sqlite`.\n",
    "   - Agrega esa carpeta a la variable de entorno `PATH` para poder ejecutar el comando `sqlite3` desde la línea de comandos.\n",
    "\n",
    "3. **Verificar:**\n",
    "   - Abre la terminal (CMD o PowerShell) y ejecuta:\n",
    "     ```bash\n",
    "     sqlite3 --version\n",
    "     ```\n",
    "\n",
    "### En macOS\n",
    "\n",
    "1. **Instalación mediante Homebrew:**\n",
    "   - Si tienes Homebrew instalado, abre la terminal y ejecuta:\n",
    "     ```bash\n",
    "     brew install sqlite\n",
    "     ```\n",
    "2. **Verificar:**\n",
    "   - Comprueba la instalación ejecutando:\n",
    "     ```bash\n",
    "     sqlite3 --version\n",
    "     ```\n",
    "   - Nota: macOS suele incluir una versión preinstalada de SQLite, aunque puede no ser la más actualizada.\n",
    "\n",
    "### En Linux\n",
    "\n",
    "La mayoría de las distribuciones Linux permiten instalar SQLite de manera sencilla:\n",
    "\n",
    "- **En Debian/Ubuntu:**\n",
    "  ```bash\n",
    "  sudo apt-get update\n",
    "  sudo apt-get install sqlite3\n",
    "  ```\n",
    "- **En Fedora:**\n",
    "  ```bash\n",
    "  sudo dnf install sqlite\n",
    "  ```\n",
    "- **En Arch Linux:**\n",
    "  ```bash\n",
    "  sudo pacman -S sqlite\n",
    "  ```\n",
    "\n",
    "Verifica la instalación ejecutando:\n",
    "```bash\n",
    "sqlite3 --version\n",
    "```\n",
    "\n",
    "---\n",
    "\n",
    "## **3. Conectar SQLite a Python**\n",
    "\n",
    "Python trae integrado el módulo `sqlite3`, lo que facilita la conexión y manipulación de bases de datos SQLite sin necesidad de instalar paquetes adicionales.\n",
    "\n",
    "### Ejemplo de conexión y operaciones básicas:"
   ]
  },
  {
   "cell_type": "code",
   "execution_count": 10,
   "metadata": {},
   "outputs": [],
   "source": [
    "import sqlite3\n",
    "\n",
    "# Conectar o crear la base de datos (se creará el archivo \"mi_base.db\" si no existe)\n",
    "conexion = sqlite3.connect(\"mi_base.db\")\n",
    "cursor = conexion.cursor()\n"
   ]
  },
  {
   "cell_type": "markdown",
   "metadata": {},
   "source": [
    "\n",
    "### Crear una tabla de ejemplo"
   ]
  },
  {
   "cell_type": "code",
   "execution_count": 2,
   "metadata": {},
   "outputs": [],
   "source": [
    "cursor.execute(\"\"\"\n",
    "    CREATE TABLE IF NOT EXISTS usuarios (\n",
    "        id INTEGER PRIMARY KEY AUTOINCREMENT,\n",
    "        nombre TEXT NOT NULL,\n",
    "        edad INTEGER NOT NULL\n",
    "    )\n",
    "\"\"\")\n",
    "conexion.commit()"
   ]
  },
  {
   "cell_type": "markdown",
   "metadata": {},
   "source": [
    "### Insertar datos"
   ]
  },
  {
   "cell_type": "code",
   "execution_count": 4,
   "metadata": {},
   "outputs": [],
   "source": [
    "cursor.execute(\"INSERT INTO usuarios (nombre, edad) VALUES (?, ?)\", (\"Jesus\", 19))\n",
    "conexion.commit()"
   ]
  },
  {
   "cell_type": "markdown",
   "metadata": {},
   "source": [
    "\n",
    "### Consultar datos\n"
   ]
  },
  {
   "cell_type": "code",
   "execution_count": 5,
   "metadata": {},
   "outputs": [
    {
     "name": "stdout",
     "output_type": "stream",
     "text": [
      "Usuarios: [(1, 'Juan', 25), (2, 'Jesus', 19)]\n"
     ]
    }
   ],
   "source": [
    "cursor.execute(\"SELECT * FROM usuarios\")\n",
    "usuarios = cursor.fetchall()\n",
    "print(\"Usuarios:\", usuarios)"
   ]
  },
  {
   "cell_type": "markdown",
   "metadata": {},
   "source": [
    "\n",
    "\n",
    "### Actualizar datos\n"
   ]
  },
  {
   "cell_type": "code",
   "execution_count": 6,
   "metadata": {},
   "outputs": [],
   "source": [
    "cursor.execute(\"UPDATE usuarios SET nombre = ? WHERE edad = ?\", (\"Leon\", 22))\n",
    "conexion.commit()"
   ]
  },
  {
   "cell_type": "markdown",
   "metadata": {},
   "source": [
    "\n",
    "\n",
    "### Eliminar datos\n"
   ]
  },
  {
   "cell_type": "code",
   "execution_count": 7,
   "metadata": {},
   "outputs": [],
   "source": [
    "cursor.execute(\"DELETE FROM usuarios WHERE nombre = ?\", (\"Leon\",))\n",
    "conexion.commit()"
   ]
  },
  {
   "cell_type": "markdown",
   "metadata": {},
   "source": [
    "\n",
    "\n",
    "### Cerrar la conexión\n"
   ]
  },
  {
   "cell_type": "code",
   "execution_count": 8,
   "metadata": {},
   "outputs": [],
   "source": [
    "conexion.close()"
   ]
  },
  {
   "cell_type": "markdown",
   "metadata": {},
   "source": [
    "\n",
    "---\n",
    "\n",
    "## **4. Consultas Básicas en SQLite**\n",
    "\n",
    "A continuación se muestran ejemplos de consultas básicas:\n",
    "\n",
    "### Crear una Tabla\n"
   ]
  },
  {
   "cell_type": "code",
   "execution_count": 12,
   "metadata": {},
   "outputs": [],
   "source": [
    "cursor.execute(\"\"\"\n",
    "    CREATE TABLE IF NOT EXISTS frutas_del_diablo (\n",
    "        id INTEGER PRIMARY KEY AUTOINCREMENT,\n",
    "        nombre TEXT NOT NULL,\n",
    "        tipo TEXT NOT NULL\n",
    "    )\n",
    "\"\"\")\n",
    "conexion.commit()"
   ]
  },
  {
   "cell_type": "markdown",
   "metadata": {},
   "source": [
    "\n",
    "\n",
    "### Insertar Datos\n",
    "\n"
   ]
  },
  {
   "cell_type": "code",
   "execution_count": 13,
   "metadata": {},
   "outputs": [],
   "source": [
    "cursor.execute(\"INSERT INTO frutas_del_diablo (nombre, tipo) VALUES (?, ?)\", (\"Gomu Gomu\", \"Paramesia\"))\n",
    "conexion.commit()"
   ]
  },
  {
   "cell_type": "markdown",
   "metadata": {},
   "source": [
    "\n",
    "### Consultar Datos\n"
   ]
  },
  {
   "cell_type": "code",
   "execution_count": 14,
   "metadata": {},
   "outputs": [
    {
     "name": "stdout",
     "output_type": "stream",
     "text": [
      "(1, 'Gomu Gomu', 'Paramesia')\n"
     ]
    }
   ],
   "source": [
    "cursor.execute(\"SELECT * FROM frutas_del_diablo\")\n",
    "frutas = cursor.fetchall()\n",
    "for fruta in frutas:\n",
    "    print(fruta)"
   ]
  },
  {
   "cell_type": "markdown",
   "metadata": {},
   "source": [
    "\n",
    "\n",
    "### Actualizar Datos\n"
   ]
  },
  {
   "cell_type": "code",
   "execution_count": 15,
   "metadata": {},
   "outputs": [],
   "source": [
    "cursor.execute(\"UPDATE frutas_del_diablo SET tipo = ? WHERE nombre = ?\", (\"Zoan\", \"Gomu Gomu\"))\n",
    "conexion.commit()"
   ]
  },
  {
   "cell_type": "markdown",
   "metadata": {},
   "source": [
    "\n",
    "### Eliminar Datos\n",
    "\n"
   ]
  },
  {
   "cell_type": "code",
   "execution_count": 16,
   "metadata": {},
   "outputs": [],
   "source": [
    "cursor.execute(\"DELETE FROM frutas_del_diablo WHERE nombre = ?\", (\"Gomu Gomu\",))\n",
    "conexion.commit()"
   ]
  }
 ],
 "metadata": {
  "kernelspec": {
   "display_name": "Python 3",
   "language": "python",
   "name": "python3"
  },
  "language_info": {
   "codemirror_mode": {
    "name": "ipython",
    "version": 3
   },
   "file_extension": ".py",
   "mimetype": "text/x-python",
   "name": "python",
   "nbconvert_exporter": "python",
   "pygments_lexer": "ipython3",
   "version": "3.13.1"
  }
 },
 "nbformat": 4,
 "nbformat_minor": 2
}
