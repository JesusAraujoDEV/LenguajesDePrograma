{
 "cells": [
  {
   "cell_type": "markdown",
   "metadata": {},
   "source": [
    "<h1 style=\"text-align: center; font-weight: bold;\">Más Datos Acerca de las Bases de Datos</h1>\n",
    "   \n",
    "\n",
    "<center><img src=\"./SQL/BD.jpg\" alt=\"BD image\" width=\"700\"></center>\n",
    "\n",
    "---"
   ]
  },
  {
   "cell_type": "markdown",
   "metadata": {},
   "source": [
    "## **1. ORM (Object-Relational Mapping)**\n",
    "\n",
    "ORM (Mapeo Objeto-Relacional) es una técnica usada para crear una conexión entre programas orientados a objetos y base de datos relacionales, permitiendo manipular datos de una base de datos utilizando un paradigma orientado a objetos\n",
    "\n",
    "Una herramienta ORM es una libreria común escrita en el lenguaje que necesites, ofreciendo el código necesario para manipular los datos sin tener que usar SQL.\n",
    "\n",
    "El siguiente es un ejemplo de petición en SQL para obtener información sobre un usuario génerico por su id en una base de datos:\n",
    "\n",
    "``\"SELECT id, name, email, country, phone_number FROM users WHERE id = 20\" ``\n",
    "\n",
    "Mientras que con una herramienta ORM se puede hacer la misma petición con métodos más simples, como:\n",
    "\n",
    "``users.GetById(20)``\n",
    "\n",
    "#### **Ventajas de usar herramientas ORM**\n",
    "\n",
    "- **DRY (Don´t Repeat Yourself):**permite escribir todo los modelos de datos en un solo lugar, haciendolo más fácil de actualizar, arreglar y reutilizar el código.\n",
    "\n",
    "- Te obliga a escribir código basado en la estructura MVC (Modelo-Vista-Controlador), lo que hace el código más eficiente.\n",
    "\n",
    "- Ofrece mayor seguridad, ya que están hechos para eliminar la posibilidad de ataques por inyección SQL.\n",
    "\n",
    "- Permite utilizar las ventajas de programación orientada a objetos como la herencia.\n",
    "\n",
    "- Menos líneas de códigos y menos costo de desarollo.\n",
    "\n",
    "#### **Desventajas de usar herramientas ORM**\n",
    "\n",
    "- Puede tomar tiempo en aprender a usar las herramientas ORM eficientemente.\n",
    "\n",
    "- Su rendimiento para consultas comúnes es muy bueno, pero en proyectos grandes es comúnmente utilizado SQL puro.\n",
    "\n",
    "- No son tan eficientes con consultas complejas.\n",
    "\n",
    "\n",
    "### **Donde aprender ORM?**\n",
    " **Java:** \n",
    "- Hibernate\n",
    "- Apache OpenJPA\n",
    "\n",
    " **Python:**\n",
    "- Django (Framework)\n",
    "- SQLAlchemy\n",
    "\n",
    " **PHP:**\n",
    "- Propel\n",
    "- Symfony (Framework)\n",
    "\n",
    "Entonces con esta breve guía espero que hayas aprendido sobre ORM o Mapeo Objeto-Relacional para usar Programas con POO junto a base de datos relacionales.\n",
    "\n",
    "--- "
   ]
  }
 ],
 "metadata": {
  "kernelspec": {
   "display_name": "Python 3",
   "language": "python",
   "name": "python3"
  },
  "language_info": {
   "codemirror_mode": {
    "name": "ipython",
    "version": 3
   },
   "file_extension": ".py",
   "mimetype": "text/x-python",
   "name": "python",
   "nbconvert_exporter": "python",
   "pygments_lexer": "ipython3",
   "version": "3.13.2"
  }
 },
 "nbformat": 4,
 "nbformat_minor": 2
}
