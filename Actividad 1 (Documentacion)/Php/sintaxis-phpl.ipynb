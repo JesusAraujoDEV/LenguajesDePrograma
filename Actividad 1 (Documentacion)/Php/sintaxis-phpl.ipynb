{
 "cells": [
  {
   "cell_type": "markdown",
   "metadata": {},
   "source": [
    "## Crear una variable"
   ]
  },
  {
   "cell_type": "markdown",
   "metadata": {},
   "source": [
    "Para crear una variable en php se utliza el signo del dolar ($), seguido del nombre de la variable y se igualo al respectivo valor que queramos. No es necesario especificar eltipo de dato porque php es un lenguaje de tipado dinamico. "
   ]
  },
  {
   "cell_type": "markdown",
   "metadata": {},
   "source": [
    "Sintaxis:\n",
    "\n",
    "```php\n",
    "<?php\n",
    "\n",
    "    $nombre_de_variable = valor;\n",
    "    \n",
    "?>\n"
   ]
  },
  {
   "cell_type": "markdown",
   "metadata": {},
   "source": [
    "Donde: \n",
    "- `$`: Indica que estás declarando una variable.\n",
    "- `nombre_de_variable`: El identificador que usas para referenciar la variable (debe seguir las reglas de nomenclatura).\n",
    "- `=`: Operador de asignación.\n",
    "- `valor`: El dato que quieres almacenar en la variable.\n"
   ]
  },
  {
   "cell_type": "markdown",
   "metadata": {},
   "source": [
    "## Tipos de datos"
   ]
  },
  {
   "cell_type": "markdown",
   "metadata": {},
   "source": [
    "### String (cadena de texto)\n",
    "\n",
    "Almacena texto, delimitado por comillas simples (') o dobles (\")."
   ]
  },
  {
   "cell_type": "markdown",
   "metadata": {},
   "source": [
    "Sintaxis:\n",
    "\n",
    "```php\n",
    "<?php\n",
    "\n",
    "    $cadena = \"Hola, mundo\";  // Usando comillas dobles\n",
    "    $otraCadena = 'PHP es genial';  // Usando comillas simples\n",
    "    \n",
    "?>\n",
    "\n"
   ]
  },
  {
   "cell_type": "markdown",
   "metadata": {},
   "source": [
    "### Integer (entero)\n",
    "Almacena números enteros (positivos, negativos o cero). Tiene un maximo de 64 bits\n"
   ]
  },
  {
   "cell_type": "markdown",
   "metadata": {},
   "source": [
    "Sintaxis:\n",
    "\n",
    "```php\n",
    "<?php\n",
    "\n",
    "    $enteroPositivo = 42;\n",
    "    $enteroNegativo = -15;\n",
    "    \n",
    "?>\n"
   ]
  },
  {
   "cell_type": "markdown",
   "metadata": {},
   "source": [
    "### Float (punto flotante o número decimal)\n",
    "\n",
    "Almacena números con punto decimal o en notación científica.\n",
    "\n"
   ]
  },
  {
   "cell_type": "markdown",
   "metadata": {},
   "source": [
    "Sintaxis:\n",
    "\n",
    "```php\n",
    "<?php\n",
    "\n",
    "    $precio = 19.99;\n",
    "    $gravedad = 9.8e-2;\n",
    "    \n",
    "?>\n"
   ]
  },
  {
   "cell_type": "markdown",
   "metadata": {},
   "source": [
    "### Boolean (booleano)\n",
    "\n",
    "Solo puede tener dos valores: true (verdadero) o false (falso)."
   ]
  },
  {
   "cell_type": "markdown",
   "metadata": {},
   "source": [
    "Sintaxis:  \n",
    "\n",
    "```php\n",
    "<?php\n",
    "\n",
    "    $esVerdad = true;\n",
    "    $esFalso = false;\n",
    "    \n",
    "?>\n"
   ]
  },
  {
   "cell_type": "markdown",
   "metadata": {},
   "source": [
    "### Array\n",
    "\n",
    "Un arreglo puede almacenar múltiples valores, indexados numéricamente o por claves asociativas.\n",
    "\n"
   ]
  },
  {
   "cell_type": "markdown",
   "metadata": {},
   "source": [
    "Sintaxis:\n",
    "\n",
    "- Arreglo indexado:\n",
    "\n",
    "```php\n",
    "<?php\n",
    "\n",
    "    $frutas = [\"manzana\", \"banana\", \"cereza\"];\n",
    "    \n",
    "?>"
   ]
  },
  {
   "cell_type": "markdown",
   "metadata": {
    "vscode": {
     "languageId": "plaintext"
    }
   },
   "source": [
    "\n",
    "- Arreglo asociativo:\n",
    "\n",
    "```php\n",
    "<?php\n",
    "\n",
    "    $persona = [\n",
    "    \"nombre\" => \"Juan\",\n",
    "    \"edad\" => 25,\n",
    "    \"pais\" => \"México\"\n",
    "];\n",
    "    \n",
    "?>\n"
   ]
  },
  {
   "cell_type": "markdown",
   "metadata": {},
   "source": [
    "### Null\n",
    "\n",
    "Representa una variable sin valor. Es el valor predeterminado para variables no inicializadas.\n",
    "\n"
   ]
  },
  {
   "cell_type": "markdown",
   "metadata": {},
   "source": [
    "Sintaxis:\n",
    "\n",
    "```php\n",
    "<?php\n",
    "\n",
    "    $variable = NULL;\n",
    "    \n",
    "?>\n"
   ]
  },
  {
   "cell_type": "markdown",
   "metadata": {},
   "source": [
    "## Estructuras de control\n",
    "\n",
    "Las estructuras de control en PHP permiten modificar el flujo de ejecución de un programa según ciertas condiciones o repeticiones.\n",
    "\n"
   ]
  },
  {
   "cell_type": "markdown",
   "metadata": {},
   "source": [
    "### if\n",
    "Se ejecuta un bloque de código si la condición es verdadera.\n"
   ]
  },
  {
   "cell_type": "markdown",
   "metadata": {},
   "source": [
    "Sintaxis:\n",
    "\n",
    "```php\n",
    "<?php\n",
    "\n",
    "if (condicion) {  \n",
    "    // codigo del if\n",
    "}\n",
    "\n",
    "?>"
   ]
  },
  {
   "cell_type": "markdown",
   "metadata": {},
   "source": [
    "Donde:\n",
    "\n",
    "- `condicion`: es una expresion que tiene que ser un valor booleano, ya sea true o false. Esta sera la condicion para que el bloque asociado al if se ejecute"
   ]
  },
  {
   "cell_type": "markdown",
   "metadata": {},
   "source": [
    "\n",
    "### if-else\n",
    "\n",
    "Permite definir una acción alternativa si la condición no se cumple.\n"
   ]
  },
  {
   "cell_type": "markdown",
   "metadata": {},
   "source": [
    "Sintaxis:\n",
    "\n",
    "```php\n",
    "<?php\n",
    "\n",
    "if (condicion) {  \n",
    "    // codigo del if\n",
    "} else {\n",
    "    // codigo alternativo\n",
    "}\n",
    "\n",
    "?>"
   ]
  },
  {
   "cell_type": "markdown",
   "metadata": {},
   "source": [
    "### if-elseif-else\n",
    "\n",
    "Permite comprobar múltiples condiciones.\n"
   ]
  },
  {
   "cell_type": "markdown",
   "metadata": {},
   "source": [
    "Sintaxis:\n",
    "\n",
    "```php\n",
    "<?php\n",
    "\n",
    "if (condicion1) {  \n",
    "    // codigo del if\n",
    "} elseif (condicion2) {\n",
    "    // codigo del elseif\n",
    "} else {\n",
    "    // codigo alternativo \n",
    "}\n",
    "\n",
    "?>"
   ]
  },
  {
   "cell_type": "markdown",
   "metadata": {},
   "source": [
    "### While\n",
    "\n",
    "Ejecuta un bloque de código mientras una condición sea verdadera.\n",
    "\n"
   ]
  },
  {
   "cell_type": "markdown",
   "metadata": {},
   "source": [
    "Sintaxis:\n",
    "\n",
    "```php\n",
    "<?php\n",
    "\n",
    "while (condicion) {\n",
    "    // codigo del while\n",
    "}\n",
    "\n",
    "?>"
   ]
  },
  {
   "cell_type": "markdown",
   "metadata": {},
   "source": [
    "### for\n",
    "\n",
    "Los bucles for en php son estructuras iterativas que se suelen utilizar cuando se conoce de antemano el número de iteraciones.\n"
   ]
  },
  {
   "cell_type": "markdown",
   "metadata": {},
   "source": [
    "Sintaxis:\n",
    "\n",
    "```php\n",
    "<?php\n",
    "\n",
    "for (expr1; expr2; expr3) {\n",
    "    // codigo for\n",
    "}\n",
    "\n",
    "?>"
   ]
  },
  {
   "cell_type": "markdown",
   "metadata": {},
   "source": [
    "Donde:\n",
    "\n",
    "- `expre1`: es evaluada (ejecutada) una vez incondicionalmente al comienzo del bucle \n",
    "\n",
    "- `expre2`: es evaluada en el comienzo de cada iteracion. Si se evalúa como `true`, el bucle continúa y se ejecutan la sentencia anidada. Si se evalúa como `false`, finaliza la ejecución del bucle. \n",
    "\n",
    "- `expre3`: es evaluada al final de cada iteracion"
   ]
  },
  {
   "cell_type": "markdown",
   "metadata": {},
   "source": [
    "## Funciones\n",
    "En PHP, una función es un bloque de código reutilizable que se puede ejecutar solo cuando se le llama. Las funciones permiten organizar el código, evitar la repetición y hacer que el programa sea más modular y fácil de mantener."
   ]
  },
  {
   "cell_type": "markdown",
   "metadata": {},
   "source": [
    "### Declaración de una función\n",
    "\n",
    "Sintaxis:\n",
    "\n",
    "```php\n",
    "<?php\n",
    "\n",
    "function nombre_de_la_funcion( $parametro1, $parametro2, ... , $parametroN) {\n",
    "    // Código de la funcion\n",
    "}\n",
    "\n",
    "?>"
   ]
  },
  {
   "cell_type": "markdown",
   "metadata": {},
   "source": [
    "Donde:\n",
    "\n",
    "- `funcion`:  Es la palabra clave para declarar una función.  \n",
    "- `nombre_de_la_funcion`: Es el nombre de la función, que debe seguir las reglas de nomenclatura (empezar con una letra o guion bajo y luego usar letras, números o guiones bajos).  \n",
    "- `parametroI`: Son los parametros de la funcion que se colocan dentro de los parentesis en la declaracion de la funcion. Una funcion puede tener un parametro, multiples parametros o incluso ningun parametro (en este caso los parentesis irian vacios)\n"
   ]
  },
  {
   "cell_type": "markdown",
   "metadata": {},
   "source": [
    "### Llamar a una función\n",
    "\n",
    "Una vez declarada una función, se puede llamar en cualquier lugar del código donde sea accesible."
   ]
  },
  {
   "cell_type": "markdown",
   "metadata": {},
   "source": [
    "Sintaxis:\n",
    "\n",
    "```php\n",
    "<?php\n",
    "\n",
    "nombre_de_la_funcion(parametro1, parametro2, ... , parametroN);\n",
    "\n",
    "?>"
   ]
  }
 ],
 "metadata": {
  "language_info": {
   "name": "python"
  }
 },
 "nbformat": 4,
 "nbformat_minor": 2
}
