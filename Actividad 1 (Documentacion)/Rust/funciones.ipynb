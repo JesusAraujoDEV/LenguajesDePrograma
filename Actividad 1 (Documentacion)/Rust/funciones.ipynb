{
 "cells": [
  {
   "cell_type": "markdown",
   "metadata": {},
   "source": [
    "<h2><b>3. Funciones</b></h2>\n",
    "\n",
    "En Rust, las funciones son fundamentales para la organización y modularidad del código. A continuación, se detallan los aspectos clave sobre cómo definir y utilizar funciones en Rust, junto con ejemplos ilustrativos."
   ]
  },
  {
   "cell_type": "markdown",
   "metadata": {},
   "source": [
    "<h4><b>Definición de Funciones</b></h4>\n",
    "\n",
    "Una función en Rust se define utilizando la palabra clave <b>fn</b>, seguida del nombre de la función, una lista de parámetros entre paréntesis y un bloque de código entre llaves.\n",
    "\n",
    "<b>Estructura base:</b>"
   ]
  },
  {
   "cell_type": "code",
   "execution_count": null,
   "metadata": {},
   "outputs": [],
   "source": [
    "fn nombre_de_la_funcion(parametro1: Tipo1, parametro2: Tipo2) -> TipoDeRetorno {\n",
    "    // Cuerpo de la función\n",
    "}"
   ]
  },
  {
   "cell_type": "markdown",
   "metadata": {},
   "source": [
    "<b>Ejemplos:</b>"
   ]
  },
  {
   "cell_type": "code",
   "execution_count": null,
   "metadata": {},
   "outputs": [],
   "source": [
    "fn sumar(a: i32, b: i32) -> i32 {\n",
    "    a + b\n",
    "}\n",
    "\n",
    "let resultado = sumar(2, 3);\n",
    "println!(\"El resultado es: {}\", resultado);"
   ]
  },
  {
   "cell_type": "code",
   "execution_count": null,
   "metadata": {},
   "outputs": [],
   "source": [
    "fn main() {\n",
    "    let resultado = sumar(2, 3);\n",
    "    println!(\"El resultado es: {}\", resultado);\n",
    "}\n",
    "main();"
   ]
  }
 ],
 "metadata": {
  "kernelspec": {
   "display_name": "Rust",
   "language": "rust",
   "name": "rust"
  },
  "language_info": {
   "codemirror_mode": "rust",
   "file_extension": ".rs",
   "mimetype": "text/rust",
   "name": "rust",
   "pygment_lexer": "rust",
   "version": ""
  }
 },
 "nbformat": 4,
 "nbformat_minor": 2
}
