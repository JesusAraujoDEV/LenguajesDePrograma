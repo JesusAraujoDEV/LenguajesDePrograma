{
 "cells": [
  {
   "cell_type": "markdown",
   "metadata": {},
   "source": [
    "<h2><b>2. Tipos de datos</b></h2>\n",
    "\n",
    "Rust es un lenguaje de programación con un sistema de tipos estático, lo que significa que el tipo de cada variable debe ser conocido en tiempo de compilación. Los tipos de datos en Rust se dividen principalmente en tipos escalares y tipos compuestos."
   ]
  },
  {
   "cell_type": "markdown",
   "metadata": {},
   "source": [
    "<h3><b>Tipos Escalares</b></h3>\n",
    "\n",
    "Los tipos escalares representan un único valor y son fundamentales para trabajar con datos básicos. Rust tiene cuatro tipos escalares principales:"
   ]
  },
  {
   "cell_type": "markdown",
   "metadata": {},
   "source": [
    "<h4><b>Enteros</b></h4>\n",
    "\n",
    "Los valores enteros tienen un rango de tamanos desde 8bits a 128bits y se diferencian entre enteros con o sin signo."
   ]
  },
  {
   "cell_type": "code",
   "execution_count": null,
   "metadata": {
    "vscode": {
     "languageId": "rust"
    }
   },
   "outputs": [],
   "source": [
    "let variable_sin_signo: u8 = 255;\n",
    "let variable_con_signo: i64 = -2_147_483_648;\n",
    "println!(\"{variable_sin_signo} {variable_con_signo}\");"
   ]
  },
  {
   "cell_type": "markdown",
   "metadata": {},
   "source": [
    "<h4><b>Floats</b></h4>\n",
    "\n",
    "En el caso de los floats solo tenemos f32 y f64."
   ]
  },
  {
   "cell_type": "code",
   "execution_count": null,
   "metadata": {
    "vscode": {
     "languageId": "rust"
    }
   },
   "outputs": [],
   "source": [
    "let float32: f32 = 255.0;\n",
    "let float64: f64 = -2_147_483_647.2_147_483;"
   ]
  },
  {
   "cell_type": "markdown",
   "metadata": {},
   "source": [
    "<h4><b>Booleanos</b></h4>\n",
    "\n",
    "Representan un valor verdadero o falso, utilizando el tipo bool. Los booleanos ocupan un byte."
   ]
  },
  {
   "cell_type": "code",
   "execution_count": null,
   "metadata": {
    "vscode": {
     "languageId": "rust"
    }
   },
   "outputs": [],
   "source": [
    "let verdadero: bool = true;\n",
    "let falso: bool = false;"
   ]
  },
  {
   "cell_type": "markdown",
   "metadata": {},
   "source": [
    "<h4><b>Caracteres</b></h4>\n",
    "\n",
    "El tipo char representa un único carácter Unicode y ocupa cuatro bytes."
   ]
  },
  {
   "cell_type": "code",
   "execution_count": 14,
   "metadata": {
    "vscode": {
     "languageId": "rust"
    }
   },
   "outputs": [],
   "source": [
    "let character: char = 'a';"
   ]
  },
  {
   "cell_type": "markdown",
   "metadata": {},
   "source": [
    "<h3><b>Tipos Compuestos</b></h3>\n",
    "\n",
    "Los tipos compuestos permiten agrupar múltiples valores en un solo tipo. En Rust, los tipos compuestos más comunes son:"
   ]
  },
  {
   "cell_type": "markdown",
   "metadata": {},
   "source": [
    "<h4><b>Tuplas</b></h4>\n",
    "\n",
    "Agrupan varios valores de diferentes tipos en una sola entidad. Las tuplas tienen una longitud fija; una vez definidas, no pueden cambiar su tamaño. "
   ]
  },
  {
   "cell_type": "code",
   "execution_count": null,
   "metadata": {
    "vscode": {
     "languageId": "rust"
    }
   },
   "outputs": [],
   "source": [
    "let tupla: (i32, f64, char) = (500, 6.4, 'a');\n",
    "println!(\"El primer valor es: {}\", tupla.0);\n",
    "println!(\"El segundo valor es: {}\", tupla.1);\n",
    "println!(\"El tercer valor es: {}\", tupla.2);"
   ]
  },
  {
   "cell_type": "markdown",
   "metadata": {},
   "source": [
    "<h4><b>Arreglos</b></h4>\n",
    "\n",
    "Colecciones de elementos del mismo tipo con un tamaño fijo. A diferencia de las tuplas, todos los elementos deben ser del mismo tipo. "
   ]
  },
  {
   "cell_type": "code",
   "execution_count": null,
   "metadata": {
    "vscode": {
     "languageId": "rust"
    }
   },
   "outputs": [],
   "source": [
    "let arr = [1, 2, 3];\n",
    "println!(\"El primer elemento es: {}\", arr[0]);\n",
    "println!(\"El segundo elemento es: {}\", arr[1]);\n",
    "println!(\"El tercer elemento es: {}\", arr[2]);"
   ]
  }
 ],
 "metadata": {
  "kernelspec": {
   "display_name": "Rust",
   "language": "rust",
   "name": "rust"
  },
  "language_info": {
   "codemirror_mode": "rust",
   "file_extension": ".rs",
   "mimetype": "text/rust",
   "name": "Rust",
   "pygment_lexer": "rust",
   "version": ""
  }
 },
 "nbformat": 4,
 "nbformat_minor": 2
}
