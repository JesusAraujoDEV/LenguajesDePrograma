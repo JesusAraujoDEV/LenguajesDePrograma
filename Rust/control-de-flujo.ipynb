{
 "cells": [
  {
   "cell_type": "markdown",
   "metadata": {},
   "source": [
    "<h2><b>4. Control de flujo</b></h2>"
   ]
  },
  {
   "cell_type": "markdown",
   "metadata": {},
   "source": [
    "<h3><b>Condicionales:</b></h3>"
   ]
  },
  {
   "cell_type": "code",
   "execution_count": null,
   "metadata": {
    "vscode": {
     "languageId": "rust"
    }
   },
   "outputs": [],
   "source": [
    "let numero = 10;\n",
    "\n",
    "if numero < 0 {\n",
    "    println!(\"El número es negativo.\");\n",
    "} else if numero == 0 {\n",
    "    println!(\"El número es cero.\");\n",
    "} else {\n",
    "    println!(\"El número es positivo.\");\n",
    "}"
   ]
  },
  {
   "cell_type": "markdown",
   "metadata": {},
   "source": [
    "<h3><b>Bucles</b></h3>"
   ]
  },
  {
   "cell_type": "markdown",
   "metadata": {},
   "source": [
    "<h4><b>loop</b></h4>\n",
    "\n",
    "La declaración loop crea un bucle infinito hasta que se interrumpe con una instrucción break."
   ]
  },
  {
   "cell_type": "code",
   "execution_count": null,
   "metadata": {
    "vscode": {
     "languageId": "rust"
    }
   },
   "outputs": [],
   "source": [
    "let mut contador = 0;\n",
    "\n",
    "loop {\n",
    "    contador += 1;\n",
    "    println!(\"Contador: {}\", contador);\n",
    "    \n",
    "    if contador >= 5 {\n",
    "        break;\n",
    "    }\n",
    "}"
   ]
  },
  {
   "cell_type": "markdown",
   "metadata": {
    "vscode": {
     "languageId": "rust"
    }
   },
   "source": [
    "<h4><b>while</b></h4>\n",
    "\n",
    "El bucle while ejecuta su bloque de código mientras una condición sea verdadera. "
   ]
  },
  {
   "cell_type": "code",
   "execution_count": null,
   "metadata": {
    "vscode": {
     "languageId": "rust"
    }
   },
   "outputs": [],
   "source": [
    "let mut contador = 0;\n",
    "\n",
    "    while contador < 5 {\n",
    "        println!(\"Contador: {}\", contador);\n",
    "        contador += 1; \n",
    "    }"
   ]
  },
  {
   "cell_type": "markdown",
   "metadata": {},
   "source": [
    "<h4><b>for</b></h4>\n",
    "\n",
    "El bucle for se utiliza para iterar sobre elementos en colecciones, como arreglos o rangos."
   ]
  },
  {
   "cell_type": "code",
   "execution_count": null,
   "metadata": {
    "vscode": {
     "languageId": "rust"
    }
   },
   "outputs": [],
   "source": [
    "let numeros = [1, 2, 3, 4, 5];\n",
    "\n",
    "for numero in numeros.iter() {\n",
    "    println!(\"Número: {}\", numero);\n",
    "}\n",
    "\n",
    "for i in 0..5 { \n",
    "    println!(\"Índice: {}\", i);\n",
    "}"
   ]
  }
 ],
 "metadata": {
  "kernelspec": {
   "display_name": "Rust",
   "language": "rust",
   "name": "rust"
  },
  "language_info": {
   "codemirror_mode": "rust",
   "file_extension": ".rs",
   "mimetype": "text/rust",
   "name": "Rust",
   "pygment_lexer": "rust",
   "version": ""
  }
 },
 "nbformat": 4,
 "nbformat_minor": 2
}
